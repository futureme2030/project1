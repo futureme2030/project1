{
  "nbformat": 4,
  "nbformat_minor": 0,
  "metadata": {
    "colab": {
      "provenance": [],
      "collapsed_sections": [
        "r4Q1qjdrcny1",
        "vZFAD76cKft6",
        "3l-AVAMRUhFU",
        "amC_PQBvU0HL",
        "ZiSVuO5LXduh",
        "pv0h145Ab0Db",
        "IRQQg9yOTn5q",
        "cADNTrQmNZiv",
        "QuwwBjHWkXxf",
        "jtt8Zx2Kkahq",
        "N-pVVOOnKRu6",
        "G6WLUwCeu5Yx"
      ],
      "authorship_tag": "ABX9TyN2D1X4OaWtJLmQxGrC9ACz",
      "include_colab_link": true
    },
    "kernelspec": {
      "name": "python3",
      "display_name": "Python 3"
    },
    "language_info": {
      "name": "python"
    }
  },
  "cells": [
    {
      "cell_type": "markdown",
      "metadata": {
        "id": "view-in-github",
        "colab_type": "text"
      },
      "source": [
        "<a href=\"https://colab.research.google.com/github/futureme2030/project1/blob/main/check_data.ipynb\" target=\"_parent\"><img src=\"https://colab.research.google.com/assets/colab-badge.svg\" alt=\"Open In Colab\"/></a>"
      ]
    },
    {
      "cell_type": "markdown",
      "source": [
        "# 데이터 분석과정: 문제 정의, 가설 설정, 가설 확인 with Data, 해결책 도출\n",
        "### what-how-why << why-how-what \n",
        "#### 그러나 이 프로젝트의 시작은 what이 주어진 상태 \n",
        "1. **WHY** - 자원 고갈, 지구 온난화, 넘쳐나는 폐기물로 지구가 몸살을 앓고 있다. 그렇기에 이 문제를 해결해야 한다, **왜?** 우리 모두를 위해서. <br/>\n",
        "패션산업이 환경에 미치는 영향이 광범위한데 생존의 도구로써의 패션이 아닌 자기 표현의 도구로써의 패션이 만연한 현재, <U>**\"어떻게\" 웹 서비스로 패션산업의 과잉생산 관행을 깨뜨릴 수 있을까?**</U>\n",
        " - 환경 오염을 일으키는 주체는 개인과 기업 (기본적으로 인간의 모든 행동은 환경을 파괴한다)\n",
        " - 기업의 행동과 개인의 행동을 모두 변화시키기 위한 방법은 무엇이 있을까? 기업들이 과잉생산을 하는 이유는 많이 팔기 위해서이다. 팔고 남으면 세일을 해서 2년 정도 팔고, 재고를 보관하는 비용이 판매를 해서 남는 이익보다 더 크면 폐기를 한다.\n",
        " - 이 고리에서 중요한 것은 '수요' 즉, '소비'이다.\n",
        " - 우리의 서비스가 개인의 수요를 줄일 수 있다면, 기업은 과잉생산의 관행을 멈출 수 있다. 이는 불필요한 자원 폐기도 막을 수 있다.\n",
        "2. **HOW** - 그렇다면 \"어떻게\" 개인의 패션 수요를 줄일 수 있을까?\n",
        "- 개인은 환경문제에 관심이 있나?\n",
        "- 개인은 환경문제를 해결하고 싶어하나?\n",
        "- 개인은 환경문제를 해결하기 위해 어떤 행동을 하고 있나?\n",
        "- 그들은 어떤 어려움을 겪고 있나? <br/>\n",
        "> **우리가 풀고 싶은 문제는 환경문제이지만, 이는 곧 환경에 관심이 있는 사람들이 우리 서비스의 잠재적 유저가 될 것, 철저히 유저의 painpoint를 짚어내는 것이 중요** <br/>\n",
        "> \"Make it Easy\"\n",
        "\n",
        "3. **WHAT** - 무엇을 할 수 있을지 파악하기 위해서는 데이터를 통해서 위의 질문들에 답을 내리는 것이 필요\n",
        "\n",
        "\n",
        "\n",
        " \n"
      ],
      "metadata": {
        "id": "ynKx_CfCjroa"
      }
    },
    {
      "cell_type": "markdown",
      "source": [
        "# 1. 데이터 읽기\n"
      ],
      "metadata": {
        "id": "e1JYtKsprsff"
      }
    },
    {
      "cell_type": "markdown",
      "source": [
        "1.1. 필요한 라이브러리 불러오기"
      ],
      "metadata": {
        "id": "IYS1owNLrJqn"
      }
    },
    {
      "cell_type": "code",
      "execution_count": null,
      "metadata": {
        "id": "-gfoJSkwp6aD"
      },
      "outputs": [],
      "source": [
        "import numpy as np\n",
        "import pandas as pd\n",
        "import seaborn as sns\n",
        "import matplotlib.pyplot as plt\n",
        "%matplotlib inline"
      ]
    },
    {
      "cell_type": "markdown",
      "source": [
        "1.2. 데이터 kei에 불러오기\n",
        "\n",
        "처음 '파일'탭을 누르면 content폴더 안을 보여준다. 따라서 파일을 불러올 때, '/content/data.csv' 이런식으로 경로 설정이 들어간다.` 이때, content 디렉토리명 앞에 './'가 아니라 '/'인 점을 유의한다"
      ],
      "metadata": {
        "id": "FqjFQSWHr_1w"
      }
    },
    {
      "cell_type": "code",
      "source": [
        "data = pd.read_csv('/content/KEIsurvey2021.csv')\n",
        "kei = data"
      ],
      "metadata": {
        "id": "9d9skizJrITO",
        "colab": {
          "base_uri": "https://localhost:8080/"
        },
        "outputId": "ac5cff8b-02cf-4b7b-91ad-3de6b2a8c86c"
      },
      "execution_count": null,
      "outputs": [
        {
          "output_type": "stream",
          "name": "stderr",
          "text": [
            "/usr/local/lib/python3.7/dist-packages/IPython/core/interactiveshell.py:3326: DtypeWarning: Columns (22,158,183) have mixed types.Specify dtype option on import or set low_memory=False.\n",
            "  exec(code_obj, self.user_global_ns, self.user_ns)\n"
          ]
        }
      ]
    },
    {
      "cell_type": "code",
      "source": [
        "# 상위 데이터 5개를 출력해본다\n",
        "kei.head()"
      ],
      "metadata": {
        "colab": {
          "base_uri": "https://localhost:8080/",
          "height": 317
        },
        "id": "J0VEJ2WdtT4B",
        "outputId": "6d7ea0e5-7529-4b8e-d29d-98eede78493f"
      },
      "execution_count": null,
      "outputs": [
        {
          "output_type": "execute_result",
          "data": {
            "text/plain": [
              "    PID  P2020  P2019  P2018  패널  gubun    id  SQ1  SQ1_n2  SQ1_n3  ...  \\\n",
              "0   122      0      0      0   0      1  2504    1      21     360  ...   \n",
              "1   571      1      1      0   0      2  4124    1      14     222  ...   \n",
              "2   679      0      0      0   0      1  1253    8      81    1235  ...   \n",
              "3   789      0      0      0   0      1  1167   13     187    2597  ...   \n",
              "4  2317      1      1      0   0      2  3440    1      22     373  ...   \n",
              "\n",
              "   AA7_1  AA7_2  AA7_3  AA7_4  AA7_5  AA7_6  AA7_7  AA7_8  AA7_9  AA7_10  \n",
              "0      1      0      1      1      0      1      1      0      0       0  \n",
              "1      1      0      1      0      0      0      0      0      0       0  \n",
              "2      1      0      1      1      1      1      1      1      1       1  \n",
              "3      1      1      0      0      0      1      1      1      0       0  \n",
              "4      1      1      0      1      1      1      1      1      0       0  \n",
              "\n",
              "[5 rows x 215 columns]"
            ],
            "text/html": [
              "\n",
              "  <div id=\"df-65d6bc9b-61f4-48df-8df0-8608b2d7bcff\">\n",
              "    <div class=\"colab-df-container\">\n",
              "      <div>\n",
              "<style scoped>\n",
              "    .dataframe tbody tr th:only-of-type {\n",
              "        vertical-align: middle;\n",
              "    }\n",
              "\n",
              "    .dataframe tbody tr th {\n",
              "        vertical-align: top;\n",
              "    }\n",
              "\n",
              "    .dataframe thead th {\n",
              "        text-align: right;\n",
              "    }\n",
              "</style>\n",
              "<table border=\"1\" class=\"dataframe\">\n",
              "  <thead>\n",
              "    <tr style=\"text-align: right;\">\n",
              "      <th></th>\n",
              "      <th>PID</th>\n",
              "      <th>P2020</th>\n",
              "      <th>P2019</th>\n",
              "      <th>P2018</th>\n",
              "      <th>패널</th>\n",
              "      <th>gubun</th>\n",
              "      <th>id</th>\n",
              "      <th>SQ1</th>\n",
              "      <th>SQ1_n2</th>\n",
              "      <th>SQ1_n3</th>\n",
              "      <th>...</th>\n",
              "      <th>AA7_1</th>\n",
              "      <th>AA7_2</th>\n",
              "      <th>AA7_3</th>\n",
              "      <th>AA7_4</th>\n",
              "      <th>AA7_5</th>\n",
              "      <th>AA7_6</th>\n",
              "      <th>AA7_7</th>\n",
              "      <th>AA7_8</th>\n",
              "      <th>AA7_9</th>\n",
              "      <th>AA7_10</th>\n",
              "    </tr>\n",
              "  </thead>\n",
              "  <tbody>\n",
              "    <tr>\n",
              "      <th>0</th>\n",
              "      <td>122</td>\n",
              "      <td>0</td>\n",
              "      <td>0</td>\n",
              "      <td>0</td>\n",
              "      <td>0</td>\n",
              "      <td>1</td>\n",
              "      <td>2504</td>\n",
              "      <td>1</td>\n",
              "      <td>21</td>\n",
              "      <td>360</td>\n",
              "      <td>...</td>\n",
              "      <td>1</td>\n",
              "      <td>0</td>\n",
              "      <td>1</td>\n",
              "      <td>1</td>\n",
              "      <td>0</td>\n",
              "      <td>1</td>\n",
              "      <td>1</td>\n",
              "      <td>0</td>\n",
              "      <td>0</td>\n",
              "      <td>0</td>\n",
              "    </tr>\n",
              "    <tr>\n",
              "      <th>1</th>\n",
              "      <td>571</td>\n",
              "      <td>1</td>\n",
              "      <td>1</td>\n",
              "      <td>0</td>\n",
              "      <td>0</td>\n",
              "      <td>2</td>\n",
              "      <td>4124</td>\n",
              "      <td>1</td>\n",
              "      <td>14</td>\n",
              "      <td>222</td>\n",
              "      <td>...</td>\n",
              "      <td>1</td>\n",
              "      <td>0</td>\n",
              "      <td>1</td>\n",
              "      <td>0</td>\n",
              "      <td>0</td>\n",
              "      <td>0</td>\n",
              "      <td>0</td>\n",
              "      <td>0</td>\n",
              "      <td>0</td>\n",
              "      <td>0</td>\n",
              "    </tr>\n",
              "    <tr>\n",
              "      <th>2</th>\n",
              "      <td>679</td>\n",
              "      <td>0</td>\n",
              "      <td>0</td>\n",
              "      <td>0</td>\n",
              "      <td>0</td>\n",
              "      <td>1</td>\n",
              "      <td>1253</td>\n",
              "      <td>8</td>\n",
              "      <td>81</td>\n",
              "      <td>1235</td>\n",
              "      <td>...</td>\n",
              "      <td>1</td>\n",
              "      <td>0</td>\n",
              "      <td>1</td>\n",
              "      <td>1</td>\n",
              "      <td>1</td>\n",
              "      <td>1</td>\n",
              "      <td>1</td>\n",
              "      <td>1</td>\n",
              "      <td>1</td>\n",
              "      <td>1</td>\n",
              "    </tr>\n",
              "    <tr>\n",
              "      <th>3</th>\n",
              "      <td>789</td>\n",
              "      <td>0</td>\n",
              "      <td>0</td>\n",
              "      <td>0</td>\n",
              "      <td>0</td>\n",
              "      <td>1</td>\n",
              "      <td>1167</td>\n",
              "      <td>13</td>\n",
              "      <td>187</td>\n",
              "      <td>2597</td>\n",
              "      <td>...</td>\n",
              "      <td>1</td>\n",
              "      <td>1</td>\n",
              "      <td>0</td>\n",
              "      <td>0</td>\n",
              "      <td>0</td>\n",
              "      <td>1</td>\n",
              "      <td>1</td>\n",
              "      <td>1</td>\n",
              "      <td>0</td>\n",
              "      <td>0</td>\n",
              "    </tr>\n",
              "    <tr>\n",
              "      <th>4</th>\n",
              "      <td>2317</td>\n",
              "      <td>1</td>\n",
              "      <td>1</td>\n",
              "      <td>0</td>\n",
              "      <td>0</td>\n",
              "      <td>2</td>\n",
              "      <td>3440</td>\n",
              "      <td>1</td>\n",
              "      <td>22</td>\n",
              "      <td>373</td>\n",
              "      <td>...</td>\n",
              "      <td>1</td>\n",
              "      <td>1</td>\n",
              "      <td>0</td>\n",
              "      <td>1</td>\n",
              "      <td>1</td>\n",
              "      <td>1</td>\n",
              "      <td>1</td>\n",
              "      <td>1</td>\n",
              "      <td>0</td>\n",
              "      <td>0</td>\n",
              "    </tr>\n",
              "  </tbody>\n",
              "</table>\n",
              "<p>5 rows × 215 columns</p>\n",
              "</div>\n",
              "      <button class=\"colab-df-convert\" onclick=\"convertToInteractive('df-65d6bc9b-61f4-48df-8df0-8608b2d7bcff')\"\n",
              "              title=\"Convert this dataframe to an interactive table.\"\n",
              "              style=\"display:none;\">\n",
              "        \n",
              "  <svg xmlns=\"http://www.w3.org/2000/svg\" height=\"24px\"viewBox=\"0 0 24 24\"\n",
              "       width=\"24px\">\n",
              "    <path d=\"M0 0h24v24H0V0z\" fill=\"none\"/>\n",
              "    <path d=\"M18.56 5.44l.94 2.06.94-2.06 2.06-.94-2.06-.94-.94-2.06-.94 2.06-2.06.94zm-11 1L8.5 8.5l.94-2.06 2.06-.94-2.06-.94L8.5 2.5l-.94 2.06-2.06.94zm10 10l.94 2.06.94-2.06 2.06-.94-2.06-.94-.94-2.06-.94 2.06-2.06.94z\"/><path d=\"M17.41 7.96l-1.37-1.37c-.4-.4-.92-.59-1.43-.59-.52 0-1.04.2-1.43.59L10.3 9.45l-7.72 7.72c-.78.78-.78 2.05 0 2.83L4 21.41c.39.39.9.59 1.41.59.51 0 1.02-.2 1.41-.59l7.78-7.78 2.81-2.81c.8-.78.8-2.07 0-2.86zM5.41 20L4 18.59l7.72-7.72 1.47 1.35L5.41 20z\"/>\n",
              "  </svg>\n",
              "      </button>\n",
              "      \n",
              "  <style>\n",
              "    .colab-df-container {\n",
              "      display:flex;\n",
              "      flex-wrap:wrap;\n",
              "      gap: 12px;\n",
              "    }\n",
              "\n",
              "    .colab-df-convert {\n",
              "      background-color: #E8F0FE;\n",
              "      border: none;\n",
              "      border-radius: 50%;\n",
              "      cursor: pointer;\n",
              "      display: none;\n",
              "      fill: #1967D2;\n",
              "      height: 32px;\n",
              "      padding: 0 0 0 0;\n",
              "      width: 32px;\n",
              "    }\n",
              "\n",
              "    .colab-df-convert:hover {\n",
              "      background-color: #E2EBFA;\n",
              "      box-shadow: 0px 1px 2px rgba(60, 64, 67, 0.3), 0px 1px 3px 1px rgba(60, 64, 67, 0.15);\n",
              "      fill: #174EA6;\n",
              "    }\n",
              "\n",
              "    [theme=dark] .colab-df-convert {\n",
              "      background-color: #3B4455;\n",
              "      fill: #D2E3FC;\n",
              "    }\n",
              "\n",
              "    [theme=dark] .colab-df-convert:hover {\n",
              "      background-color: #434B5C;\n",
              "      box-shadow: 0px 1px 3px 1px rgba(0, 0, 0, 0.15);\n",
              "      filter: drop-shadow(0px 1px 2px rgba(0, 0, 0, 0.3));\n",
              "      fill: #FFFFFF;\n",
              "    }\n",
              "  </style>\n",
              "\n",
              "      <script>\n",
              "        const buttonEl =\n",
              "          document.querySelector('#df-65d6bc9b-61f4-48df-8df0-8608b2d7bcff button.colab-df-convert');\n",
              "        buttonEl.style.display =\n",
              "          google.colab.kernel.accessAllowed ? 'block' : 'none';\n",
              "\n",
              "        async function convertToInteractive(key) {\n",
              "          const element = document.querySelector('#df-65d6bc9b-61f4-48df-8df0-8608b2d7bcff');\n",
              "          const dataTable =\n",
              "            await google.colab.kernel.invokeFunction('convertToInteractive',\n",
              "                                                     [key], {});\n",
              "          if (!dataTable) return;\n",
              "\n",
              "          const docLinkHtml = 'Like what you see? Visit the ' +\n",
              "            '<a target=\"_blank\" href=https://colab.research.google.com/notebooks/data_table.ipynb>data table notebook</a>'\n",
              "            + ' to learn more about interactive tables.';\n",
              "          element.innerHTML = '';\n",
              "          dataTable['output_type'] = 'display_data';\n",
              "          await google.colab.output.renderOutput(dataTable, element);\n",
              "          const docLink = document.createElement('div');\n",
              "          docLink.innerHTML = docLinkHtml;\n",
              "          element.appendChild(docLink);\n",
              "        }\n",
              "      </script>\n",
              "    </div>\n",
              "  </div>\n",
              "  "
            ]
          },
          "metadata": {},
          "execution_count": 93
        }
      ]
    },
    {
      "cell_type": "code",
      "source": [
        "# 전체 데이터 수를 확인한다\n",
        "kei.info()\n",
        "print(kei.shape)"
      ],
      "metadata": {
        "colab": {
          "base_uri": "https://localhost:8080/"
        },
        "id": "yYFFIpgTtjh4",
        "outputId": "fb293ce7-e958-484b-9617-55c16089045d"
      },
      "execution_count": null,
      "outputs": [
        {
          "output_type": "stream",
          "name": "stdout",
          "text": [
            "<class 'pandas.core.frame.DataFrame'>\n",
            "RangeIndex: 5050 entries, 0 to 5049\n",
            "Columns: 215 entries, PID to AA7_10\n",
            "dtypes: float64(15), int64(196), object(4)\n",
            "memory usage: 8.3+ MB\n",
            "(5050, 215)\n"
          ]
        }
      ]
    },
    {
      "cell_type": "markdown",
      "source": [
        "컬럼의 수가 너무 많은 관계로 메타데이터는 csv파일을 열어서 체크"
      ],
      "metadata": {
        "id": "8bSkAZXGjdPj"
      }
    },
    {
      "cell_type": "markdown",
      "source": [
        "# 데이터 정제 (Data Cleaning/Wrangling)"
      ],
      "metadata": {
        "id": "Yn9sI_u20B5j"
      }
    },
    {
      "cell_type": "markdown",
      "source": [
        "### 필요한 데이터 선별\n",
        "The columns that are related to our project are listed below:\n",
        "- SQ2 성별\n",
        "- SQ3 나이\n",
        "\n",
        "<환경에 대한 인식 관련 조사>\n",
        "- A1 환경관심정도 (**FINAL**) \n",
        "- A2 환경문제의 원인 인지정도 (**FINAL**)\n",
        "- A3 환경문제의 해결 방법 인지정도 (**FINAL**)\n",
        "- A4 (A4_m2, A4_m3) 우리나라가 직면한 가장 중요한 환경문제(복수응답) ***\n",
        "\n",
        "<환경 보존을 위한 개인의 실천 관련 항목>\n",
        "- B1 환경태도 (환경친화적 우선 vs. 생활의 편리함 우선) \n",
        "- B3_11 진술별 동의 정도: 미래 세대를 위해 자연을 보호하고 자원을 보전하는 것은 시급하다 \n",
        "- B4 환경보존 행동별 실천여부 (1~14, 상세항목 O) (X)`\n",
        "- B5 친환경적 태도 및 생활 습관을 실천 하는데 있어 어려움 (복수응답)***\n",
        "- B6 친환경적 태도 및 생활 습관을 실천하는데 있어 어려움 (의견별 동의 정도) (1~12) (X)\n",
        "\n",
        "<br/>\n",
        "\n",
        "- D3 가장 시급하게 해결해야 할 환경문제 (복수응답, m2, m3 존재) (**FINAL**)\n",
        "- D5 환경보전 책임이 가장 큰 주체 (1:중앙정부, 2:지방자치단체, 3:기업, 4:시민단체(환경단체), 5:일반국민)\n",
        "- E4 자녀의 유뮤 (1:있다, 2:없다)\n",
        "\n"
      ],
      "metadata": {
        "id": "_qNcGsXZwTnp"
      }
    },
    {
      "cell_type": "code",
      "source": [
        "# 환경에 대한 인식 데이터\n",
        "data= kei[['SQ2','SQ3','A1','A2','A3','A4','A4_m2','A4_m3','B1','B3_11','B5','B5_m2','B5_m3','B5_m4','B5_m5','B5_m6','B5_m7','B5_m8','B5_m9','D3', 'D3_m2', 'D3_m3']]"
      ],
      "metadata": {
        "id": "727rt0m2wFi0"
      },
      "execution_count": null,
      "outputs": []
    },
    {
      "cell_type": "code",
      "source": [
        "print(data.shape)\n",
        "print(data.head())\n",
        "# print(data.info())"
      ],
      "metadata": {
        "colab": {
          "base_uri": "https://localhost:8080/"
        },
        "id": "jSD4MlAD2UYt",
        "outputId": "46992d5f-5956-4847-d57f-4dc656d6109e"
      },
      "execution_count": null,
      "outputs": [
        {
          "output_type": "stream",
          "name": "stdout",
          "text": [
            "(5050, 22)\n",
            "   SQ2  SQ3  A1  A2  A3  A4  A4_m2  A4_m3  B1  B3_11  ...  B5_m3  B5_m4  \\\n",
            "0    2   54   4   3   3   4      7     11   3      4  ...    NaN    NaN   \n",
            "1    2   62   3   3   3   3      7     11   3      5  ...    NaN    NaN   \n",
            "2    2   42   4   4   4   2      7     11   2      5  ...    4.0    3.0   \n",
            "3    2   57   4   4   4   7      3     11   4      5  ...    7.0    NaN   \n",
            "4    2   48   4   4   4  11     10      3   1      5  ...    NaN    NaN   \n",
            "\n",
            "   B5_m5  B5_m6  B5_m7  B5_m8  B5_m9  D3  D3_m2  D3_m3  \n",
            "0    NaN    NaN    NaN    NaN    NaN   3     10     11  \n",
            "1    NaN    NaN    NaN    NaN    NaN   6     11      8  \n",
            "2    NaN    NaN    NaN    NaN    NaN   2      8      1  \n",
            "3    NaN    NaN    NaN    NaN    NaN  11      8      2  \n",
            "4    NaN    NaN    NaN    NaN    NaN  11      8      5  \n",
            "\n",
            "[5 rows x 22 columns]\n"
          ]
        }
      ]
    },
    {
      "cell_type": "code",
      "source": [
        "# 결측치 체크 윗부분\n",
        "data.isnull().sum().head(34)"
      ],
      "metadata": {
        "colab": {
          "base_uri": "https://localhost:8080/"
        },
        "id": "9XhUhgeYElhg",
        "outputId": "2150c5f2-55e4-45c7-ab37-271e0f688c7b"
      },
      "execution_count": null,
      "outputs": [
        {
          "output_type": "execute_result",
          "data": {
            "text/plain": [
              "SQ2         0\n",
              "SQ3         0\n",
              "A1          0\n",
              "A2          0\n",
              "A3          0\n",
              "A4          0\n",
              "A4_m2       0\n",
              "A4_m3       0\n",
              "B1          0\n",
              "B3_11       0\n",
              "B5          0\n",
              "B5_m2     963\n",
              "B5_m3    2433\n",
              "B5_m4    4348\n",
              "B5_m5    4841\n",
              "B5_m6    4978\n",
              "B5_m7    5024\n",
              "B5_m8    5033\n",
              "B5_m9    5050\n",
              "D3          0\n",
              "D3_m2       0\n",
              "D3_m3       0\n",
              "dtype: int64"
            ]
          },
          "metadata": {},
          "execution_count": 114
        }
      ]
    },
    {
      "cell_type": "code",
      "source": [
        "#결측치 체크 아랫부분\n",
        "data.isnull().sum().tail(35)"
      ],
      "metadata": {
        "colab": {
          "base_uri": "https://localhost:8080/"
        },
        "id": "9LjTbUBPGYzZ",
        "outputId": "1fee6790-4201-4472-eceb-3173c2189864"
      },
      "execution_count": null,
      "outputs": [
        {
          "output_type": "execute_result",
          "data": {
            "text/plain": [
              "SQ2         0\n",
              "SQ3         0\n",
              "A1          0\n",
              "A2          0\n",
              "A3          0\n",
              "A4          0\n",
              "A4_m2       0\n",
              "A4_m3       0\n",
              "B1          0\n",
              "B3_11       0\n",
              "B5          0\n",
              "B5_m2     963\n",
              "B5_m3    2433\n",
              "B5_m4    4348\n",
              "B5_m5    4841\n",
              "B5_m6    4978\n",
              "B5_m7    5024\n",
              "B5_m8    5033\n",
              "B5_m9    5050\n",
              "D3          0\n",
              "D3_m2       0\n",
              "D3_m3       0\n",
              "dtype: int64"
            ]
          },
          "metadata": {},
          "execution_count": 115
        }
      ]
    },
    {
      "cell_type": "markdown",
      "source": [
        "- 복수 응답 문항인 B5에서 결측치가 발견 됨.   \n",
        "- 그러나 복수 응답 문항이더라도 응답자 전원 적어도 '하나의 응답'은 했다 \n",
        "  - B5는 \"친환경적 태도 및 생활습관을 실천 하는데 있어 어려움(복수응답)\"임"
      ],
      "metadata": {
        "id": "pTD3fhW9JCci"
      }
    },
    {
      "cell_type": "markdown",
      "source": [
        "# EDA (Exploratory Data Analysis)\n",
        "자유롭게 뜯어보기"
      ],
      "metadata": {
        "id": "sFOzpG3UMr_0"
      }
    },
    {
      "cell_type": "markdown",
      "source": [
        "### 응답자를 분석해보자"
      ],
      "metadata": {
        "id": "rtT-T9BwKigk"
      }
    },
    {
      "cell_type": "markdown",
      "source": [
        "#### 성비 분석"
      ],
      "metadata": {
        "id": "r4Q1qjdrcny1"
      }
    },
    {
      "cell_type": "code",
      "source": [
        "# 응답자의 성비를 체크: SQ2에서 '1'='male', '2'='female'\n",
        "# groupby만 사용하면 결과는 함수가 반환 됨\n",
        "data.groupby(['SQ2'])\n",
        "\n",
        "gender_ratio = data.groupby(['SQ2'])['SQ2'].sum()\n",
        "print(gender_ratio)"
      ],
      "metadata": {
        "id": "9a95eAE8t1Sc",
        "colab": {
          "base_uri": "https://localhost:8080/"
        },
        "outputId": "3a2f3560-eb81-4696-e464-4b7af295fbcb"
      },
      "execution_count": null,
      "outputs": [
        {
          "output_type": "stream",
          "name": "stdout",
          "text": [
            "SQ2\n",
            "1    2522\n",
            "2    5056\n",
            "Name: SQ2, dtype: int64\n"
          ]
        }
      ]
    },
    {
      "cell_type": "markdown",
      "source": [
        "- 성비가 남자:여자 = (대략) 1:2\n",
        "- !!! 분석할 때 성별 데이터를 분리해서 분석해 보는 것도 좋을 듯 (이 두 그룹 사이에 유의미한 차이가 있을 수 있음) !!!"
      ],
      "metadata": {
        "id": "Wz_78L_UHwU1"
      }
    },
    {
      "cell_type": "code",
      "source": [
        "# 응답자의 성비(카운드)를 그래프로\n",
        "gender_ratio.plot(kind='bar', title='gender ratio')"
      ],
      "metadata": {
        "colab": {
          "base_uri": "https://localhost:8080/"
        },
        "id": "QwVY30EKHfbH",
        "outputId": "33643432-1f67-466e-daf2-48231218e56d"
      },
      "execution_count": null,
      "outputs": [
        {
          "output_type": "execute_result",
          "data": {
            "text/plain": [
              "<matplotlib.axes._subplots.AxesSubplot at 0x7ffa2d130b10>"
            ]
          },
          "metadata": {},
          "execution_count": 117
        },
        {
          "output_type": "display_data",
          "data": {
            "text/plain": [
              "<Figure size 432x288 with 1 Axes>"
            ],
            "image/png": "[encoded data removed]"
          },
          "metadata": {
            "needs_background": "light"
          }
        }
      ]
    },
    {
      "cell_type": "markdown",
      "source": [
        "#### 나이 분석\n",
        "- `.describe()`를 이용해서 데이터 분포를 대략적으로 확인 할 수 있음 (descriptive statistics 체크 포인트를 보여줌)\n",
        "  - **count**\n",
        "  - min, max\n",
        "  - standard deviation\n",
        "  - 25%, 50%, 75%\n",
        "  "
      ],
      "metadata": {
        "id": "vZFAD76cKft6"
      }
    },
    {
      "cell_type": "code",
      "source": [
        "# 연령에 대한 정보를 확인 (여기서 'SQ3'의 data type이 int64임을 위에서 확인함)\n",
        "data['SQ3'].describe()"
      ],
      "metadata": {
        "colab": {
          "base_uri": "https://localhost:8080/"
        },
        "id": "RHnYoxkvKe_c",
        "outputId": "aa553874-702e-4936-b376-fca430d56a14"
      },
      "execution_count": null,
      "outputs": [
        {
          "output_type": "execute_result",
          "data": {
            "text/plain": [
              "count    5050.000000\n",
              "mean       45.586931\n",
              "std        13.358905\n",
              "min        19.000000\n",
              "25%        35.000000\n",
              "50%        47.000000\n",
              "75%        57.000000\n",
              "max        69.000000\n",
              "Name: SQ3, dtype: float64"
            ]
          },
          "metadata": {},
          "execution_count": 118
        }
      ]
    },
    {
      "cell_type": "code",
      "source": [
        "# .distplot()은 density plot을 보여줌 with soothed line plot\n",
        "sns.distplot(data['SQ3'])"
      ],
      "metadata": {
        "colab": {
          "base_uri": "https://localhost:8080/"
        },
        "id": "wzU9kwm5IUNI",
        "outputId": "3bf4bb34-d20c-4341-e9be-261085dee558"
      },
      "execution_count": null,
      "outputs": [
        {
          "output_type": "stream",
          "name": "stderr",
          "text": [
            "/usr/local/lib/python3.7/dist-packages/seaborn/distributions.py:2619: FutureWarning: `distplot` is a deprecated function and will be removed in a future version. Please adapt your code to use either `displot` (a figure-level function with similar flexibility) or `histplot` (an axes-level function for histograms).\n",
            "  warnings.warn(msg, FutureWarning)\n"
          ]
        },
        {
          "output_type": "execute_result",
          "data": {
            "text/plain": [
              "<matplotlib.axes._subplots.AxesSubplot at 0x7ffa2d10bad0>"
            ]
          },
          "metadata": {},
          "execution_count": 119
        },
        {
          "output_type": "display_data",
          "data": {
            "text/plain": [
              "<Figure size 432x288 with 1 Axes>"
            ],
            "image/png": "[encoded data removed]"
          },
          "metadata": {
            "needs_background": "light"
          }
        }
      ]
    },
    {
      "cell_type": "code",
      "source": [
        "data.info()"
      ],
      "metadata": {
        "colab": {
          "base_uri": "https://localhost:8080/"
        },
        "id": "xaERBTilrvod",
        "outputId": "aad9323a-adfd-4223-fe64-a8bed336619e"
      },
      "execution_count": null,
      "outputs": [
        {
          "output_type": "stream",
          "name": "stdout",
          "text": [
            "<class 'pandas.core.frame.DataFrame'>\n",
            "RangeIndex: 5050 entries, 0 to 5049\n",
            "Data columns (total 22 columns):\n",
            " #   Column  Non-Null Count  Dtype  \n",
            "---  ------  --------------  -----  \n",
            " 0   SQ2     5050 non-null   int64  \n",
            " 1   SQ3     5050 non-null   int64  \n",
            " 2   A1      5050 non-null   int64  \n",
            " 3   A2      5050 non-null   int64  \n",
            " 4   A3      5050 non-null   int64  \n",
            " 5   A4      5050 non-null   int64  \n",
            " 6   A4_m2   5050 non-null   int64  \n",
            " 7   A4_m3   5050 non-null   int64  \n",
            " 8   B1      5050 non-null   int64  \n",
            " 9   B3_11   5050 non-null   int64  \n",
            " 10  B5      5050 non-null   int64  \n",
            " 11  B5_m2   4087 non-null   float64\n",
            " 12  B5_m3   2617 non-null   float64\n",
            " 13  B5_m4   702 non-null    float64\n",
            " 14  B5_m5   209 non-null    float64\n",
            " 15  B5_m6   72 non-null     float64\n",
            " 16  B5_m7   26 non-null     float64\n",
            " 17  B5_m8   17 non-null     float64\n",
            " 18  B5_m9   0 non-null      float64\n",
            " 19  D3      5050 non-null   int64  \n",
            " 20  D3_m2   5050 non-null   int64  \n",
            " 21  D3_m3   5050 non-null   int64  \n",
            "dtypes: float64(8), int64(14)\n",
            "memory usage: 868.1 KB\n"
          ]
        }
      ]
    },
    {
      "cell_type": "code",
      "source": [
        "sns.barplot(x='SQ2', y='SQ3', data=data, estimator=np.mean)"
      ],
      "metadata": {
        "colab": {
          "base_uri": "https://localhost:8080/"
        },
        "id": "OmQoLQoRqj_9",
        "outputId": "dd1c55c2-208e-4f8a-c08a-d5d4b5057b1e"
      },
      "execution_count": null,
      "outputs": [
        {
          "output_type": "execute_result",
          "data": {
            "text/plain": [
              "<matplotlib.axes._subplots.AxesSubplot at 0x7ffa2d0358d0>"
            ]
          },
          "metadata": {},
          "execution_count": 121
        },
        {
          "output_type": "display_data",
          "data": {
            "text/plain": [
              "<Figure size 432x288 with 1 Axes>"
            ],
            "image/png": "[encoded data removed]"
          },
          "metadata": {
            "needs_background": "light"
          }
        }
      ]
    },
    {
      "cell_type": "markdown",
      "source": [
        "- 성별간 응답자의 평균 나이는 큰 차이가 없음"
      ],
      "metadata": {
        "id": "jIJK9KJ2qjlI"
      }
    },
    {
      "cell_type": "markdown",
      "source": [
        "##### 나이대별로 분석하기 위한 초석\n",
        "- 연속형 데이터인 나이를 범주형 데이터로 변환하기"
      ],
      "metadata": {
        "id": "XonTme6Ke1V8"
      }
    },
    {
      "cell_type": "code",
      "source": [
        "# pandas.cut() 함수를 활용\n",
        "# pandas.cut(x, bins, labels) - x는 반드시 1-dimensional\n",
        "age_category = pd.cut(data.SQ3, bins=[0,19,29,39,49,59,69],\n",
        "       labels=['10s','20s','30s','40s','50s','60s'])\n",
        "# DataFrame.insert(loc, column, value)\n",
        "data.insert(2,'age_group', age_category)\n",
        "data.head()"
      ],
      "metadata": {
        "colab": {
          "base_uri": "https://localhost:8080/"
        },
        "id": "62mwlnslfDMz",
        "outputId": "4cdfa15a-d84d-4977-aece-c941e0388891"
      },
      "execution_count": null,
      "outputs": [
        {
          "output_type": "execute_result",
          "data": {
            "text/plain": [
              "   SQ2  SQ3 age_group  A1  A2  A3  A4  A4_m2  A4_m3  B1  ...  B5_m3  B5_m4  \\\n",
              "0    2   54       50s   4   3   3   4      7     11   3  ...    NaN    NaN   \n",
              "1    2   62       60s   3   3   3   3      7     11   3  ...    NaN    NaN   \n",
              "2    2   42       40s   4   4   4   2      7     11   2  ...    4.0    3.0   \n",
              "3    2   57       50s   4   4   4   7      3     11   4  ...    7.0    NaN   \n",
              "4    2   48       40s   4   4   4  11     10      3   1  ...    NaN    NaN   \n",
              "\n",
              "   B5_m5  B5_m6  B5_m7  B5_m8  B5_m9  D3  D3_m2  D3_m3  \n",
              "0    NaN    NaN    NaN    NaN    NaN   3     10     11  \n",
              "1    NaN    NaN    NaN    NaN    NaN   6     11      8  \n",
              "2    NaN    NaN    NaN    NaN    NaN   2      8      1  \n",
              "3    NaN    NaN    NaN    NaN    NaN  11      8      2  \n",
              "4    NaN    NaN    NaN    NaN    NaN  11      8      5  \n",
              "\n",
              "[5 rows x 23 columns]"
            ],
            "text/html": [
              "\n",
              "  <div id=\"df-6d45fadc-9986-425e-8009-3275f86bd7a7\">\n",
              "    <div class=\"colab-df-container\">\n",
              "      <div>\n",
              "<style scoped>\n",
              "    .dataframe tbody tr th:only-of-type {\n",
              "        vertical-align: middle;\n",
              "    }\n",
              "\n",
              "    .dataframe tbody tr th {\n",
              "        vertical-align: top;\n",
              "    }\n",
              "\n",
              "    .dataframe thead th {\n",
              "        text-align: right;\n",
              "    }\n",
              "</style>\n",
              "<table border=\"1\" class=\"dataframe\">\n",
              "  <thead>\n",
              "    <tr style=\"text-align: right;\">\n",
              "      <th></th>\n",
              "      <th>SQ2</th>\n",
              "      <th>SQ3</th>\n",
              "      <th>age_group</th>\n",
              "      <th>A1</th>\n",
              "      <th>A2</th>\n",
              "      <th>A3</th>\n",
              "      <th>A4</th>\n",
              "      <th>A4_m2</th>\n",
              "      <th>A4_m3</th>\n",
              "      <th>B1</th>\n",
              "      <th>...</th>\n",
              "      <th>B5_m3</th>\n",
              "      <th>B5_m4</th>\n",
              "      <th>B5_m5</th>\n",
              "      <th>B5_m6</th>\n",
              "      <th>B5_m7</th>\n",
              "      <th>B5_m8</th>\n",
              "      <th>B5_m9</th>\n",
              "      <th>D3</th>\n",
              "      <th>D3_m2</th>\n",
              "      <th>D3_m3</th>\n",
              "    </tr>\n",
              "  </thead>\n",
              "  <tbody>\n",
              "    <tr>\n",
              "      <th>0</th>\n",
              "      <td>2</td>\n",
              "      <td>54</td>\n",
              "      <td>50s</td>\n",
              "      <td>4</td>\n",
              "      <td>3</td>\n",
              "      <td>3</td>\n",
              "      <td>4</td>\n",
              "      <td>7</td>\n",
              "      <td>11</td>\n",
              "      <td>3</td>\n",
              "      <td>...</td>\n",
              "      <td>NaN</td>\n",
              "      <td>NaN</td>\n",
              "      <td>NaN</td>\n",
              "      <td>NaN</td>\n",
              "      <td>NaN</td>\n",
              "      <td>NaN</td>\n",
              "      <td>NaN</td>\n",
              "      <td>3</td>\n",
              "      <td>10</td>\n",
              "      <td>11</td>\n",
              "    </tr>\n",
              "    <tr>\n",
              "      <th>1</th>\n",
              "      <td>2</td>\n",
              "      <td>62</td>\n",
              "      <td>60s</td>\n",
              "      <td>3</td>\n",
              "      <td>3</td>\n",
              "      <td>3</td>\n",
              "      <td>3</td>\n",
              "      <td>7</td>\n",
              "      <td>11</td>\n",
              "      <td>3</td>\n",
              "      <td>...</td>\n",
              "      <td>NaN</td>\n",
              "      <td>NaN</td>\n",
              "      <td>NaN</td>\n",
              "      <td>NaN</td>\n",
              "      <td>NaN</td>\n",
              "      <td>NaN</td>\n",
              "      <td>NaN</td>\n",
              "      <td>6</td>\n",
              "      <td>11</td>\n",
              "      <td>8</td>\n",
              "    </tr>\n",
              "    <tr>\n",
              "      <th>2</th>\n",
              "      <td>2</td>\n",
              "      <td>42</td>\n",
              "      <td>40s</td>\n",
              "      <td>4</td>\n",
              "      <td>4</td>\n",
              "      <td>4</td>\n",
              "      <td>2</td>\n",
              "      <td>7</td>\n",
              "      <td>11</td>\n",
              "      <td>2</td>\n",
              "      <td>...</td>\n",
              "      <td>4.0</td>\n",
              "      <td>3.0</td>\n",
              "      <td>NaN</td>\n",
              "      <td>NaN</td>\n",
              "      <td>NaN</td>\n",
              "      <td>NaN</td>\n",
              "      <td>NaN</td>\n",
              "      <td>2</td>\n",
              "      <td>8</td>\n",
              "      <td>1</td>\n",
              "    </tr>\n",
              "    <tr>\n",
              "      <th>3</th>\n",
              "      <td>2</td>\n",
              "      <td>57</td>\n",
              "      <td>50s</td>\n",
              "      <td>4</td>\n",
              "      <td>4</td>\n",
              "      <td>4</td>\n",
              "      <td>7</td>\n",
              "      <td>3</td>\n",
              "      <td>11</td>\n",
              "      <td>4</td>\n",
              "      <td>...</td>\n",
              "      <td>7.0</td>\n",
              "      <td>NaN</td>\n",
              "      <td>NaN</td>\n",
              "      <td>NaN</td>\n",
              "      <td>NaN</td>\n",
              "      <td>NaN</td>\n",
              "      <td>NaN</td>\n",
              "      <td>11</td>\n",
              "      <td>8</td>\n",
              "      <td>2</td>\n",
              "    </tr>\n",
              "    <tr>\n",
              "      <th>4</th>\n",
              "      <td>2</td>\n",
              "      <td>48</td>\n",
              "      <td>40s</td>\n",
              "      <td>4</td>\n",
              "      <td>4</td>\n",
              "      <td>4</td>\n",
              "      <td>11</td>\n",
              "      <td>10</td>\n",
              "      <td>3</td>\n",
              "      <td>1</td>\n",
              "      <td>...</td>\n",
              "      <td>NaN</td>\n",
              "      <td>NaN</td>\n",
              "      <td>NaN</td>\n",
              "      <td>NaN</td>\n",
              "      <td>NaN</td>\n",
              "      <td>NaN</td>\n",
              "      <td>NaN</td>\n",
              "      <td>11</td>\n",
              "      <td>8</td>\n",
              "      <td>5</td>\n",
              "    </tr>\n",
              "  </tbody>\n",
              "</table>\n",
              "<p>5 rows × 23 columns</p>\n",
              "</div>\n",
              "      <button class=\"colab-df-convert\" onclick=\"convertToInteractive('df-6d45fadc-9986-425e-8009-3275f86bd7a7')\"\n",
              "              title=\"Convert this dataframe to an interactive table.\"\n",
              "              style=\"display:none;\">\n",
              "        \n",
              "  <svg xmlns=\"http://www.w3.org/2000/svg\" height=\"24px\"viewBox=\"0 0 24 24\"\n",
              "       width=\"24px\">\n",
              "    <path d=\"M0 0h24v24H0V0z\" fill=\"none\"/>\n",
              "    <path d=\"M18.56 5.44l.94 2.06.94-2.06 2.06-.94-2.06-.94-.94-2.06-.94 2.06-2.06.94zm-11 1L8.5 8.5l.94-2.06 2.06-.94-2.06-.94L8.5 2.5l-.94 2.06-2.06.94zm10 10l.94 2.06.94-2.06 2.06-.94-2.06-.94-.94-2.06-.94 2.06-2.06.94z\"/><path d=\"M17.41 7.96l-1.37-1.37c-.4-.4-.92-.59-1.43-.59-.52 0-1.04.2-1.43.59L10.3 9.45l-7.72 7.72c-.78.78-.78 2.05 0 2.83L4 21.41c.39.39.9.59 1.41.59.51 0 1.02-.2 1.41-.59l7.78-7.78 2.81-2.81c.8-.78.8-2.07 0-2.86zM5.41 20L4 18.59l7.72-7.72 1.47 1.35L5.41 20z\"/>\n",
              "  </svg>\n",
              "      </button>\n",
              "      \n",
              "  <style>\n",
              "    .colab-df-container {\n",
              "      display:flex;\n",
              "      flex-wrap:wrap;\n",
              "      gap: 12px;\n",
              "    }\n",
              "\n",
              "    .colab-df-convert {\n",
              "      background-color: #E8F0FE;\n",
              "      border: none;\n",
              "      border-radius: 50%;\n",
              "      cursor: pointer;\n",
              "      display: none;\n",
              "      fill: #1967D2;\n",
              "      height: 32px;\n",
              "      padding: 0 0 0 0;\n",
              "      width: 32px;\n",
              "    }\n",
              "\n",
              "    .colab-df-convert:hover {\n",
              "      background-color: #E2EBFA;\n",
              "      box-shadow: 0px 1px 2px rgba(60, 64, 67, 0.3), 0px 1px 3px 1px rgba(60, 64, 67, 0.15);\n",
              "      fill: #174EA6;\n",
              "    }\n",
              "\n",
              "    [theme=dark] .colab-df-convert {\n",
              "      background-color: #3B4455;\n",
              "      fill: #D2E3FC;\n",
              "    }\n",
              "\n",
              "    [theme=dark] .colab-df-convert:hover {\n",
              "      background-color: #434B5C;\n",
              "      box-shadow: 0px 1px 3px 1px rgba(0, 0, 0, 0.15);\n",
              "      filter: drop-shadow(0px 1px 2px rgba(0, 0, 0, 0.3));\n",
              "      fill: #FFFFFF;\n",
              "    }\n",
              "  </style>\n",
              "\n",
              "      <script>\n",
              "        const buttonEl =\n",
              "          document.querySelector('#df-6d45fadc-9986-425e-8009-3275f86bd7a7 button.colab-df-convert');\n",
              "        buttonEl.style.display =\n",
              "          google.colab.kernel.accessAllowed ? 'block' : 'none';\n",
              "\n",
              "        async function convertToInteractive(key) {\n",
              "          const element = document.querySelector('#df-6d45fadc-9986-425e-8009-3275f86bd7a7');\n",
              "          const dataTable =\n",
              "            await google.colab.kernel.invokeFunction('convertToInteractive',\n",
              "                                                     [key], {});\n",
              "          if (!dataTable) return;\n",
              "\n",
              "          const docLinkHtml = 'Like what you see? Visit the ' +\n",
              "            '<a target=\"_blank\" href=https://colab.research.google.com/notebooks/data_table.ipynb>data table notebook</a>'\n",
              "            + ' to learn more about interactive tables.';\n",
              "          element.innerHTML = '';\n",
              "          dataTable['output_type'] = 'display_data';\n",
              "          await google.colab.output.renderOutput(dataTable, element);\n",
              "          const docLink = document.createElement('div');\n",
              "          docLink.innerHTML = docLinkHtml;\n",
              "          element.appendChild(docLink);\n",
              "        }\n",
              "      </script>\n",
              "    </div>\n",
              "  </div>\n",
              "  "
            ]
          },
          "metadata": {},
          "execution_count": 122
        }
      ]
    },
    {
      "cell_type": "code",
      "source": [
        "# 나이대별로 묶어볼까?\n",
        "data['age_group'].value_counts(normalize=True)"
      ],
      "metadata": {
        "id": "89z6DE_dgrUm",
        "colab": {
          "base_uri": "https://localhost:8080/"
        },
        "outputId": "47d5dacf-c4c1-4fed-9306-507e6a3e6214"
      },
      "execution_count": null,
      "outputs": [
        {
          "output_type": "execute_result",
          "data": {
            "text/plain": [
              "50s    0.233465\n",
              "40s    0.231089\n",
              "60s    0.195842\n",
              "30s    0.179802\n",
              "20s    0.150693\n",
              "10s    0.009109\n",
              "Name: age_group, dtype: float64"
            ]
          },
          "metadata": {},
          "execution_count": 123
        }
      ]
    },
    {
      "cell_type": "markdown",
      "source": [
        "- 4050인 응답자의 비율이 높았고\n",
        "- 10대 응답자의 비율이 매우 낮은 것을 볼 수 있음"
      ],
      "metadata": {
        "id": "Xd9uYzVkhKv9"
      }
    },
    {
      "cell_type": "code",
      "source": [
        "data_by_age = data.groupby(['age_group','SQ2']).mean()\n",
        "data_by_age"
      ],
      "metadata": {
        "id": "tSsJAjFdheD1",
        "colab": {
          "base_uri": "https://localhost:8080/"
        },
        "outputId": "1a5cfcfb-4b2c-4a9f-f4d0-cfca465419d5"
      },
      "execution_count": null,
      "outputs": [
        {
          "output_type": "execute_result",
          "data": {
            "text/plain": [
              "                     SQ3        A1        A2        A3        A4     A4_m2  \\\n",
              "age_group SQ2                                                                \n",
              "10s       1    19.000000  3.708333  3.833333  3.625000  5.375000  4.791667   \n",
              "          2    19.000000  3.909091  3.818182  3.454545  5.363636  4.409091   \n",
              "20s       1    24.917808  3.652055  3.583562  3.369863  5.161644  4.693151   \n",
              "          2    24.974747  3.770202  3.611111  3.411616  4.856061  4.838384   \n",
              "30s       1    35.248292  3.712984  3.551253  3.350797  4.738041  4.485194   \n",
              "          2    34.793177  3.756930  3.492537  3.307036  4.628998  4.795309   \n",
              "40s       1    44.638796  3.782609  3.468227  3.306020  4.461538  4.739130   \n",
              "          2    44.514938  3.824253  3.442882  3.277680  4.971880  4.625659   \n",
              "50s       1    53.984848  3.941077  3.531987  3.363636  4.760943  4.715488   \n",
              "          2    54.153846  4.003419  3.429060  3.278632  4.832479  4.861538   \n",
              "60s       1    63.595618  4.069721  3.619522  3.438247  4.886454  4.701195   \n",
              "          2    63.383984  4.121150  3.501027  3.377823  5.137577  5.416838   \n",
              "\n",
              "                  A4_m3        B1     B3_11        B5  ...     B5_m3  \\\n",
              "age_group SQ2                                          ...             \n",
              "10s       1    5.500000  2.833333  4.125000  4.416667  ...  4.250000   \n",
              "          2    5.227273  2.636364  4.454545  4.500000  ...  3.600000   \n",
              "20s       1    4.857534  2.915068  4.098630  4.375342  ...  4.060914   \n",
              "          2    4.954545  2.558081  4.300505  4.333333  ...  4.196078   \n",
              "30s       1    4.551253  2.669704  4.173121  4.298405  ...  4.163090   \n",
              "          2    4.690832  2.486141  4.409382  4.232409  ...  4.322581   \n",
              "40s       1    4.675585  2.478261  4.372910  4.003344  ...  4.110787   \n",
              "          2    4.875220  2.295255  4.562390  3.991213  ...  4.406040   \n",
              "50s       1    4.602694  2.356902  4.496633  4.116162  ...  3.827119   \n",
              "          2    5.302564  2.111111  4.668376  3.943590  ...  3.972414   \n",
              "60s       1    4.844622  2.135458  4.601594  4.115538  ...  3.839080   \n",
              "          2    4.958932  1.876797  4.657084  4.084189  ...  3.907080   \n",
              "\n",
              "                  B5_m4     B5_m5     B5_m6  B5_m7     B5_m8  B5_m9        D3  \\\n",
              "age_group SQ2                                                                   \n",
              "10s       1    4.000000  2.333333       NaN    NaN       NaN    NaN  6.083333   \n",
              "          2    1.666667  3.000000  7.000000    NaN       NaN    NaN  6.272727   \n",
              "20s       1    4.037037  5.533333  5.200000    6.0  7.000000    NaN  5.216438   \n",
              "          2    3.969697  4.500000  4.000000    1.5  4.000000    NaN  5.565657   \n",
              "30s       1    4.254545  4.500000  3.666667    4.6  2.500000    NaN  5.280182   \n",
              "          2    3.684932  5.068966  3.625000    3.0       NaN    NaN  5.784648   \n",
              "40s       1    4.431579  3.448276  4.600000    3.8  4.800000    NaN  5.424749   \n",
              "          2    4.500000  4.111111  4.857143    4.0       NaN    NaN  5.959578   \n",
              "50s       1    3.835616  4.111111  6.000000    8.0  2.000000    NaN  5.301347   \n",
              "          2    3.800000  4.565217  5.100000    3.8  4.500000    NaN  6.054701   \n",
              "60s       1    4.013514  4.350000  4.500000    4.5  3.666667    NaN  5.898406   \n",
              "          2    3.905660  2.857143  4.833333    2.0       NaN    NaN  5.917864   \n",
              "\n",
              "                  D3_m2     D3_m3  \n",
              "age_group SQ2                      \n",
              "10s       1    5.958333  4.125000  \n",
              "          2    5.500000  6.227273  \n",
              "20s       1    5.441096  5.794521  \n",
              "          2    5.974747  6.032828  \n",
              "30s       1    5.881549  5.906606  \n",
              "          2    6.098081  6.181237  \n",
              "40s       1    5.538462  5.961538  \n",
              "          2    6.015817  6.214411  \n",
              "50s       1    5.838384  5.813131  \n",
              "          2    6.329915  6.499145  \n",
              "60s       1    6.071713  5.679283  \n",
              "          2    6.712526  6.447639  \n",
              "\n",
              "[12 rows x 21 columns]"
            ],
            "text/html": [
              "\n",
              "  <div id=\"df-becbc351-bcf4-44e1-92d9-7a285f725ab2\">\n",
              "    <div class=\"colab-df-container\">\n",
              "      <div>\n",
              "<style scoped>\n",
              "    .dataframe tbody tr th:only-of-type {\n",
              "        vertical-align: middle;\n",
              "    }\n",
              "\n",
              "    .dataframe tbody tr th {\n",
              "        vertical-align: top;\n",
              "    }\n",
              "\n",
              "    .dataframe thead th {\n",
              "        text-align: right;\n",
              "    }\n",
              "</style>\n",
              "<table border=\"1\" class=\"dataframe\">\n",
              "  <thead>\n",
              "    <tr style=\"text-align: right;\">\n",
              "      <th></th>\n",
              "      <th></th>\n",
              "      <th>SQ3</th>\n",
              "      <th>A1</th>\n",
              "      <th>A2</th>\n",
              "      <th>A3</th>\n",
              "      <th>A4</th>\n",
              "      <th>A4_m2</th>\n",
              "      <th>A4_m3</th>\n",
              "      <th>B1</th>\n",
              "      <th>B3_11</th>\n",
              "      <th>B5</th>\n",
              "      <th>...</th>\n",
              "      <th>B5_m3</th>\n",
              "      <th>B5_m4</th>\n",
              "      <th>B5_m5</th>\n",
              "      <th>B5_m6</th>\n",
              "      <th>B5_m7</th>\n",
              "      <th>B5_m8</th>\n",
              "      <th>B5_m9</th>\n",
              "      <th>D3</th>\n",
              "      <th>D3_m2</th>\n",
              "      <th>D3_m3</th>\n",
              "    </tr>\n",
              "    <tr>\n",
              "      <th>age_group</th>\n",
              "      <th>SQ2</th>\n",
              "      <th></th>\n",
              "      <th></th>\n",
              "      <th></th>\n",
              "      <th></th>\n",
              "      <th></th>\n",
              "      <th></th>\n",
              "      <th></th>\n",
              "      <th></th>\n",
              "      <th></th>\n",
              "      <th></th>\n",
              "      <th></th>\n",
              "      <th></th>\n",
              "      <th></th>\n",
              "      <th></th>\n",
              "      <th></th>\n",
              "      <th></th>\n",
              "      <th></th>\n",
              "      <th></th>\n",
              "      <th></th>\n",
              "      <th></th>\n",
              "      <th></th>\n",
              "    </tr>\n",
              "  </thead>\n",
              "  <tbody>\n",
              "    <tr>\n",
              "      <th rowspan=\"2\" valign=\"top\">10s</th>\n",
              "      <th>1</th>\n",
              "      <td>19.000000</td>\n",
              "      <td>3.708333</td>\n",
              "      <td>3.833333</td>\n",
              "      <td>3.625000</td>\n",
              "      <td>5.375000</td>\n",
              "      <td>4.791667</td>\n",
              "      <td>5.500000</td>\n",
              "      <td>2.833333</td>\n",
              "      <td>4.125000</td>\n",
              "      <td>4.416667</td>\n",
              "      <td>...</td>\n",
              "      <td>4.250000</td>\n",
              "      <td>4.000000</td>\n",
              "      <td>2.333333</td>\n",
              "      <td>NaN</td>\n",
              "      <td>NaN</td>\n",
              "      <td>NaN</td>\n",
              "      <td>NaN</td>\n",
              "      <td>6.083333</td>\n",
              "      <td>5.958333</td>\n",
              "      <td>4.125000</td>\n",
              "    </tr>\n",
              "    <tr>\n",
              "      <th>2</th>\n",
              "      <td>19.000000</td>\n",
              "      <td>3.909091</td>\n",
              "      <td>3.818182</td>\n",
              "      <td>3.454545</td>\n",
              "      <td>5.363636</td>\n",
              "      <td>4.409091</td>\n",
              "      <td>5.227273</td>\n",
              "      <td>2.636364</td>\n",
              "      <td>4.454545</td>\n",
              "      <td>4.500000</td>\n",
              "      <td>...</td>\n",
              "      <td>3.600000</td>\n",
              "      <td>1.666667</td>\n",
              "      <td>3.000000</td>\n",
              "      <td>7.000000</td>\n",
              "      <td>NaN</td>\n",
              "      <td>NaN</td>\n",
              "      <td>NaN</td>\n",
              "      <td>6.272727</td>\n",
              "      <td>5.500000</td>\n",
              "      <td>6.227273</td>\n",
              "    </tr>\n",
              "    <tr>\n",
              "      <th rowspan=\"2\" valign=\"top\">20s</th>\n",
              "      <th>1</th>\n",
              "      <td>24.917808</td>\n",
              "      <td>3.652055</td>\n",
              "      <td>3.583562</td>\n",
              "      <td>3.369863</td>\n",
              "      <td>5.161644</td>\n",
              "      <td>4.693151</td>\n",
              "      <td>4.857534</td>\n",
              "      <td>2.915068</td>\n",
              "      <td>4.098630</td>\n",
              "      <td>4.375342</td>\n",
              "      <td>...</td>\n",
              "      <td>4.060914</td>\n",
              "      <td>4.037037</td>\n",
              "      <td>5.533333</td>\n",
              "      <td>5.200000</td>\n",
              "      <td>6.0</td>\n",
              "      <td>7.000000</td>\n",
              "      <td>NaN</td>\n",
              "      <td>5.216438</td>\n",
              "      <td>5.441096</td>\n",
              "      <td>5.794521</td>\n",
              "    </tr>\n",
              "    <tr>\n",
              "      <th>2</th>\n",
              "      <td>24.974747</td>\n",
              "      <td>3.770202</td>\n",
              "      <td>3.611111</td>\n",
              "      <td>3.411616</td>\n",
              "      <td>4.856061</td>\n",
              "      <td>4.838384</td>\n",
              "      <td>4.954545</td>\n",
              "      <td>2.558081</td>\n",
              "      <td>4.300505</td>\n",
              "      <td>4.333333</td>\n",
              "      <td>...</td>\n",
              "      <td>4.196078</td>\n",
              "      <td>3.969697</td>\n",
              "      <td>4.500000</td>\n",
              "      <td>4.000000</td>\n",
              "      <td>1.5</td>\n",
              "      <td>4.000000</td>\n",
              "      <td>NaN</td>\n",
              "      <td>5.565657</td>\n",
              "      <td>5.974747</td>\n",
              "      <td>6.032828</td>\n",
              "    </tr>\n",
              "    <tr>\n",
              "      <th rowspan=\"2\" valign=\"top\">30s</th>\n",
              "      <th>1</th>\n",
              "      <td>35.248292</td>\n",
              "      <td>3.712984</td>\n",
              "      <td>3.551253</td>\n",
              "      <td>3.350797</td>\n",
              "      <td>4.738041</td>\n",
              "      <td>4.485194</td>\n",
              "      <td>4.551253</td>\n",
              "      <td>2.669704</td>\n",
              "      <td>4.173121</td>\n",
              "      <td>4.298405</td>\n",
              "      <td>...</td>\n",
              "      <td>4.163090</td>\n",
              "      <td>4.254545</td>\n",
              "      <td>4.500000</td>\n",
              "      <td>3.666667</td>\n",
              "      <td>4.6</td>\n",
              "      <td>2.500000</td>\n",
              "      <td>NaN</td>\n",
              "      <td>5.280182</td>\n",
              "      <td>5.881549</td>\n",
              "      <td>5.906606</td>\n",
              "    </tr>\n",
              "    <tr>\n",
              "      <th>2</th>\n",
              "      <td>34.793177</td>\n",
              "      <td>3.756930</td>\n",
              "      <td>3.492537</td>\n",
              "      <td>3.307036</td>\n",
              "      <td>4.628998</td>\n",
              "      <td>4.795309</td>\n",
              "      <td>4.690832</td>\n",
              "      <td>2.486141</td>\n",
              "      <td>4.409382</td>\n",
              "      <td>4.232409</td>\n",
              "      <td>...</td>\n",
              "      <td>4.322581</td>\n",
              "      <td>3.684932</td>\n",
              "      <td>5.068966</td>\n",
              "      <td>3.625000</td>\n",
              "      <td>3.0</td>\n",
              "      <td>NaN</td>\n",
              "      <td>NaN</td>\n",
              "      <td>5.784648</td>\n",
              "      <td>6.098081</td>\n",
              "      <td>6.181237</td>\n",
              "    </tr>\n",
              "    <tr>\n",
              "      <th rowspan=\"2\" valign=\"top\">40s</th>\n",
              "      <th>1</th>\n",
              "      <td>44.638796</td>\n",
              "      <td>3.782609</td>\n",
              "      <td>3.468227</td>\n",
              "      <td>3.306020</td>\n",
              "      <td>4.461538</td>\n",
              "      <td>4.739130</td>\n",
              "      <td>4.675585</td>\n",
              "      <td>2.478261</td>\n",
              "      <td>4.372910</td>\n",
              "      <td>4.003344</td>\n",
              "      <td>...</td>\n",
              "      <td>4.110787</td>\n",
              "      <td>4.431579</td>\n",
              "      <td>3.448276</td>\n",
              "      <td>4.600000</td>\n",
              "      <td>3.8</td>\n",
              "      <td>4.800000</td>\n",
              "      <td>NaN</td>\n",
              "      <td>5.424749</td>\n",
              "      <td>5.538462</td>\n",
              "      <td>5.961538</td>\n",
              "    </tr>\n",
              "    <tr>\n",
              "      <th>2</th>\n",
              "      <td>44.514938</td>\n",
              "      <td>3.824253</td>\n",
              "      <td>3.442882</td>\n",
              "      <td>3.277680</td>\n",
              "      <td>4.971880</td>\n",
              "      <td>4.625659</td>\n",
              "      <td>4.875220</td>\n",
              "      <td>2.295255</td>\n",
              "      <td>4.562390</td>\n",
              "      <td>3.991213</td>\n",
              "      <td>...</td>\n",
              "      <td>4.406040</td>\n",
              "      <td>4.500000</td>\n",
              "      <td>4.111111</td>\n",
              "      <td>4.857143</td>\n",
              "      <td>4.0</td>\n",
              "      <td>NaN</td>\n",
              "      <td>NaN</td>\n",
              "      <td>5.959578</td>\n",
              "      <td>6.015817</td>\n",
              "      <td>6.214411</td>\n",
              "    </tr>\n",
              "    <tr>\n",
              "      <th rowspan=\"2\" valign=\"top\">50s</th>\n",
              "      <th>1</th>\n",
              "      <td>53.984848</td>\n",
              "      <td>3.941077</td>\n",
              "      <td>3.531987</td>\n",
              "      <td>3.363636</td>\n",
              "      <td>4.760943</td>\n",
              "      <td>4.715488</td>\n",
              "      <td>4.602694</td>\n",
              "      <td>2.356902</td>\n",
              "      <td>4.496633</td>\n",
              "      <td>4.116162</td>\n",
              "      <td>...</td>\n",
              "      <td>3.827119</td>\n",
              "      <td>3.835616</td>\n",
              "      <td>4.111111</td>\n",
              "      <td>6.000000</td>\n",
              "      <td>8.0</td>\n",
              "      <td>2.000000</td>\n",
              "      <td>NaN</td>\n",
              "      <td>5.301347</td>\n",
              "      <td>5.838384</td>\n",
              "      <td>5.813131</td>\n",
              "    </tr>\n",
              "    <tr>\n",
              "      <th>2</th>\n",
              "      <td>54.153846</td>\n",
              "      <td>4.003419</td>\n",
              "      <td>3.429060</td>\n",
              "      <td>3.278632</td>\n",
              "      <td>4.832479</td>\n",
              "      <td>4.861538</td>\n",
              "      <td>5.302564</td>\n",
              "      <td>2.111111</td>\n",
              "      <td>4.668376</td>\n",
              "      <td>3.943590</td>\n",
              "      <td>...</td>\n",
              "      <td>3.972414</td>\n",
              "      <td>3.800000</td>\n",
              "      <td>4.565217</td>\n",
              "      <td>5.100000</td>\n",
              "      <td>3.8</td>\n",
              "      <td>4.500000</td>\n",
              "      <td>NaN</td>\n",
              "      <td>6.054701</td>\n",
              "      <td>6.329915</td>\n",
              "      <td>6.499145</td>\n",
              "    </tr>\n",
              "    <tr>\n",
              "      <th rowspan=\"2\" valign=\"top\">60s</th>\n",
              "      <th>1</th>\n",
              "      <td>63.595618</td>\n",
              "      <td>4.069721</td>\n",
              "      <td>3.619522</td>\n",
              "      <td>3.438247</td>\n",
              "      <td>4.886454</td>\n",
              "      <td>4.701195</td>\n",
              "      <td>4.844622</td>\n",
              "      <td>2.135458</td>\n",
              "      <td>4.601594</td>\n",
              "      <td>4.115538</td>\n",
              "      <td>...</td>\n",
              "      <td>3.839080</td>\n",
              "      <td>4.013514</td>\n",
              "      <td>4.350000</td>\n",
              "      <td>4.500000</td>\n",
              "      <td>4.5</td>\n",
              "      <td>3.666667</td>\n",
              "      <td>NaN</td>\n",
              "      <td>5.898406</td>\n",
              "      <td>6.071713</td>\n",
              "      <td>5.679283</td>\n",
              "    </tr>\n",
              "    <tr>\n",
              "      <th>2</th>\n",
              "      <td>63.383984</td>\n",
              "      <td>4.121150</td>\n",
              "      <td>3.501027</td>\n",
              "      <td>3.377823</td>\n",
              "      <td>5.137577</td>\n",
              "      <td>5.416838</td>\n",
              "      <td>4.958932</td>\n",
              "      <td>1.876797</td>\n",
              "      <td>4.657084</td>\n",
              "      <td>4.084189</td>\n",
              "      <td>...</td>\n",
              "      <td>3.907080</td>\n",
              "      <td>3.905660</td>\n",
              "      <td>2.857143</td>\n",
              "      <td>4.833333</td>\n",
              "      <td>2.0</td>\n",
              "      <td>NaN</td>\n",
              "      <td>NaN</td>\n",
              "      <td>5.917864</td>\n",
              "      <td>6.712526</td>\n",
              "      <td>6.447639</td>\n",
              "    </tr>\n",
              "  </tbody>\n",
              "</table>\n",
              "<p>12 rows × 21 columns</p>\n",
              "</div>\n",
              "      <button class=\"colab-df-convert\" onclick=\"convertToInteractive('df-becbc351-bcf4-44e1-92d9-7a285f725ab2')\"\n",
              "              title=\"Convert this dataframe to an interactive table.\"\n",
              "              style=\"display:none;\">\n",
              "        \n",
              "  <svg xmlns=\"http://www.w3.org/2000/svg\" height=\"24px\"viewBox=\"0 0 24 24\"\n",
              "       width=\"24px\">\n",
              "    <path d=\"M0 0h24v24H0V0z\" fill=\"none\"/>\n",
              "    <path d=\"M18.56 5.44l.94 2.06.94-2.06 2.06-.94-2.06-.94-.94-2.06-.94 2.06-2.06.94zm-11 1L8.5 8.5l.94-2.06 2.06-.94-2.06-.94L8.5 2.5l-.94 2.06-2.06.94zm10 10l.94 2.06.94-2.06 2.06-.94-2.06-.94-.94-2.06-.94 2.06-2.06.94z\"/><path d=\"M17.41 7.96l-1.37-1.37c-.4-.4-.92-.59-1.43-.59-.52 0-1.04.2-1.43.59L10.3 9.45l-7.72 7.72c-.78.78-.78 2.05 0 2.83L4 21.41c.39.39.9.59 1.41.59.51 0 1.02-.2 1.41-.59l7.78-7.78 2.81-2.81c.8-.78.8-2.07 0-2.86zM5.41 20L4 18.59l7.72-7.72 1.47 1.35L5.41 20z\"/>\n",
              "  </svg>\n",
              "      </button>\n",
              "      \n",
              "  <style>\n",
              "    .colab-df-container {\n",
              "      display:flex;\n",
              "      flex-wrap:wrap;\n",
              "      gap: 12px;\n",
              "    }\n",
              "\n",
              "    .colab-df-convert {\n",
              "      background-color: #E8F0FE;\n",
              "      border: none;\n",
              "      border-radius: 50%;\n",
              "      cursor: pointer;\n",
              "      display: none;\n",
              "      fill: #1967D2;\n",
              "      height: 32px;\n",
              "      padding: 0 0 0 0;\n",
              "      width: 32px;\n",
              "    }\n",
              "\n",
              "    .colab-df-convert:hover {\n",
              "      background-color: #E2EBFA;\n",
              "      box-shadow: 0px 1px 2px rgba(60, 64, 67, 0.3), 0px 1px 3px 1px rgba(60, 64, 67, 0.15);\n",
              "      fill: #174EA6;\n",
              "    }\n",
              "\n",
              "    [theme=dark] .colab-df-convert {\n",
              "      background-color: #3B4455;\n",
              "      fill: #D2E3FC;\n",
              "    }\n",
              "\n",
              "    [theme=dark] .colab-df-convert:hover {\n",
              "      background-color: #434B5C;\n",
              "      box-shadow: 0px 1px 3px 1px rgba(0, 0, 0, 0.15);\n",
              "      filter: drop-shadow(0px 1px 2px rgba(0, 0, 0, 0.3));\n",
              "      fill: #FFFFFF;\n",
              "    }\n",
              "  </style>\n",
              "\n",
              "      <script>\n",
              "        const buttonEl =\n",
              "          document.querySelector('#df-becbc351-bcf4-44e1-92d9-7a285f725ab2 button.colab-df-convert');\n",
              "        buttonEl.style.display =\n",
              "          google.colab.kernel.accessAllowed ? 'block' : 'none';\n",
              "\n",
              "        async function convertToInteractive(key) {\n",
              "          const element = document.querySelector('#df-becbc351-bcf4-44e1-92d9-7a285f725ab2');\n",
              "          const dataTable =\n",
              "            await google.colab.kernel.invokeFunction('convertToInteractive',\n",
              "                                                     [key], {});\n",
              "          if (!dataTable) return;\n",
              "\n",
              "          const docLinkHtml = 'Like what you see? Visit the ' +\n",
              "            '<a target=\"_blank\" href=https://colab.research.google.com/notebooks/data_table.ipynb>data table notebook</a>'\n",
              "            + ' to learn more about interactive tables.';\n",
              "          element.innerHTML = '';\n",
              "          dataTable['output_type'] = 'display_data';\n",
              "          await google.colab.output.renderOutput(dataTable, element);\n",
              "          const docLink = document.createElement('div');\n",
              "          docLink.innerHTML = docLinkHtml;\n",
              "          element.appendChild(docLink);\n",
              "        }\n",
              "      </script>\n",
              "    </div>\n",
              "  </div>\n",
              "  "
            ]
          },
          "metadata": {},
          "execution_count": 124
        }
      ]
    },
    {
      "cell_type": "markdown",
      "source": [
        "!!! 뭔가 insight가 나옴???\n"
      ],
      "metadata": {
        "id": "JmrpHjrKjmc6"
      }
    },
    {
      "cell_type": "markdown",
      "source": [
        "# 데이터 분석\n",
        "## 질문별 응답수와 비율을 알아볼까"
      ],
      "metadata": {
        "id": "Ur4D0r3PR_Fa"
      }
    },
    {
      "cell_type": "markdown",
      "source": [
        "### 환경에 관심이 있는지 여부\n",
        "- A1 환경관심정도 *** ordered_interest\n",
        "- A2 환경문제의 원인 인지정도 *** ordered_recog\n",
        "- A3 환경문제의 해결 방법 인지정도 *** ordered_knowsol\n",
        "- B1 환경 친화적 우선 vs 편리함 우선 *** ordered_will (얘는 스케일이 달라서 서술로 추가하도록!)"
      ],
      "metadata": {
        "id": "9RbOk7idSPE8"
      }
    },
    {
      "cell_type": "markdown",
      "source": [
        "##### A1 환경 관심정도(1: 관심 없음, 5: 매우 관심있음)"
      ],
      "metadata": {
        "id": "3l-AVAMRUhFU"
      }
    },
    {
      "cell_type": "code",
      "source": [
        "# value_counts()는 그룹화된 데이터의 카운트 값을 리턴\n",
        "data_interest_count = pd.DataFrame(data['A1'].value_counts())\n",
        "# normalize=True 옵션을 사용하면 해당 데이터가 전체 데이터에서 차지하는 비중을 알 수 있다\n",
        "data_interest_percent = pd.DataFrame(data['A1'].value_counts(normalize=True))\n",
        "\n",
        "data_interest_df = data_interest_count.merge(data_interest_percent, left_index=True, right_index=True)\n",
        "data_interest_df.columns=['A1 응답 수', 'A1 비율']\n",
        "ordered_interest = data_interest_df.sort_index()\n",
        "# print(data_interest_df)\n",
        "print(ordered_interest)"
      ],
      "metadata": {
        "colab": {
          "base_uri": "https://localhost:8080/"
        },
        "id": "IOpd5ZogPRSQ",
        "outputId": "7982ae91-48e0-4318-ceec-17ac7ce2e4e3"
      },
      "execution_count": null,
      "outputs": [
        {
          "output_type": "stream",
          "name": "stdout",
          "text": [
            "   A1 응답 수     A1 비율\n",
            "1       17  0.003366\n",
            "2       93  0.018416\n",
            "3     1240  0.245545\n",
            "4     2859  0.566139\n",
            "5      841  0.166535\n"
          ]
        }
      ]
    },
    {
      "cell_type": "markdown",
      "source": [
        "- 1은 전혀 관심 없음, 5는 매우 관심 있음\n",
        "- 4, 5의 값을 더한 약 73%의 응답자가 환경에 관심이 있다고 응답함"
      ],
      "metadata": {
        "id": "zwWDaBCdTjuJ"
      }
    },
    {
      "cell_type": "code",
      "source": [
        "# 응답자의 답변 현황 시각화\n",
        "plt.figure()\n",
        "sns.countplot(y='A1', data=data)\n",
        "plt.title('interested in the environment')"
      ],
      "metadata": {
        "colab": {
          "base_uri": "https://localhost:8080/"
        },
        "id": "WpkY-Cs2TS4G",
        "outputId": "cf1b06f9-4b5d-4629-f0c2-48b13fe029cc"
      },
      "execution_count": null,
      "outputs": [
        {
          "output_type": "execute_result",
          "data": {
            "text/plain": [
              "Text(0.5, 1.0, 'interested in the environment')"
            ]
          },
          "metadata": {},
          "execution_count": 126
        },
        {
          "output_type": "display_data",
          "data": {
            "text/plain": [
              "<Figure size 432x288 with 1 Axes>"
            ],
            "image/png": "[encoded data removed]"
          },
          "metadata": {
            "needs_background": "light"
          }
        }
      ]
    },
    {
      "cell_type": "code",
      "source": [
        "# stacked bar chart를 만들어 보자\n",
        "# 1. 행렬을 바꾼다 (행: A1 비율, 열 1, 2, 3, 4, 5)\n",
        "transposed_A1 = pd.DataFrame.transpose(ordered_interest)\n",
        "transposed_A1"
      ],
      "metadata": {
        "colab": {
          "base_uri": "https://localhost:8080/"
        },
        "id": "gxxTpK71ZaSl",
        "outputId": "af3ed17b-5244-4ad3-b0be-f31d68aa1ecc"
      },
      "execution_count": null,
      "outputs": [
        {
          "output_type": "execute_result",
          "data": {
            "text/plain": [
              "                 1          2            3            4           5\n",
              "A1 응답 수  17.000000  93.000000  1240.000000  2859.000000  841.000000\n",
              "A1 비율     0.003366   0.018416     0.245545     0.566139    0.166535"
            ],
            "text/html": [
              "\n",
              "  <div id=\"df-773c22dc-12cc-430b-ab5f-1435f43b1d5a\">\n",
              "    <div class=\"colab-df-container\">\n",
              "      <div>\n",
              "<style scoped>\n",
              "    .dataframe tbody tr th:only-of-type {\n",
              "        vertical-align: middle;\n",
              "    }\n",
              "\n",
              "    .dataframe tbody tr th {\n",
              "        vertical-align: top;\n",
              "    }\n",
              "\n",
              "    .dataframe thead th {\n",
              "        text-align: right;\n",
              "    }\n",
              "</style>\n",
              "<table border=\"1\" class=\"dataframe\">\n",
              "  <thead>\n",
              "    <tr style=\"text-align: right;\">\n",
              "      <th></th>\n",
              "      <th>1</th>\n",
              "      <th>2</th>\n",
              "      <th>3</th>\n",
              "      <th>4</th>\n",
              "      <th>5</th>\n",
              "    </tr>\n",
              "  </thead>\n",
              "  <tbody>\n",
              "    <tr>\n",
              "      <th>A1 응답 수</th>\n",
              "      <td>17.000000</td>\n",
              "      <td>93.000000</td>\n",
              "      <td>1240.000000</td>\n",
              "      <td>2859.000000</td>\n",
              "      <td>841.000000</td>\n",
              "    </tr>\n",
              "    <tr>\n",
              "      <th>A1 비율</th>\n",
              "      <td>0.003366</td>\n",
              "      <td>0.018416</td>\n",
              "      <td>0.245545</td>\n",
              "      <td>0.566139</td>\n",
              "      <td>0.166535</td>\n",
              "    </tr>\n",
              "  </tbody>\n",
              "</table>\n",
              "</div>\n",
              "      <button class=\"colab-df-convert\" onclick=\"convertToInteractive('df-773c22dc-12cc-430b-ab5f-1435f43b1d5a')\"\n",
              "              title=\"Convert this dataframe to an interactive table.\"\n",
              "              style=\"display:none;\">\n",
              "        \n",
              "  <svg xmlns=\"http://www.w3.org/2000/svg\" height=\"24px\"viewBox=\"0 0 24 24\"\n",
              "       width=\"24px\">\n",
              "    <path d=\"M0 0h24v24H0V0z\" fill=\"none\"/>\n",
              "    <path d=\"M18.56 5.44l.94 2.06.94-2.06 2.06-.94-2.06-.94-.94-2.06-.94 2.06-2.06.94zm-11 1L8.5 8.5l.94-2.06 2.06-.94-2.06-.94L8.5 2.5l-.94 2.06-2.06.94zm10 10l.94 2.06.94-2.06 2.06-.94-2.06-.94-.94-2.06-.94 2.06-2.06.94z\"/><path d=\"M17.41 7.96l-1.37-1.37c-.4-.4-.92-.59-1.43-.59-.52 0-1.04.2-1.43.59L10.3 9.45l-7.72 7.72c-.78.78-.78 2.05 0 2.83L4 21.41c.39.39.9.59 1.41.59.51 0 1.02-.2 1.41-.59l7.78-7.78 2.81-2.81c.8-.78.8-2.07 0-2.86zM5.41 20L4 18.59l7.72-7.72 1.47 1.35L5.41 20z\"/>\n",
              "  </svg>\n",
              "      </button>\n",
              "      \n",
              "  <style>\n",
              "    .colab-df-container {\n",
              "      display:flex;\n",
              "      flex-wrap:wrap;\n",
              "      gap: 12px;\n",
              "    }\n",
              "\n",
              "    .colab-df-convert {\n",
              "      background-color: #E8F0FE;\n",
              "      border: none;\n",
              "      border-radius: 50%;\n",
              "      cursor: pointer;\n",
              "      display: none;\n",
              "      fill: #1967D2;\n",
              "      height: 32px;\n",
              "      padding: 0 0 0 0;\n",
              "      width: 32px;\n",
              "    }\n",
              "\n",
              "    .colab-df-convert:hover {\n",
              "      background-color: #E2EBFA;\n",
              "      box-shadow: 0px 1px 2px rgba(60, 64, 67, 0.3), 0px 1px 3px 1px rgba(60, 64, 67, 0.15);\n",
              "      fill: #174EA6;\n",
              "    }\n",
              "\n",
              "    [theme=dark] .colab-df-convert {\n",
              "      background-color: #3B4455;\n",
              "      fill: #D2E3FC;\n",
              "    }\n",
              "\n",
              "    [theme=dark] .colab-df-convert:hover {\n",
              "      background-color: #434B5C;\n",
              "      box-shadow: 0px 1px 3px 1px rgba(0, 0, 0, 0.15);\n",
              "      filter: drop-shadow(0px 1px 2px rgba(0, 0, 0, 0.3));\n",
              "      fill: #FFFFFF;\n",
              "    }\n",
              "  </style>\n",
              "\n",
              "      <script>\n",
              "        const buttonEl =\n",
              "          document.querySelector('#df-773c22dc-12cc-430b-ab5f-1435f43b1d5a button.colab-df-convert');\n",
              "        buttonEl.style.display =\n",
              "          google.colab.kernel.accessAllowed ? 'block' : 'none';\n",
              "\n",
              "        async function convertToInteractive(key) {\n",
              "          const element = document.querySelector('#df-773c22dc-12cc-430b-ab5f-1435f43b1d5a');\n",
              "          const dataTable =\n",
              "            await google.colab.kernel.invokeFunction('convertToInteractive',\n",
              "                                                     [key], {});\n",
              "          if (!dataTable) return;\n",
              "\n",
              "          const docLinkHtml = 'Like what you see? Visit the ' +\n",
              "            '<a target=\"_blank\" href=https://colab.research.google.com/notebooks/data_table.ipynb>data table notebook</a>'\n",
              "            + ' to learn more about interactive tables.';\n",
              "          element.innerHTML = '';\n",
              "          dataTable['output_type'] = 'display_data';\n",
              "          await google.colab.output.renderOutput(dataTable, element);\n",
              "          const docLink = document.createElement('div');\n",
              "          docLink.innerHTML = docLinkHtml;\n",
              "          element.appendChild(docLink);\n",
              "        }\n",
              "      </script>\n",
              "    </div>\n",
              "  </div>\n",
              "  "
            ]
          },
          "metadata": {},
          "execution_count": 127
        }
      ]
    },
    {
      "cell_type": "markdown",
      "source": [
        "#### A2 환경문제의 원인 인지정도 (1: 전혀 모른다, 5: 매우 잘 알고 있다)"
      ],
      "metadata": {
        "id": "amC_PQBvU0HL"
      }
    },
    {
      "cell_type": "code",
      "source": [
        "data_recog_count = pd.DataFrame(data['A2'].value_counts())\n",
        "# normalize=True 옵션을 사용하면 해당 데이터가 전체 데이터에서 차지하는 비중을 알 수 있다\n",
        "data_recog_percent = pd.DataFrame(data['A2'].value_counts(normalize=True))\n",
        "\n",
        "data_recog_df = data_recog_count.merge(data_recog_percent, left_index=True, right_index=True)\n",
        "data_recog_df.columns=['A2 응답 수', 'A2 비율']\n",
        "ordered_recog = data_recog_df.sort_index()"
      ],
      "metadata": {
        "id": "gJ3PIix0UElj"
      },
      "execution_count": null,
      "outputs": []
    },
    {
      "cell_type": "markdown",
      "source": [
        "- 환경문제의 원인을 알고 있다고 응답한 비율은 약 53%, 중립반응이 약 42%, 모른다는 반응이 약 5%"
      ],
      "metadata": {
        "id": "m8sMou1XVTu0"
      }
    },
    {
      "cell_type": "code",
      "source": [
        "# 응답자의 답변 현황 시각화\n",
        "plt.figure()\n",
        "sns.countplot(y='A2', data=data)\n",
        "plt.title('know the source of the environmental problems')"
      ],
      "metadata": {
        "colab": {
          "base_uri": "https://localhost:8080/"
        },
        "id": "eUb4FraVWLEi",
        "outputId": "8f93eb17-4c40-43ef-8ee2-d8ec1cdc0f95"
      },
      "execution_count": null,
      "outputs": [
        {
          "output_type": "execute_result",
          "data": {
            "text/plain": [
              "Text(0.5, 1.0, 'know the source of the environmental problems')"
            ]
          },
          "metadata": {},
          "execution_count": 129
        },
        {
          "output_type": "display_data",
          "data": {
            "text/plain": [
              "<Figure size 432x288 with 1 Axes>"
            ],
            "image/png": "[encoded data removed]"
          },
          "metadata": {
            "needs_background": "light"
          }
        }
      ]
    },
    {
      "cell_type": "code",
      "source": [
        "# transpose\n",
        "transposed_A2 = pd.DataFrame.transpose(ordered_recog)\n",
        "transposed_A2"
      ],
      "metadata": {
        "colab": {
          "base_uri": "https://localhost:8080/"
        },
        "id": "yguXWM_JdEFV",
        "outputId": "9bfdec94-11bd-4232-a7b1-2ca7489b00f2"
      },
      "execution_count": null,
      "outputs": [
        {
          "output_type": "execute_result",
          "data": {
            "text/plain": [
              "                 1           2            3            4           5\n",
              "A2 응답 수  12.000000  234.000000  2135.000000  2460.000000  209.000000\n",
              "A2 비율     0.002376    0.046337     0.422772     0.487129    0.041386"
            ],
            "text/html": [
              "\n",
              "  <div id=\"df-f65b1a65-b3b5-4455-9a53-58b0829079d8\">\n",
              "    <div class=\"colab-df-container\">\n",
              "      <div>\n",
              "<style scoped>\n",
              "    .dataframe tbody tr th:only-of-type {\n",
              "        vertical-align: middle;\n",
              "    }\n",
              "\n",
              "    .dataframe tbody tr th {\n",
              "        vertical-align: top;\n",
              "    }\n",
              "\n",
              "    .dataframe thead th {\n",
              "        text-align: right;\n",
              "    }\n",
              "</style>\n",
              "<table border=\"1\" class=\"dataframe\">\n",
              "  <thead>\n",
              "    <tr style=\"text-align: right;\">\n",
              "      <th></th>\n",
              "      <th>1</th>\n",
              "      <th>2</th>\n",
              "      <th>3</th>\n",
              "      <th>4</th>\n",
              "      <th>5</th>\n",
              "    </tr>\n",
              "  </thead>\n",
              "  <tbody>\n",
              "    <tr>\n",
              "      <th>A2 응답 수</th>\n",
              "      <td>12.000000</td>\n",
              "      <td>234.000000</td>\n",
              "      <td>2135.000000</td>\n",
              "      <td>2460.000000</td>\n",
              "      <td>209.000000</td>\n",
              "    </tr>\n",
              "    <tr>\n",
              "      <th>A2 비율</th>\n",
              "      <td>0.002376</td>\n",
              "      <td>0.046337</td>\n",
              "      <td>0.422772</td>\n",
              "      <td>0.487129</td>\n",
              "      <td>0.041386</td>\n",
              "    </tr>\n",
              "  </tbody>\n",
              "</table>\n",
              "</div>\n",
              "      <button class=\"colab-df-convert\" onclick=\"convertToInteractive('df-f65b1a65-b3b5-4455-9a53-58b0829079d8')\"\n",
              "              title=\"Convert this dataframe to an interactive table.\"\n",
              "              style=\"display:none;\">\n",
              "        \n",
              "  <svg xmlns=\"http://www.w3.org/2000/svg\" height=\"24px\"viewBox=\"0 0 24 24\"\n",
              "       width=\"24px\">\n",
              "    <path d=\"M0 0h24v24H0V0z\" fill=\"none\"/>\n",
              "    <path d=\"M18.56 5.44l.94 2.06.94-2.06 2.06-.94-2.06-.94-.94-2.06-.94 2.06-2.06.94zm-11 1L8.5 8.5l.94-2.06 2.06-.94-2.06-.94L8.5 2.5l-.94 2.06-2.06.94zm10 10l.94 2.06.94-2.06 2.06-.94-2.06-.94-.94-2.06-.94 2.06-2.06.94z\"/><path d=\"M17.41 7.96l-1.37-1.37c-.4-.4-.92-.59-1.43-.59-.52 0-1.04.2-1.43.59L10.3 9.45l-7.72 7.72c-.78.78-.78 2.05 0 2.83L4 21.41c.39.39.9.59 1.41.59.51 0 1.02-.2 1.41-.59l7.78-7.78 2.81-2.81c.8-.78.8-2.07 0-2.86zM5.41 20L4 18.59l7.72-7.72 1.47 1.35L5.41 20z\"/>\n",
              "  </svg>\n",
              "      </button>\n",
              "      \n",
              "  <style>\n",
              "    .colab-df-container {\n",
              "      display:flex;\n",
              "      flex-wrap:wrap;\n",
              "      gap: 12px;\n",
              "    }\n",
              "\n",
              "    .colab-df-convert {\n",
              "      background-color: #E8F0FE;\n",
              "      border: none;\n",
              "      border-radius: 50%;\n",
              "      cursor: pointer;\n",
              "      display: none;\n",
              "      fill: #1967D2;\n",
              "      height: 32px;\n",
              "      padding: 0 0 0 0;\n",
              "      width: 32px;\n",
              "    }\n",
              "\n",
              "    .colab-df-convert:hover {\n",
              "      background-color: #E2EBFA;\n",
              "      box-shadow: 0px 1px 2px rgba(60, 64, 67, 0.3), 0px 1px 3px 1px rgba(60, 64, 67, 0.15);\n",
              "      fill: #174EA6;\n",
              "    }\n",
              "\n",
              "    [theme=dark] .colab-df-convert {\n",
              "      background-color: #3B4455;\n",
              "      fill: #D2E3FC;\n",
              "    }\n",
              "\n",
              "    [theme=dark] .colab-df-convert:hover {\n",
              "      background-color: #434B5C;\n",
              "      box-shadow: 0px 1px 3px 1px rgba(0, 0, 0, 0.15);\n",
              "      filter: drop-shadow(0px 1px 2px rgba(0, 0, 0, 0.3));\n",
              "      fill: #FFFFFF;\n",
              "    }\n",
              "  </style>\n",
              "\n",
              "      <script>\n",
              "        const buttonEl =\n",
              "          document.querySelector('#df-f65b1a65-b3b5-4455-9a53-58b0829079d8 button.colab-df-convert');\n",
              "        buttonEl.style.display =\n",
              "          google.colab.kernel.accessAllowed ? 'block' : 'none';\n",
              "\n",
              "        async function convertToInteractive(key) {\n",
              "          const element = document.querySelector('#df-f65b1a65-b3b5-4455-9a53-58b0829079d8');\n",
              "          const dataTable =\n",
              "            await google.colab.kernel.invokeFunction('convertToInteractive',\n",
              "                                                     [key], {});\n",
              "          if (!dataTable) return;\n",
              "\n",
              "          const docLinkHtml = 'Like what you see? Visit the ' +\n",
              "            '<a target=\"_blank\" href=https://colab.research.google.com/notebooks/data_table.ipynb>data table notebook</a>'\n",
              "            + ' to learn more about interactive tables.';\n",
              "          element.innerHTML = '';\n",
              "          dataTable['output_type'] = 'display_data';\n",
              "          await google.colab.output.renderOutput(dataTable, element);\n",
              "          const docLink = document.createElement('div');\n",
              "          docLink.innerHTML = docLinkHtml;\n",
              "          element.appendChild(docLink);\n",
              "        }\n",
              "      </script>\n",
              "    </div>\n",
              "  </div>\n",
              "  "
            ]
          },
          "metadata": {},
          "execution_count": 130
        }
      ]
    },
    {
      "cell_type": "markdown",
      "source": [
        "#### A3 환경문제 해결방법 인지 정도 (1: 전혀 모른다, 5: 매우 잘 알고 있다)"
      ],
      "metadata": {
        "id": "ZiSVuO5LXduh"
      }
    },
    {
      "cell_type": "code",
      "source": [
        "data_knowsol_count = pd.DataFrame(data['A3'].value_counts())\n",
        "# normalize=True 옵션을 사용하면 해당 데이터가 전체 데이터에서 차지하는 비중을 알 수 있다\n",
        "data_knowsol_percent = pd.DataFrame(data['A3'].value_counts(normalize=True))\n",
        "\n",
        "data_knowsol_df = data_knowsol_count.merge(data_knowsol_percent, left_index=True, right_index=True)\n",
        "data_knowsol_df.columns=['A3 응답 수', 'A3 비율']\n",
        "ordered_knowsol = data_knowsol_df.sort_index()\n",
        "data_knowsol_df"
      ],
      "metadata": {
        "colab": {
          "base_uri": "https://localhost:8080/"
        },
        "id": "_T8EAepUXmWV",
        "outputId": "ac9cb6b9-e687-4e60-f156-dd8b3f861a3c"
      },
      "execution_count": null,
      "outputs": [
        {
          "output_type": "execute_result",
          "data": {
            "text/plain": [
              "   A3 응답 수     A3 비율\n",
              "3     2483  0.491683\n",
              "4     1956  0.387327\n",
              "2      455  0.090099\n",
              "5      139  0.027525\n",
              "1       17  0.003366"
            ],
            "text/html": [
              "\n",
              "  <div id=\"df-cac64b9b-8f93-4834-87de-e24002e0c23b\">\n",
              "    <div class=\"colab-df-container\">\n",
              "      <div>\n",
              "<style scoped>\n",
              "    .dataframe tbody tr th:only-of-type {\n",
              "        vertical-align: middle;\n",
              "    }\n",
              "\n",
              "    .dataframe tbody tr th {\n",
              "        vertical-align: top;\n",
              "    }\n",
              "\n",
              "    .dataframe thead th {\n",
              "        text-align: right;\n",
              "    }\n",
              "</style>\n",
              "<table border=\"1\" class=\"dataframe\">\n",
              "  <thead>\n",
              "    <tr style=\"text-align: right;\">\n",
              "      <th></th>\n",
              "      <th>A3 응답 수</th>\n",
              "      <th>A3 비율</th>\n",
              "    </tr>\n",
              "  </thead>\n",
              "  <tbody>\n",
              "    <tr>\n",
              "      <th>3</th>\n",
              "      <td>2483</td>\n",
              "      <td>0.491683</td>\n",
              "    </tr>\n",
              "    <tr>\n",
              "      <th>4</th>\n",
              "      <td>1956</td>\n",
              "      <td>0.387327</td>\n",
              "    </tr>\n",
              "    <tr>\n",
              "      <th>2</th>\n",
              "      <td>455</td>\n",
              "      <td>0.090099</td>\n",
              "    </tr>\n",
              "    <tr>\n",
              "      <th>5</th>\n",
              "      <td>139</td>\n",
              "      <td>0.027525</td>\n",
              "    </tr>\n",
              "    <tr>\n",
              "      <th>1</th>\n",
              "      <td>17</td>\n",
              "      <td>0.003366</td>\n",
              "    </tr>\n",
              "  </tbody>\n",
              "</table>\n",
              "</div>\n",
              "      <button class=\"colab-df-convert\" onclick=\"convertToInteractive('df-cac64b9b-8f93-4834-87de-e24002e0c23b')\"\n",
              "              title=\"Convert this dataframe to an interactive table.\"\n",
              "              style=\"display:none;\">\n",
              "        \n",
              "  <svg xmlns=\"http://www.w3.org/2000/svg\" height=\"24px\"viewBox=\"0 0 24 24\"\n",
              "       width=\"24px\">\n",
              "    <path d=\"M0 0h24v24H0V0z\" fill=\"none\"/>\n",
              "    <path d=\"M18.56 5.44l.94 2.06.94-2.06 2.06-.94-2.06-.94-.94-2.06-.94 2.06-2.06.94zm-11 1L8.5 8.5l.94-2.06 2.06-.94-2.06-.94L8.5 2.5l-.94 2.06-2.06.94zm10 10l.94 2.06.94-2.06 2.06-.94-2.06-.94-.94-2.06-.94 2.06-2.06.94z\"/><path d=\"M17.41 7.96l-1.37-1.37c-.4-.4-.92-.59-1.43-.59-.52 0-1.04.2-1.43.59L10.3 9.45l-7.72 7.72c-.78.78-.78 2.05 0 2.83L4 21.41c.39.39.9.59 1.41.59.51 0 1.02-.2 1.41-.59l7.78-7.78 2.81-2.81c.8-.78.8-2.07 0-2.86zM5.41 20L4 18.59l7.72-7.72 1.47 1.35L5.41 20z\"/>\n",
              "  </svg>\n",
              "      </button>\n",
              "      \n",
              "  <style>\n",
              "    .colab-df-container {\n",
              "      display:flex;\n",
              "      flex-wrap:wrap;\n",
              "      gap: 12px;\n",
              "    }\n",
              "\n",
              "    .colab-df-convert {\n",
              "      background-color: #E8F0FE;\n",
              "      border: none;\n",
              "      border-radius: 50%;\n",
              "      cursor: pointer;\n",
              "      display: none;\n",
              "      fill: #1967D2;\n",
              "      height: 32px;\n",
              "      padding: 0 0 0 0;\n",
              "      width: 32px;\n",
              "    }\n",
              "\n",
              "    .colab-df-convert:hover {\n",
              "      background-color: #E2EBFA;\n",
              "      box-shadow: 0px 1px 2px rgba(60, 64, 67, 0.3), 0px 1px 3px 1px rgba(60, 64, 67, 0.15);\n",
              "      fill: #174EA6;\n",
              "    }\n",
              "\n",
              "    [theme=dark] .colab-df-convert {\n",
              "      background-color: #3B4455;\n",
              "      fill: #D2E3FC;\n",
              "    }\n",
              "\n",
              "    [theme=dark] .colab-df-convert:hover {\n",
              "      background-color: #434B5C;\n",
              "      box-shadow: 0px 1px 3px 1px rgba(0, 0, 0, 0.15);\n",
              "      filter: drop-shadow(0px 1px 2px rgba(0, 0, 0, 0.3));\n",
              "      fill: #FFFFFF;\n",
              "    }\n",
              "  </style>\n",
              "\n",
              "      <script>\n",
              "        const buttonEl =\n",
              "          document.querySelector('#df-cac64b9b-8f93-4834-87de-e24002e0c23b button.colab-df-convert');\n",
              "        buttonEl.style.display =\n",
              "          google.colab.kernel.accessAllowed ? 'block' : 'none';\n",
              "\n",
              "        async function convertToInteractive(key) {\n",
              "          const element = document.querySelector('#df-cac64b9b-8f93-4834-87de-e24002e0c23b');\n",
              "          const dataTable =\n",
              "            await google.colab.kernel.invokeFunction('convertToInteractive',\n",
              "                                                     [key], {});\n",
              "          if (!dataTable) return;\n",
              "\n",
              "          const docLinkHtml = 'Like what you see? Visit the ' +\n",
              "            '<a target=\"_blank\" href=https://colab.research.google.com/notebooks/data_table.ipynb>data table notebook</a>'\n",
              "            + ' to learn more about interactive tables.';\n",
              "          element.innerHTML = '';\n",
              "          dataTable['output_type'] = 'display_data';\n",
              "          await google.colab.output.renderOutput(dataTable, element);\n",
              "          const docLink = document.createElement('div');\n",
              "          docLink.innerHTML = docLinkHtml;\n",
              "          element.appendChild(docLink);\n",
              "        }\n",
              "      </script>\n",
              "    </div>\n",
              "  </div>\n",
              "  "
            ]
          },
          "metadata": {},
          "execution_count": 131
        }
      ]
    },
    {
      "cell_type": "markdown",
      "source": [
        "- 중립이라고 응답한 비율이 가장 높은 약 49%\n",
        "- 방법을 알고 있다고 응답한 비율이 약 41%로\n",
        "  - 환경에 관심이 있다고 응답한 비율 73%\n",
        "  - 환경문제의 원인을 알고 있다고 응답한 비율 53%\n",
        "- 위의 두 데이터와 비교했을 때 응답률이 낮은 것을 알 수 있음 \n",
        "\n",
        "!!! 환경에 관심이 있다고 한 사람들의 데이터만 따로 뽑아서 한 번 분석해 볼까? (관심은 있는데, 방법을 잘 모르는 사람의 비율을 알아보는 것도 좋을 것 같아)"
      ],
      "metadata": {
        "id": "4kf1EiSeX6nu"
      }
    },
    {
      "cell_type": "code",
      "source": [
        "plt.figure()\n",
        "sns.countplot(y='A3', data=data)\n",
        "plt.title('know how to solve the environmental problems')"
      ],
      "metadata": {
        "colab": {
          "base_uri": "https://localhost:8080/"
        },
        "id": "85r71JJYXnBP",
        "outputId": "9376a515-0f8e-4618-e7cf-c171e8e2580d"
      },
      "execution_count": null,
      "outputs": [
        {
          "output_type": "execute_result",
          "data": {
            "text/plain": [
              "Text(0.5, 1.0, 'know how to solve the environmental problems')"
            ]
          },
          "metadata": {},
          "execution_count": 132
        },
        {
          "output_type": "display_data",
          "data": {
            "text/plain": [
              "<Figure size 432x288 with 1 Axes>"
            ],
            "image/png": "[encoded data removed]"
          },
          "metadata": {
            "needs_background": "light"
          }
        }
      ]
    },
    {
      "cell_type": "code",
      "source": [
        "# transpose\n",
        "transposed_A3 = pd.DataFrame.transpose(ordered_knowsol)\n",
        "transposed_A3"
      ],
      "metadata": {
        "colab": {
          "base_uri": "https://localhost:8080/"
        },
        "id": "bpat1SgidOpZ",
        "outputId": "b2d12af3-062f-4a47-aba8-324d76019b60"
      },
      "execution_count": null,
      "outputs": [
        {
          "output_type": "execute_result",
          "data": {
            "text/plain": [
              "                 1           2            3            4           5\n",
              "A3 응답 수  17.000000  455.000000  2483.000000  1956.000000  139.000000\n",
              "A3 비율     0.003366    0.090099     0.491683     0.387327    0.027525"
            ],
            "text/html": [
              "\n",
              "  <div id=\"df-5841be88-d883-4ff2-b5ac-c85bc4ae52f7\">\n",
              "    <div class=\"colab-df-container\">\n",
              "      <div>\n",
              "<style scoped>\n",
              "    .dataframe tbody tr th:only-of-type {\n",
              "        vertical-align: middle;\n",
              "    }\n",
              "\n",
              "    .dataframe tbody tr th {\n",
              "        vertical-align: top;\n",
              "    }\n",
              "\n",
              "    .dataframe thead th {\n",
              "        text-align: right;\n",
              "    }\n",
              "</style>\n",
              "<table border=\"1\" class=\"dataframe\">\n",
              "  <thead>\n",
              "    <tr style=\"text-align: right;\">\n",
              "      <th></th>\n",
              "      <th>1</th>\n",
              "      <th>2</th>\n",
              "      <th>3</th>\n",
              "      <th>4</th>\n",
              "      <th>5</th>\n",
              "    </tr>\n",
              "  </thead>\n",
              "  <tbody>\n",
              "    <tr>\n",
              "      <th>A3 응답 수</th>\n",
              "      <td>17.000000</td>\n",
              "      <td>455.000000</td>\n",
              "      <td>2483.000000</td>\n",
              "      <td>1956.000000</td>\n",
              "      <td>139.000000</td>\n",
              "    </tr>\n",
              "    <tr>\n",
              "      <th>A3 비율</th>\n",
              "      <td>0.003366</td>\n",
              "      <td>0.090099</td>\n",
              "      <td>0.491683</td>\n",
              "      <td>0.387327</td>\n",
              "      <td>0.027525</td>\n",
              "    </tr>\n",
              "  </tbody>\n",
              "</table>\n",
              "</div>\n",
              "      <button class=\"colab-df-convert\" onclick=\"convertToInteractive('df-5841be88-d883-4ff2-b5ac-c85bc4ae52f7')\"\n",
              "              title=\"Convert this dataframe to an interactive table.\"\n",
              "              style=\"display:none;\">\n",
              "        \n",
              "  <svg xmlns=\"http://www.w3.org/2000/svg\" height=\"24px\"viewBox=\"0 0 24 24\"\n",
              "       width=\"24px\">\n",
              "    <path d=\"M0 0h24v24H0V0z\" fill=\"none\"/>\n",
              "    <path d=\"M18.56 5.44l.94 2.06.94-2.06 2.06-.94-2.06-.94-.94-2.06-.94 2.06-2.06.94zm-11 1L8.5 8.5l.94-2.06 2.06-.94-2.06-.94L8.5 2.5l-.94 2.06-2.06.94zm10 10l.94 2.06.94-2.06 2.06-.94-2.06-.94-.94-2.06-.94 2.06-2.06.94z\"/><path d=\"M17.41 7.96l-1.37-1.37c-.4-.4-.92-.59-1.43-.59-.52 0-1.04.2-1.43.59L10.3 9.45l-7.72 7.72c-.78.78-.78 2.05 0 2.83L4 21.41c.39.39.9.59 1.41.59.51 0 1.02-.2 1.41-.59l7.78-7.78 2.81-2.81c.8-.78.8-2.07 0-2.86zM5.41 20L4 18.59l7.72-7.72 1.47 1.35L5.41 20z\"/>\n",
              "  </svg>\n",
              "      </button>\n",
              "      \n",
              "  <style>\n",
              "    .colab-df-container {\n",
              "      display:flex;\n",
              "      flex-wrap:wrap;\n",
              "      gap: 12px;\n",
              "    }\n",
              "\n",
              "    .colab-df-convert {\n",
              "      background-color: #E8F0FE;\n",
              "      border: none;\n",
              "      border-radius: 50%;\n",
              "      cursor: pointer;\n",
              "      display: none;\n",
              "      fill: #1967D2;\n",
              "      height: 32px;\n",
              "      padding: 0 0 0 0;\n",
              "      width: 32px;\n",
              "    }\n",
              "\n",
              "    .colab-df-convert:hover {\n",
              "      background-color: #E2EBFA;\n",
              "      box-shadow: 0px 1px 2px rgba(60, 64, 67, 0.3), 0px 1px 3px 1px rgba(60, 64, 67, 0.15);\n",
              "      fill: #174EA6;\n",
              "    }\n",
              "\n",
              "    [theme=dark] .colab-df-convert {\n",
              "      background-color: #3B4455;\n",
              "      fill: #D2E3FC;\n",
              "    }\n",
              "\n",
              "    [theme=dark] .colab-df-convert:hover {\n",
              "      background-color: #434B5C;\n",
              "      box-shadow: 0px 1px 3px 1px rgba(0, 0, 0, 0.15);\n",
              "      filter: drop-shadow(0px 1px 2px rgba(0, 0, 0, 0.3));\n",
              "      fill: #FFFFFF;\n",
              "    }\n",
              "  </style>\n",
              "\n",
              "      <script>\n",
              "        const buttonEl =\n",
              "          document.querySelector('#df-5841be88-d883-4ff2-b5ac-c85bc4ae52f7 button.colab-df-convert');\n",
              "        buttonEl.style.display =\n",
              "          google.colab.kernel.accessAllowed ? 'block' : 'none';\n",
              "\n",
              "        async function convertToInteractive(key) {\n",
              "          const element = document.querySelector('#df-5841be88-d883-4ff2-b5ac-c85bc4ae52f7');\n",
              "          const dataTable =\n",
              "            await google.colab.kernel.invokeFunction('convertToInteractive',\n",
              "                                                     [key], {});\n",
              "          if (!dataTable) return;\n",
              "\n",
              "          const docLinkHtml = 'Like what you see? Visit the ' +\n",
              "            '<a target=\"_blank\" href=https://colab.research.google.com/notebooks/data_table.ipynb>data table notebook</a>'\n",
              "            + ' to learn more about interactive tables.';\n",
              "          element.innerHTML = '';\n",
              "          dataTable['output_type'] = 'display_data';\n",
              "          await google.colab.output.renderOutput(dataTable, element);\n",
              "          const docLink = document.createElement('div');\n",
              "          docLink.innerHTML = docLinkHtml;\n",
              "          element.appendChild(docLink);\n",
              "        }\n",
              "      </script>\n",
              "    </div>\n",
              "  </div>\n",
              "  "
            ]
          },
          "metadata": {},
          "execution_count": 133
        }
      ]
    },
    {
      "cell_type": "markdown",
      "source": [
        "#### B1 환경친화적 우선 vs. 편리함 우선\n",
        "1: 환경 친화적 우선 ~ 5: 편리함 우선"
      ],
      "metadata": {
        "id": "pv0h145Ab0Db"
      }
    },
    {
      "cell_type": "code",
      "source": [
        "# value_counts()는 그룹화된 데이터의 카운트 값을 리턴\n",
        "data_will_count = pd.DataFrame(data['B1'].value_counts())\n",
        "# normalize=True 옵션을 사용하면 해당 데이터가 전체 데이터에서 차지하는 비중을 알 수 있다\n",
        "data_will_percent = pd.DataFrame(data['B1'].value_counts(normalize=True))\n",
        "\n",
        "data_will_df = data_will_count.merge(data_will_percent, left_index=True, right_index=True)\n",
        "data_will_df.columns=['B1 응답 수', 'B1 비율']\n",
        "ordered_will = data_will_df.sort_index()\n",
        "# print(data_will_df)\n",
        "print(ordered_will)"
      ],
      "metadata": {
        "colab": {
          "base_uri": "https://localhost:8080/"
        },
        "id": "seRhJ0iScEZ1",
        "outputId": "9c8d355f-68cf-435d-a7fb-43ab7df0201b"
      },
      "execution_count": null,
      "outputs": [
        {
          "output_type": "stream",
          "name": "stdout",
          "text": [
            "   B1 응답 수     B1 비율\n",
            "1      970  0.192079\n",
            "2     2182  0.432079\n",
            "3     1084  0.214653\n",
            "4      706  0.139802\n",
            "5      108  0.021386\n"
          ]
        }
      ]
    },
    {
      "cell_type": "code",
      "source": [
        "plt.figure()\n",
        "sns.countplot(y='B1', data=data)\n",
        "plt.title('willingness to take actions for the environment')"
      ],
      "metadata": {
        "colab": {
          "base_uri": "https://localhost:8080/"
        },
        "id": "Zd467vgXdD8p",
        "outputId": "6337eec2-d368-41c0-9ee8-86a01492ddc0"
      },
      "execution_count": null,
      "outputs": [
        {
          "output_type": "execute_result",
          "data": {
            "text/plain": [
              "Text(0.5, 1.0, 'willingness to take actions for the environment')"
            ]
          },
          "metadata": {},
          "execution_count": 135
        },
        {
          "output_type": "display_data",
          "data": {
            "text/plain": [
              "<Figure size 432x288 with 1 Axes>"
            ],
            "image/png": "[encoded data removed]"
          },
          "metadata": {
            "needs_background": "light"
          }
        }
      ]
    },
    {
      "cell_type": "code",
      "source": [
        "transposed_B1 = pd.DataFrame.transpose(ordered_will)\n",
        "transposed_B1"
      ],
      "metadata": {
        "colab": {
          "base_uri": "https://localhost:8080/"
        },
        "id": "YB0Q6baidN5B",
        "outputId": "1e06ddef-c9a3-4d8f-ffc8-b294cddc6a89"
      },
      "execution_count": null,
      "outputs": [
        {
          "output_type": "execute_result",
          "data": {
            "text/plain": [
              "                  1            2            3           4           5\n",
              "B1 응답 수  970.000000  2182.000000  1084.000000  706.000000  108.000000\n",
              "B1 비율      0.192079     0.432079     0.214653    0.139802    0.021386"
            ],
            "text/html": [
              "\n",
              "  <div id=\"df-85d69f8f-639e-4978-a457-5322ac207ac8\">\n",
              "    <div class=\"colab-df-container\">\n",
              "      <div>\n",
              "<style scoped>\n",
              "    .dataframe tbody tr th:only-of-type {\n",
              "        vertical-align: middle;\n",
              "    }\n",
              "\n",
              "    .dataframe tbody tr th {\n",
              "        vertical-align: top;\n",
              "    }\n",
              "\n",
              "    .dataframe thead th {\n",
              "        text-align: right;\n",
              "    }\n",
              "</style>\n",
              "<table border=\"1\" class=\"dataframe\">\n",
              "  <thead>\n",
              "    <tr style=\"text-align: right;\">\n",
              "      <th></th>\n",
              "      <th>1</th>\n",
              "      <th>2</th>\n",
              "      <th>3</th>\n",
              "      <th>4</th>\n",
              "      <th>5</th>\n",
              "    </tr>\n",
              "  </thead>\n",
              "  <tbody>\n",
              "    <tr>\n",
              "      <th>B1 응답 수</th>\n",
              "      <td>970.000000</td>\n",
              "      <td>2182.000000</td>\n",
              "      <td>1084.000000</td>\n",
              "      <td>706.000000</td>\n",
              "      <td>108.000000</td>\n",
              "    </tr>\n",
              "    <tr>\n",
              "      <th>B1 비율</th>\n",
              "      <td>0.192079</td>\n",
              "      <td>0.432079</td>\n",
              "      <td>0.214653</td>\n",
              "      <td>0.139802</td>\n",
              "      <td>0.021386</td>\n",
              "    </tr>\n",
              "  </tbody>\n",
              "</table>\n",
              "</div>\n",
              "      <button class=\"colab-df-convert\" onclick=\"convertToInteractive('df-85d69f8f-639e-4978-a457-5322ac207ac8')\"\n",
              "              title=\"Convert this dataframe to an interactive table.\"\n",
              "              style=\"display:none;\">\n",
              "        \n",
              "  <svg xmlns=\"http://www.w3.org/2000/svg\" height=\"24px\"viewBox=\"0 0 24 24\"\n",
              "       width=\"24px\">\n",
              "    <path d=\"M0 0h24v24H0V0z\" fill=\"none\"/>\n",
              "    <path d=\"M18.56 5.44l.94 2.06.94-2.06 2.06-.94-2.06-.94-.94-2.06-.94 2.06-2.06.94zm-11 1L8.5 8.5l.94-2.06 2.06-.94-2.06-.94L8.5 2.5l-.94 2.06-2.06.94zm10 10l.94 2.06.94-2.06 2.06-.94-2.06-.94-.94-2.06-.94 2.06-2.06.94z\"/><path d=\"M17.41 7.96l-1.37-1.37c-.4-.4-.92-.59-1.43-.59-.52 0-1.04.2-1.43.59L10.3 9.45l-7.72 7.72c-.78.78-.78 2.05 0 2.83L4 21.41c.39.39.9.59 1.41.59.51 0 1.02-.2 1.41-.59l7.78-7.78 2.81-2.81c.8-.78.8-2.07 0-2.86zM5.41 20L4 18.59l7.72-7.72 1.47 1.35L5.41 20z\"/>\n",
              "  </svg>\n",
              "      </button>\n",
              "      \n",
              "  <style>\n",
              "    .colab-df-container {\n",
              "      display:flex;\n",
              "      flex-wrap:wrap;\n",
              "      gap: 12px;\n",
              "    }\n",
              "\n",
              "    .colab-df-convert {\n",
              "      background-color: #E8F0FE;\n",
              "      border: none;\n",
              "      border-radius: 50%;\n",
              "      cursor: pointer;\n",
              "      display: none;\n",
              "      fill: #1967D2;\n",
              "      height: 32px;\n",
              "      padding: 0 0 0 0;\n",
              "      width: 32px;\n",
              "    }\n",
              "\n",
              "    .colab-df-convert:hover {\n",
              "      background-color: #E2EBFA;\n",
              "      box-shadow: 0px 1px 2px rgba(60, 64, 67, 0.3), 0px 1px 3px 1px rgba(60, 64, 67, 0.15);\n",
              "      fill: #174EA6;\n",
              "    }\n",
              "\n",
              "    [theme=dark] .colab-df-convert {\n",
              "      background-color: #3B4455;\n",
              "      fill: #D2E3FC;\n",
              "    }\n",
              "\n",
              "    [theme=dark] .colab-df-convert:hover {\n",
              "      background-color: #434B5C;\n",
              "      box-shadow: 0px 1px 3px 1px rgba(0, 0, 0, 0.15);\n",
              "      filter: drop-shadow(0px 1px 2px rgba(0, 0, 0, 0.3));\n",
              "      fill: #FFFFFF;\n",
              "    }\n",
              "  </style>\n",
              "\n",
              "      <script>\n",
              "        const buttonEl =\n",
              "          document.querySelector('#df-85d69f8f-639e-4978-a457-5322ac207ac8 button.colab-df-convert');\n",
              "        buttonEl.style.display =\n",
              "          google.colab.kernel.accessAllowed ? 'block' : 'none';\n",
              "\n",
              "        async function convertToInteractive(key) {\n",
              "          const element = document.querySelector('#df-85d69f8f-639e-4978-a457-5322ac207ac8');\n",
              "          const dataTable =\n",
              "            await google.colab.kernel.invokeFunction('convertToInteractive',\n",
              "                                                     [key], {});\n",
              "          if (!dataTable) return;\n",
              "\n",
              "          const docLinkHtml = 'Like what you see? Visit the ' +\n",
              "            '<a target=\"_blank\" href=https://colab.research.google.com/notebooks/data_table.ipynb>data table notebook</a>'\n",
              "            + ' to learn more about interactive tables.';\n",
              "          element.innerHTML = '';\n",
              "          dataTable['output_type'] = 'display_data';\n",
              "          await google.colab.output.renderOutput(dataTable, element);\n",
              "          const docLink = document.createElement('div');\n",
              "          docLink.innerHTML = docLinkHtml;\n",
              "          element.appendChild(docLink);\n",
              "        }\n",
              "      </script>\n",
              "    </div>\n",
              "  </div>\n",
              "  "
            ]
          },
          "metadata": {},
          "execution_count": 136
        }
      ]
    },
    {
      "cell_type": "markdown",
      "source": [
        "#### B3_11 미래 세대를 위해 자연을 보호하고 자원을 보전하는 것은 시급하다 \n",
        "(1: 전혀 동의하지 않는다, 5: 매우 동의한다)"
      ],
      "metadata": {
        "id": "IRQQg9yOTn5q"
      }
    },
    {
      "cell_type": "code",
      "source": [
        "# value_counts()는 그룹화된 데이터의 카운트 값을 리턴\n",
        "data_urgent_count = pd.DataFrame(data['B3_11'].value_counts())\n",
        "# normalize=True 옵션을 사용하면 해당 데이터가 전체 데이터에서 차지하는 비중을 알 수 있다\n",
        "data_urgent_percent = pd.DataFrame(data['B3_11'].value_counts(normalize=True))\n",
        "\n",
        "data_urgent_df = data_urgent_count.merge(data_urgent_percent, left_index=True, right_index=True)\n",
        "data_urgent_df.columns=['B3_11 응답 수', 'B3_11 비율']\n",
        "ordered_urgent = data_urgent_df.sort_index()\n",
        "# print(data_urgent_df)\n",
        "print(ordered_urgent)"
      ],
      "metadata": {
        "colab": {
          "base_uri": "https://localhost:8080/"
        },
        "id": "F-4RC5kjTnlk",
        "outputId": "bdda2ba5-2059-40f3-ce6c-59a119e5ce7c"
      },
      "execution_count": null,
      "outputs": [
        {
          "output_type": "stream",
          "name": "stdout",
          "text": [
            "   B3_11 응답 수  B3_11 비율\n",
            "1          10  0.001980\n",
            "2          56  0.011089\n",
            "3         505  0.100000\n",
            "4        1545  0.305941\n",
            "5        2934  0.580990\n"
          ]
        }
      ]
    },
    {
      "cell_type": "code",
      "source": [
        "plt.figure()\n",
        "sns.countplot(y='B3_11', data=data)\n",
        "plt.title('environmental protection is a pressing issue')"
      ],
      "metadata": {
        "colab": {
          "base_uri": "https://localhost:8080/"
        },
        "id": "vX6_xIVdUWIL",
        "outputId": "483309fb-77bf-4992-aca0-a1ae1d789dc2"
      },
      "execution_count": null,
      "outputs": [
        {
          "output_type": "execute_result",
          "data": {
            "text/plain": [
              "Text(0.5, 1.0, 'environmental protection is a pressing issue')"
            ]
          },
          "metadata": {},
          "execution_count": 138
        },
        {
          "output_type": "display_data",
          "data": {
            "text/plain": [
              "<Figure size 432x288 with 1 Axes>"
            ],
            "image/png": "[encoded data removed]"
          },
          "metadata": {
            "needs_background": "light"
          }
        }
      ]
    },
    {
      "cell_type": "markdown",
      "source": [
        "#### 100% stacked horizontal bar chart 그리기\n",
        "**사용할 데이터 프레임** : 응답수 or 비율 -> 선택\n",
        "- transposed_A1\n",
        "- transposed_A2\n",
        "- transposed_A3\n",
        "- transposed_B1   <br/>\n",
        "\n",
        "**리커트 차트 코드가 다른 부분 해결**\n",
        "- y축을 질문으로 \n",
        "- 스케일 코드를 \"매우 부정 ~ 매우 긍정\"으로 범례 생성하기"
      ],
      "metadata": {
        "id": "cADNTrQmNZiv"
      }
    },
    {
      "cell_type": "markdown",
      "source": [
        "#### 응답수로 그리기"
      ],
      "metadata": {
        "id": "QuwwBjHWkXxf"
      }
    },
    {
      "cell_type": "code",
      "source": [
        "# 데이터 프레임 합치기\n",
        "combined_As = pd.concat([transposed_A1, transposed_A2, transposed_A3, transposed_B1])\n",
        "# combined_As\n",
        "combined_As_counts = combined_As.loc[['A1 응답 수', 'A2 응답 수', 'A3 응답 수', 'B1 응답 수']]\n",
        "combined_As_counts"
      ],
      "metadata": {
        "colab": {
          "base_uri": "https://localhost:8080/"
        },
        "id": "4anABfdbYByh",
        "outputId": "5f10721a-de8f-45de-fff9-f07a7e9391ba"
      },
      "execution_count": null,
      "outputs": [
        {
          "output_type": "execute_result",
          "data": {
            "text/plain": [
              "             1       2       3       4      5\n",
              "A1 응답 수   17.0    93.0  1240.0  2859.0  841.0\n",
              "A2 응답 수   12.0   234.0  2135.0  2460.0  209.0\n",
              "A3 응답 수   17.0   455.0  2483.0  1956.0  139.0\n",
              "B1 응답 수  970.0  2182.0  1084.0   706.0  108.0"
            ],
            "text/html": [
              "\n",
              "  <div id=\"df-10cdb928-ef01-4edb-bae5-5bf2971a6429\">\n",
              "    <div class=\"colab-df-container\">\n",
              "      <div>\n",
              "<style scoped>\n",
              "    .dataframe tbody tr th:only-of-type {\n",
              "        vertical-align: middle;\n",
              "    }\n",
              "\n",
              "    .dataframe tbody tr th {\n",
              "        vertical-align: top;\n",
              "    }\n",
              "\n",
              "    .dataframe thead th {\n",
              "        text-align: right;\n",
              "    }\n",
              "</style>\n",
              "<table border=\"1\" class=\"dataframe\">\n",
              "  <thead>\n",
              "    <tr style=\"text-align: right;\">\n",
              "      <th></th>\n",
              "      <th>1</th>\n",
              "      <th>2</th>\n",
              "      <th>3</th>\n",
              "      <th>4</th>\n",
              "      <th>5</th>\n",
              "    </tr>\n",
              "  </thead>\n",
              "  <tbody>\n",
              "    <tr>\n",
              "      <th>A1 응답 수</th>\n",
              "      <td>17.0</td>\n",
              "      <td>93.0</td>\n",
              "      <td>1240.0</td>\n",
              "      <td>2859.0</td>\n",
              "      <td>841.0</td>\n",
              "    </tr>\n",
              "    <tr>\n",
              "      <th>A2 응답 수</th>\n",
              "      <td>12.0</td>\n",
              "      <td>234.0</td>\n",
              "      <td>2135.0</td>\n",
              "      <td>2460.0</td>\n",
              "      <td>209.0</td>\n",
              "    </tr>\n",
              "    <tr>\n",
              "      <th>A3 응답 수</th>\n",
              "      <td>17.0</td>\n",
              "      <td>455.0</td>\n",
              "      <td>2483.0</td>\n",
              "      <td>1956.0</td>\n",
              "      <td>139.0</td>\n",
              "    </tr>\n",
              "    <tr>\n",
              "      <th>B1 응답 수</th>\n",
              "      <td>970.0</td>\n",
              "      <td>2182.0</td>\n",
              "      <td>1084.0</td>\n",
              "      <td>706.0</td>\n",
              "      <td>108.0</td>\n",
              "    </tr>\n",
              "  </tbody>\n",
              "</table>\n",
              "</div>\n",
              "      <button class=\"colab-df-convert\" onclick=\"convertToInteractive('df-10cdb928-ef01-4edb-bae5-5bf2971a6429')\"\n",
              "              title=\"Convert this dataframe to an interactive table.\"\n",
              "              style=\"display:none;\">\n",
              "        \n",
              "  <svg xmlns=\"http://www.w3.org/2000/svg\" height=\"24px\"viewBox=\"0 0 24 24\"\n",
              "       width=\"24px\">\n",
              "    <path d=\"M0 0h24v24H0V0z\" fill=\"none\"/>\n",
              "    <path d=\"M18.56 5.44l.94 2.06.94-2.06 2.06-.94-2.06-.94-.94-2.06-.94 2.06-2.06.94zm-11 1L8.5 8.5l.94-2.06 2.06-.94-2.06-.94L8.5 2.5l-.94 2.06-2.06.94zm10 10l.94 2.06.94-2.06 2.06-.94-2.06-.94-.94-2.06-.94 2.06-2.06.94z\"/><path d=\"M17.41 7.96l-1.37-1.37c-.4-.4-.92-.59-1.43-.59-.52 0-1.04.2-1.43.59L10.3 9.45l-7.72 7.72c-.78.78-.78 2.05 0 2.83L4 21.41c.39.39.9.59 1.41.59.51 0 1.02-.2 1.41-.59l7.78-7.78 2.81-2.81c.8-.78.8-2.07 0-2.86zM5.41 20L4 18.59l7.72-7.72 1.47 1.35L5.41 20z\"/>\n",
              "  </svg>\n",
              "      </button>\n",
              "      \n",
              "  <style>\n",
              "    .colab-df-container {\n",
              "      display:flex;\n",
              "      flex-wrap:wrap;\n",
              "      gap: 12px;\n",
              "    }\n",
              "\n",
              "    .colab-df-convert {\n",
              "      background-color: #E8F0FE;\n",
              "      border: none;\n",
              "      border-radius: 50%;\n",
              "      cursor: pointer;\n",
              "      display: none;\n",
              "      fill: #1967D2;\n",
              "      height: 32px;\n",
              "      padding: 0 0 0 0;\n",
              "      width: 32px;\n",
              "    }\n",
              "\n",
              "    .colab-df-convert:hover {\n",
              "      background-color: #E2EBFA;\n",
              "      box-shadow: 0px 1px 2px rgba(60, 64, 67, 0.3), 0px 1px 3px 1px rgba(60, 64, 67, 0.15);\n",
              "      fill: #174EA6;\n",
              "    }\n",
              "\n",
              "    [theme=dark] .colab-df-convert {\n",
              "      background-color: #3B4455;\n",
              "      fill: #D2E3FC;\n",
              "    }\n",
              "\n",
              "    [theme=dark] .colab-df-convert:hover {\n",
              "      background-color: #434B5C;\n",
              "      box-shadow: 0px 1px 3px 1px rgba(0, 0, 0, 0.15);\n",
              "      filter: drop-shadow(0px 1px 2px rgba(0, 0, 0, 0.3));\n",
              "      fill: #FFFFFF;\n",
              "    }\n",
              "  </style>\n",
              "\n",
              "      <script>\n",
              "        const buttonEl =\n",
              "          document.querySelector('#df-10cdb928-ef01-4edb-bae5-5bf2971a6429 button.colab-df-convert');\n",
              "        buttonEl.style.display =\n",
              "          google.colab.kernel.accessAllowed ? 'block' : 'none';\n",
              "\n",
              "        async function convertToInteractive(key) {\n",
              "          const element = document.querySelector('#df-10cdb928-ef01-4edb-bae5-5bf2971a6429');\n",
              "          const dataTable =\n",
              "            await google.colab.kernel.invokeFunction('convertToInteractive',\n",
              "                                                     [key], {});\n",
              "          if (!dataTable) return;\n",
              "\n",
              "          const docLinkHtml = 'Like what you see? Visit the ' +\n",
              "            '<a target=\"_blank\" href=https://colab.research.google.com/notebooks/data_table.ipynb>data table notebook</a>'\n",
              "            + ' to learn more about interactive tables.';\n",
              "          element.innerHTML = '';\n",
              "          dataTable['output_type'] = 'display_data';\n",
              "          await google.colab.output.renderOutput(dataTable, element);\n",
              "          const docLink = document.createElement('div');\n",
              "          docLink.innerHTML = docLinkHtml;\n",
              "          element.appendChild(docLink);\n",
              "        }\n",
              "      </script>\n",
              "    </div>\n",
              "  </div>\n",
              "  "
            ]
          },
          "metadata": {},
          "execution_count": 139
        }
      ]
    },
    {
      "cell_type": "code",
      "source": [
        "combined_As_counts.plot(kind='barh', figsize=(10,6), stacked=True)\n",
        "plt.legend(loc = \"upper center\", ncol=5)\n",
        "plt.show()"
      ],
      "metadata": {
        "colab": {
          "base_uri": "https://localhost:8080/"
        },
        "id": "QQUKqsS4hC3N",
        "outputId": "2237f4ad-f0a3-4493-de8c-1b695b9da013"
      },
      "execution_count": null,
      "outputs": [
        {
          "output_type": "stream",
          "name": "stderr",
          "text": [
            "/usr/local/lib/python3.7/dist-packages/matplotlib/backends/backend_agg.py:214: RuntimeWarning: Glyph 51025 missing from current font.\n",
            "  font.set_text(s, 0.0, flags=flags)\n",
            "/usr/local/lib/python3.7/dist-packages/matplotlib/backends/backend_agg.py:214: RuntimeWarning: Glyph 45813 missing from current font.\n",
            "  font.set_text(s, 0.0, flags=flags)\n",
            "/usr/local/lib/python3.7/dist-packages/matplotlib/backends/backend_agg.py:214: RuntimeWarning: Glyph 49688 missing from current font.\n",
            "  font.set_text(s, 0.0, flags=flags)\n",
            "/usr/local/lib/python3.7/dist-packages/matplotlib/backends/backend_agg.py:183: RuntimeWarning: Glyph 51025 missing from current font.\n",
            "  font.set_text(s, 0, flags=flags)\n",
            "/usr/local/lib/python3.7/dist-packages/matplotlib/backends/backend_agg.py:183: RuntimeWarning: Glyph 45813 missing from current font.\n",
            "  font.set_text(s, 0, flags=flags)\n",
            "/usr/local/lib/python3.7/dist-packages/matplotlib/backends/backend_agg.py:183: RuntimeWarning: Glyph 49688 missing from current font.\n",
            "  font.set_text(s, 0, flags=flags)\n"
          ]
        },
        {
          "output_type": "display_data",
          "data": {
            "text/plain": [
              "<Figure size 720x432 with 1 Axes>"
            ],
            "image/png": "[encoded data removed]"
          },
          "metadata": {
            "needs_background": "light"
          }
        }
      ]
    },
    {
      "cell_type": "markdown",
      "source": [
        "#### 비율로 그리기"
      ],
      "metadata": {
        "id": "jtt8Zx2Kkahq"
      }
    },
    {
      "cell_type": "code",
      "source": [
        "combined_As = pd.concat([transposed_A1, transposed_A2, transposed_A3, transposed_B1])\n",
        "combined_As_ratio = combined_As.loc[['A1 비율', 'A2 비율', 'A3 비율', 'B1 비율']]\n",
        "combined_As_ratio"
      ],
      "metadata": {
        "colab": {
          "base_uri": "https://localhost:8080/",
          "height": 175
        },
        "id": "9Sh8UI92kcfI",
        "outputId": "bea7eb25-cc7c-40bb-ba2e-679b84fd3b64"
      },
      "execution_count": null,
      "outputs": [
        {
          "output_type": "execute_result",
          "data": {
            "text/plain": [
              "              1         2         3         4         5\n",
              "A1 비율  0.003366  0.018416  0.245545  0.566139  0.166535\n",
              "A2 비율  0.002376  0.046337  0.422772  0.487129  0.041386\n",
              "A3 비율  0.003366  0.090099  0.491683  0.387327  0.027525\n",
              "B1 비율  0.192079  0.432079  0.214653  0.139802  0.021386"
            ],
            "text/html": [
              "\n",
              "  <div id=\"df-009878e1-8951-40a5-b172-7eeeee41b2d1\">\n",
              "    <div class=\"colab-df-container\">\n",
              "      <div>\n",
              "<style scoped>\n",
              "    .dataframe tbody tr th:only-of-type {\n",
              "        vertical-align: middle;\n",
              "    }\n",
              "\n",
              "    .dataframe tbody tr th {\n",
              "        vertical-align: top;\n",
              "    }\n",
              "\n",
              "    .dataframe thead th {\n",
              "        text-align: right;\n",
              "    }\n",
              "</style>\n",
              "<table border=\"1\" class=\"dataframe\">\n",
              "  <thead>\n",
              "    <tr style=\"text-align: right;\">\n",
              "      <th></th>\n",
              "      <th>1</th>\n",
              "      <th>2</th>\n",
              "      <th>3</th>\n",
              "      <th>4</th>\n",
              "      <th>5</th>\n",
              "    </tr>\n",
              "  </thead>\n",
              "  <tbody>\n",
              "    <tr>\n",
              "      <th>A1 비율</th>\n",
              "      <td>0.003366</td>\n",
              "      <td>0.018416</td>\n",
              "      <td>0.245545</td>\n",
              "      <td>0.566139</td>\n",
              "      <td>0.166535</td>\n",
              "    </tr>\n",
              "    <tr>\n",
              "      <th>A2 비율</th>\n",
              "      <td>0.002376</td>\n",
              "      <td>0.046337</td>\n",
              "      <td>0.422772</td>\n",
              "      <td>0.487129</td>\n",
              "      <td>0.041386</td>\n",
              "    </tr>\n",
              "    <tr>\n",
              "      <th>A3 비율</th>\n",
              "      <td>0.003366</td>\n",
              "      <td>0.090099</td>\n",
              "      <td>0.491683</td>\n",
              "      <td>0.387327</td>\n",
              "      <td>0.027525</td>\n",
              "    </tr>\n",
              "    <tr>\n",
              "      <th>B1 비율</th>\n",
              "      <td>0.192079</td>\n",
              "      <td>0.432079</td>\n",
              "      <td>0.214653</td>\n",
              "      <td>0.139802</td>\n",
              "      <td>0.021386</td>\n",
              "    </tr>\n",
              "  </tbody>\n",
              "</table>\n",
              "</div>\n",
              "      <button class=\"colab-df-convert\" onclick=\"convertToInteractive('df-009878e1-8951-40a5-b172-7eeeee41b2d1')\"\n",
              "              title=\"Convert this dataframe to an interactive table.\"\n",
              "              style=\"display:none;\">\n",
              "        \n",
              "  <svg xmlns=\"http://www.w3.org/2000/svg\" height=\"24px\"viewBox=\"0 0 24 24\"\n",
              "       width=\"24px\">\n",
              "    <path d=\"M0 0h24v24H0V0z\" fill=\"none\"/>\n",
              "    <path d=\"M18.56 5.44l.94 2.06.94-2.06 2.06-.94-2.06-.94-.94-2.06-.94 2.06-2.06.94zm-11 1L8.5 8.5l.94-2.06 2.06-.94-2.06-.94L8.5 2.5l-.94 2.06-2.06.94zm10 10l.94 2.06.94-2.06 2.06-.94-2.06-.94-.94-2.06-.94 2.06-2.06.94z\"/><path d=\"M17.41 7.96l-1.37-1.37c-.4-.4-.92-.59-1.43-.59-.52 0-1.04.2-1.43.59L10.3 9.45l-7.72 7.72c-.78.78-.78 2.05 0 2.83L4 21.41c.39.39.9.59 1.41.59.51 0 1.02-.2 1.41-.59l7.78-7.78 2.81-2.81c.8-.78.8-2.07 0-2.86zM5.41 20L4 18.59l7.72-7.72 1.47 1.35L5.41 20z\"/>\n",
              "  </svg>\n",
              "      </button>\n",
              "      \n",
              "  <style>\n",
              "    .colab-df-container {\n",
              "      display:flex;\n",
              "      flex-wrap:wrap;\n",
              "      gap: 12px;\n",
              "    }\n",
              "\n",
              "    .colab-df-convert {\n",
              "      background-color: #E8F0FE;\n",
              "      border: none;\n",
              "      border-radius: 50%;\n",
              "      cursor: pointer;\n",
              "      display: none;\n",
              "      fill: #1967D2;\n",
              "      height: 32px;\n",
              "      padding: 0 0 0 0;\n",
              "      width: 32px;\n",
              "    }\n",
              "\n",
              "    .colab-df-convert:hover {\n",
              "      background-color: #E2EBFA;\n",
              "      box-shadow: 0px 1px 2px rgba(60, 64, 67, 0.3), 0px 1px 3px 1px rgba(60, 64, 67, 0.15);\n",
              "      fill: #174EA6;\n",
              "    }\n",
              "\n",
              "    [theme=dark] .colab-df-convert {\n",
              "      background-color: #3B4455;\n",
              "      fill: #D2E3FC;\n",
              "    }\n",
              "\n",
              "    [theme=dark] .colab-df-convert:hover {\n",
              "      background-color: #434B5C;\n",
              "      box-shadow: 0px 1px 3px 1px rgba(0, 0, 0, 0.15);\n",
              "      filter: drop-shadow(0px 1px 2px rgba(0, 0, 0, 0.3));\n",
              "      fill: #FFFFFF;\n",
              "    }\n",
              "  </style>\n",
              "\n",
              "      <script>\n",
              "        const buttonEl =\n",
              "          document.querySelector('#df-009878e1-8951-40a5-b172-7eeeee41b2d1 button.colab-df-convert');\n",
              "        buttonEl.style.display =\n",
              "          google.colab.kernel.accessAllowed ? 'block' : 'none';\n",
              "\n",
              "        async function convertToInteractive(key) {\n",
              "          const element = document.querySelector('#df-009878e1-8951-40a5-b172-7eeeee41b2d1');\n",
              "          const dataTable =\n",
              "            await google.colab.kernel.invokeFunction('convertToInteractive',\n",
              "                                                     [key], {});\n",
              "          if (!dataTable) return;\n",
              "\n",
              "          const docLinkHtml = 'Like what you see? Visit the ' +\n",
              "            '<a target=\"_blank\" href=https://colab.research.google.com/notebooks/data_table.ipynb>data table notebook</a>'\n",
              "            + ' to learn more about interactive tables.';\n",
              "          element.innerHTML = '';\n",
              "          dataTable['output_type'] = 'display_data';\n",
              "          await google.colab.output.renderOutput(dataTable, element);\n",
              "          const docLink = document.createElement('div');\n",
              "          docLink.innerHTML = docLinkHtml;\n",
              "          element.appendChild(docLink);\n",
              "        }\n",
              "      </script>\n",
              "    </div>\n",
              "  </div>\n",
              "  "
            ]
          },
          "metadata": {},
          "execution_count": 141
        }
      ]
    },
    {
      "cell_type": "code",
      "source": [
        "legend_code = ['strongly disagree', 'diagree', 'neutral', 'agree', 'strongly agree']\n",
        "bars = combined_As_ratio.plot(\n",
        "    kind='barh', \n",
        "    stacked=True,\n",
        "    figsize=(15,8))\n",
        "plt.legend(loc = \"upper center\", ncol=5, borderpad=0.5, fontsize=13)\n",
        "plt.xlabel(\"Proportion\")\n",
        "\n",
        "# 비율 표시하기 with proportion + 비율이 나타나는 위치 조정 with x_loc\n",
        "for n, x in enumerate([*combined_As_ratio.index.values]):\n",
        "  for (proportion, x_loc) in zip(combined_As_ratio.loc[x], combined_As_ratio.loc[x].cumsum()):\n",
        "\n",
        "    plt.text(x=(x_loc - proportion) + (proportion / 2.5),\n",
        "             y=n ,\n",
        "             s=f'{np.round(proportion*100, 1)}%',\n",
        "             color=\"black\",\n",
        "             fontsize=18,\n",
        "             fontweight=\"bold\")\n",
        "    \n",
        "# 문제 발생함 -> 1과 2를 응답한 비율이 너무 적음 - 비율을 표시할 공간이 부족\n",
        "\n",
        "plt.show()"
      ],
      "metadata": {
        "colab": {
          "base_uri": "https://localhost:8080/",
          "height": 636
        },
        "id": "Jtf2CjRqkoRo",
        "outputId": "42f4d0f8-a83c-4fd6-8478-d3eccae82724"
      },
      "execution_count": null,
      "outputs": [
        {
          "output_type": "stream",
          "name": "stderr",
          "text": [
            "/usr/local/lib/python3.7/dist-packages/matplotlib/backends/backend_agg.py:214: RuntimeWarning: Glyph 48708 missing from current font.\n",
            "  font.set_text(s, 0.0, flags=flags)\n",
            "/usr/local/lib/python3.7/dist-packages/matplotlib/backends/backend_agg.py:214: RuntimeWarning: Glyph 50984 missing from current font.\n",
            "  font.set_text(s, 0.0, flags=flags)\n",
            "/usr/local/lib/python3.7/dist-packages/matplotlib/backends/backend_agg.py:183: RuntimeWarning: Glyph 48708 missing from current font.\n",
            "  font.set_text(s, 0, flags=flags)\n",
            "/usr/local/lib/python3.7/dist-packages/matplotlib/backends/backend_agg.py:183: RuntimeWarning: Glyph 50984 missing from current font.\n",
            "  font.set_text(s, 0, flags=flags)\n"
          ]
        },
        {
          "output_type": "display_data",
          "data": {
            "text/plain": [
              "<Figure size 1080x576 with 1 Axes>"
            ],
            "image/png": "[encoded data removed]"
          },
          "metadata": {
            "needs_background": "light"
          }
        }
      ]
    },
    {
      "cell_type": "markdown",
      "source": [
        "- B1의 경우 친환경적 행동이 우선이라고 답변한 비율이 62.4%\n",
        "- 친환경적 행동과 편리함 중 하나를 선택하지 못한 중립의 비율은 21.5%\n",
        "- 즉 편리함이 우선이라고 생각한 16.1%의 응답자를 제외한 83.9%가 우리 서비스의 잠재적 유저가 될 수 있다."
      ],
      "metadata": {
        "id": "3iSRF1ulfkW6"
      }
    },
    {
      "cell_type": "code",
      "source": [],
      "metadata": {
        "id": "Tvu2ssrL94iw"
      },
      "execution_count": null,
      "outputs": []
    },
    {
      "cell_type": "markdown",
      "source": [
        "#### 데이터 프레임 csv로 변환하기\n"
      ],
      "metadata": {
        "id": "N-pVVOOnKRu6"
      }
    },
    {
      "cell_type": "code",
      "source": [
        "# ratio 파일을 백분율 파일로 바꾸기\n",
        "combined_As_ratio = combined_As_ratio * 100\n",
        "combined_As_ratio = combined_As_ratio.round(1)\n",
        "combined_As_ratio\n"
      ],
      "metadata": {
        "colab": {
          "base_uri": "https://localhost:8080/",
          "height": 175
        },
        "id": "PpSVJLYlWv_v",
        "outputId": "e920ad31-ed30-4ae0-ed4e-e7ed67e27e53"
      },
      "execution_count": null,
      "outputs": [
        {
          "output_type": "execute_result",
          "data": {
            "text/plain": [
              "          1     2     3     4     5\n",
              "A1 비율   0.3   1.8  24.6  56.6  16.7\n",
              "A2 비율   0.2   4.6  42.3  48.7   4.1\n",
              "A3 비율   0.3   9.0  49.2  38.7   2.8\n",
              "B1 비율  19.2  43.2  21.5  14.0   2.1"
            ],
            "text/html": [
              "\n",
              "  <div id=\"df-6f98ab68-4097-4b81-923a-ca7520f840e8\">\n",
              "    <div class=\"colab-df-container\">\n",
              "      <div>\n",
              "<style scoped>\n",
              "    .dataframe tbody tr th:only-of-type {\n",
              "        vertical-align: middle;\n",
              "    }\n",
              "\n",
              "    .dataframe tbody tr th {\n",
              "        vertical-align: top;\n",
              "    }\n",
              "\n",
              "    .dataframe thead th {\n",
              "        text-align: right;\n",
              "    }\n",
              "</style>\n",
              "<table border=\"1\" class=\"dataframe\">\n",
              "  <thead>\n",
              "    <tr style=\"text-align: right;\">\n",
              "      <th></th>\n",
              "      <th>1</th>\n",
              "      <th>2</th>\n",
              "      <th>3</th>\n",
              "      <th>4</th>\n",
              "      <th>5</th>\n",
              "    </tr>\n",
              "  </thead>\n",
              "  <tbody>\n",
              "    <tr>\n",
              "      <th>A1 비율</th>\n",
              "      <td>0.3</td>\n",
              "      <td>1.8</td>\n",
              "      <td>24.6</td>\n",
              "      <td>56.6</td>\n",
              "      <td>16.7</td>\n",
              "    </tr>\n",
              "    <tr>\n",
              "      <th>A2 비율</th>\n",
              "      <td>0.2</td>\n",
              "      <td>4.6</td>\n",
              "      <td>42.3</td>\n",
              "      <td>48.7</td>\n",
              "      <td>4.1</td>\n",
              "    </tr>\n",
              "    <tr>\n",
              "      <th>A3 비율</th>\n",
              "      <td>0.3</td>\n",
              "      <td>9.0</td>\n",
              "      <td>49.2</td>\n",
              "      <td>38.7</td>\n",
              "      <td>2.8</td>\n",
              "    </tr>\n",
              "    <tr>\n",
              "      <th>B1 비율</th>\n",
              "      <td>19.2</td>\n",
              "      <td>43.2</td>\n",
              "      <td>21.5</td>\n",
              "      <td>14.0</td>\n",
              "      <td>2.1</td>\n",
              "    </tr>\n",
              "  </tbody>\n",
              "</table>\n",
              "</div>\n",
              "      <button class=\"colab-df-convert\" onclick=\"convertToInteractive('df-6f98ab68-4097-4b81-923a-ca7520f840e8')\"\n",
              "              title=\"Convert this dataframe to an interactive table.\"\n",
              "              style=\"display:none;\">\n",
              "        \n",
              "  <svg xmlns=\"http://www.w3.org/2000/svg\" height=\"24px\"viewBox=\"0 0 24 24\"\n",
              "       width=\"24px\">\n",
              "    <path d=\"M0 0h24v24H0V0z\" fill=\"none\"/>\n",
              "    <path d=\"M18.56 5.44l.94 2.06.94-2.06 2.06-.94-2.06-.94-.94-2.06-.94 2.06-2.06.94zm-11 1L8.5 8.5l.94-2.06 2.06-.94-2.06-.94L8.5 2.5l-.94 2.06-2.06.94zm10 10l.94 2.06.94-2.06 2.06-.94-2.06-.94-.94-2.06-.94 2.06-2.06.94z\"/><path d=\"M17.41 7.96l-1.37-1.37c-.4-.4-.92-.59-1.43-.59-.52 0-1.04.2-1.43.59L10.3 9.45l-7.72 7.72c-.78.78-.78 2.05 0 2.83L4 21.41c.39.39.9.59 1.41.59.51 0 1.02-.2 1.41-.59l7.78-7.78 2.81-2.81c.8-.78.8-2.07 0-2.86zM5.41 20L4 18.59l7.72-7.72 1.47 1.35L5.41 20z\"/>\n",
              "  </svg>\n",
              "      </button>\n",
              "      \n",
              "  <style>\n",
              "    .colab-df-container {\n",
              "      display:flex;\n",
              "      flex-wrap:wrap;\n",
              "      gap: 12px;\n",
              "    }\n",
              "\n",
              "    .colab-df-convert {\n",
              "      background-color: #E8F0FE;\n",
              "      border: none;\n",
              "      border-radius: 50%;\n",
              "      cursor: pointer;\n",
              "      display: none;\n",
              "      fill: #1967D2;\n",
              "      height: 32px;\n",
              "      padding: 0 0 0 0;\n",
              "      width: 32px;\n",
              "    }\n",
              "\n",
              "    .colab-df-convert:hover {\n",
              "      background-color: #E2EBFA;\n",
              "      box-shadow: 0px 1px 2px rgba(60, 64, 67, 0.3), 0px 1px 3px 1px rgba(60, 64, 67, 0.15);\n",
              "      fill: #174EA6;\n",
              "    }\n",
              "\n",
              "    [theme=dark] .colab-df-convert {\n",
              "      background-color: #3B4455;\n",
              "      fill: #D2E3FC;\n",
              "    }\n",
              "\n",
              "    [theme=dark] .colab-df-convert:hover {\n",
              "      background-color: #434B5C;\n",
              "      box-shadow: 0px 1px 3px 1px rgba(0, 0, 0, 0.15);\n",
              "      filter: drop-shadow(0px 1px 2px rgba(0, 0, 0, 0.3));\n",
              "      fill: #FFFFFF;\n",
              "    }\n",
              "  </style>\n",
              "\n",
              "      <script>\n",
              "        const buttonEl =\n",
              "          document.querySelector('#df-6f98ab68-4097-4b81-923a-ca7520f840e8 button.colab-df-convert');\n",
              "        buttonEl.style.display =\n",
              "          google.colab.kernel.accessAllowed ? 'block' : 'none';\n",
              "\n",
              "        async function convertToInteractive(key) {\n",
              "          const element = document.querySelector('#df-6f98ab68-4097-4b81-923a-ca7520f840e8');\n",
              "          const dataTable =\n",
              "            await google.colab.kernel.invokeFunction('convertToInteractive',\n",
              "                                                     [key], {});\n",
              "          if (!dataTable) return;\n",
              "\n",
              "          const docLinkHtml = 'Like what you see? Visit the ' +\n",
              "            '<a target=\"_blank\" href=https://colab.research.google.com/notebooks/data_table.ipynb>data table notebook</a>'\n",
              "            + ' to learn more about interactive tables.';\n",
              "          element.innerHTML = '';\n",
              "          dataTable['output_type'] = 'display_data';\n",
              "          await google.colab.output.renderOutput(dataTable, element);\n",
              "          const docLink = document.createElement('div');\n",
              "          docLink.innerHTML = docLinkHtml;\n",
              "          element.appendChild(docLink);\n",
              "        }\n",
              "      </script>\n",
              "    </div>\n",
              "  </div>\n",
              "  "
            ]
          },
          "metadata": {},
          "execution_count": 149
        }
      ]
    },
    {
      "cell_type": "code",
      "source": [
        "# .to_csv()활용 \n",
        "# B1 데이터 삭제하기 (최종본에는 포함 X)\n",
        "combined_As_ratio = combined_As_ratio[:-1]\n",
        "combined_As_counts = combined_As_counts[:-1]\n",
        "combined_As_ratio.to_csv('/content/combined_As_ratio.csv', sep=',', na_rep='NaN')\n",
        "combined_As_counts.to_csv('/content/combined_As_counts.csv', sep=',', na_rep='NaN')"
      ],
      "metadata": {
        "id": "z3UuPg1cKMe-"
      },
      "execution_count": null,
      "outputs": []
    },
    {
      "cell_type": "markdown",
      "source": [
        "## 복수응답형 데이터 - 막대 그래프 그리기\n",
        "1. 일단 관련된 컬럼만 따로 떼오기\n",
        "2. 결측치에 0을 넣기\n",
        "3. 컬럼별로 특정 응답의 수를 카운드 (.value_counts())\n",
        "4. 1-5 -> 별로 카운드 합치기\n",
        "5. 막대 그래프\n",
        "\n",
        "---\n",
        "1. 컬럼별로 list를 생성\n",
        "2. python for문을 돌려서 카운트\n",
        "3. dataframe을 만듦\n",
        "4. 막대 그래프"
      ],
      "metadata": {
        "id": "eiwNKasDsFA6"
      }
    },
    {
      "cell_type": "markdown",
      "source": [
        "### 1. 데이터 정제 - null값을 0으로 치환\n",
        "- A4 (A4_m2, A4_m3) 우리나라가 직면한 가장 중요한 환경문제(복수응답)\n",
        "- B5 친환경적 태도 및 생활 습관을 실천 하는데 있어 어려움 (복수응답) (m1~m9, 상세항목 X)\n",
        "- D3 가장 시급한 환경문제 (m2~m3)"
      ],
      "metadata": {
        "id": "y83Mwc48aqnf"
      }
    },
    {
      "cell_type": "code",
      "source": [
        "# 일단 필요한 컬럼만 가져와서 df 만들기\n",
        "data_multi = data= kei[['A4','A4_m2','A4_m3','B5', 'B5_m2', 'B5_m3', 'B5_m4','B5_m5','B5_m6','B5_m7','B5_m8', 'B5_m9', 'D3', 'D3_m2', 'D3_m3']]\n",
        "data_multi"
      ],
      "metadata": {
        "colab": {
          "base_uri": "https://localhost:8080/",
          "height": 424
        },
        "id": "nDt_YbANapql",
        "outputId": "febc4b56-c912-487e-ea17-f7091a5e3d56"
      },
      "execution_count": null,
      "outputs": [
        {
          "output_type": "execute_result",
          "data": {
            "text/plain": [
              "      A4  A4_m2  A4_m3  B5  B5_m2  B5_m3  B5_m4  B5_m5  B5_m6  B5_m7  B5_m8  \\\n",
              "0      4      7     11   7    NaN    NaN    NaN    NaN    NaN    NaN    NaN   \n",
              "1      3      7     11   7    2.0    NaN    NaN    NaN    NaN    NaN    NaN   \n",
              "2      2      7     11   7    2.0    4.0    3.0    NaN    NaN    NaN    NaN   \n",
              "3      7      3     11   2    4.0    7.0    NaN    NaN    NaN    NaN    NaN   \n",
              "4     11     10      3   3    4.0    NaN    NaN    NaN    NaN    NaN    NaN   \n",
              "...   ..    ...    ...  ..    ...    ...    ...    ...    ...    ...    ...   \n",
              "5045   6     12      1   6    5.0    3.0    2.0    NaN    NaN    NaN    NaN   \n",
              "5046   2      4      9   7    8.0    NaN    NaN    NaN    NaN    NaN    NaN   \n",
              "5047   3      4      1   7    4.0    3.0    NaN    NaN    NaN    NaN    NaN   \n",
              "5048   2     11      3   1    NaN    NaN    NaN    NaN    NaN    NaN    NaN   \n",
              "5049   2      7      3   2    3.0    7.0    NaN    NaN    NaN    NaN    NaN   \n",
              "\n",
              "      B5_m9  D3  D3_m2  D3_m3  \n",
              "0       NaN   3     10     11  \n",
              "1       NaN   6     11      8  \n",
              "2       NaN   2      8      1  \n",
              "3       NaN  11      8      2  \n",
              "4       NaN  11      8      5  \n",
              "...     ...  ..    ...    ...  \n",
              "5045    NaN   2     11     10  \n",
              "5046    NaN   2      3     11  \n",
              "5047    NaN   8      4     11  \n",
              "5048    NaN   2      1      3  \n",
              "5049    NaN   2     11      1  \n",
              "\n",
              "[5050 rows x 15 columns]"
            ],
            "text/html": [
              "\n",
              "  <div id=\"df-c501f6af-d77a-42ab-89af-14bf393a1bdc\">\n",
              "    <div class=\"colab-df-container\">\n",
              "      <div>\n",
              "<style scoped>\n",
              "    .dataframe tbody tr th:only-of-type {\n",
              "        vertical-align: middle;\n",
              "    }\n",
              "\n",
              "    .dataframe tbody tr th {\n",
              "        vertical-align: top;\n",
              "    }\n",
              "\n",
              "    .dataframe thead th {\n",
              "        text-align: right;\n",
              "    }\n",
              "</style>\n",
              "<table border=\"1\" class=\"dataframe\">\n",
              "  <thead>\n",
              "    <tr style=\"text-align: right;\">\n",
              "      <th></th>\n",
              "      <th>A4</th>\n",
              "      <th>A4_m2</th>\n",
              "      <th>A4_m3</th>\n",
              "      <th>B5</th>\n",
              "      <th>B5_m2</th>\n",
              "      <th>B5_m3</th>\n",
              "      <th>B5_m4</th>\n",
              "      <th>B5_m5</th>\n",
              "      <th>B5_m6</th>\n",
              "      <th>B5_m7</th>\n",
              "      <th>B5_m8</th>\n",
              "      <th>B5_m9</th>\n",
              "      <th>D3</th>\n",
              "      <th>D3_m2</th>\n",
              "      <th>D3_m3</th>\n",
              "    </tr>\n",
              "  </thead>\n",
              "  <tbody>\n",
              "    <tr>\n",
              "      <th>0</th>\n",
              "      <td>4</td>\n",
              "      <td>7</td>\n",
              "      <td>11</td>\n",
              "      <td>7</td>\n",
              "      <td>NaN</td>\n",
              "      <td>NaN</td>\n",
              "      <td>NaN</td>\n",
              "      <td>NaN</td>\n",
              "      <td>NaN</td>\n",
              "      <td>NaN</td>\n",
              "      <td>NaN</td>\n",
              "      <td>NaN</td>\n",
              "      <td>3</td>\n",
              "      <td>10</td>\n",
              "      <td>11</td>\n",
              "    </tr>\n",
              "    <tr>\n",
              "      <th>1</th>\n",
              "      <td>3</td>\n",
              "      <td>7</td>\n",
              "      <td>11</td>\n",
              "      <td>7</td>\n",
              "      <td>2.0</td>\n",
              "      <td>NaN</td>\n",
              "      <td>NaN</td>\n",
              "      <td>NaN</td>\n",
              "      <td>NaN</td>\n",
              "      <td>NaN</td>\n",
              "      <td>NaN</td>\n",
              "      <td>NaN</td>\n",
              "      <td>6</td>\n",
              "      <td>11</td>\n",
              "      <td>8</td>\n",
              "    </tr>\n",
              "    <tr>\n",
              "      <th>2</th>\n",
              "      <td>2</td>\n",
              "      <td>7</td>\n",
              "      <td>11</td>\n",
              "      <td>7</td>\n",
              "      <td>2.0</td>\n",
              "      <td>4.0</td>\n",
              "      <td>3.0</td>\n",
              "      <td>NaN</td>\n",
              "      <td>NaN</td>\n",
              "      <td>NaN</td>\n",
              "      <td>NaN</td>\n",
              "      <td>NaN</td>\n",
              "      <td>2</td>\n",
              "      <td>8</td>\n",
              "      <td>1</td>\n",
              "    </tr>\n",
              "    <tr>\n",
              "      <th>3</th>\n",
              "      <td>7</td>\n",
              "      <td>3</td>\n",
              "      <td>11</td>\n",
              "      <td>2</td>\n",
              "      <td>4.0</td>\n",
              "      <td>7.0</td>\n",
              "      <td>NaN</td>\n",
              "      <td>NaN</td>\n",
              "      <td>NaN</td>\n",
              "      <td>NaN</td>\n",
              "      <td>NaN</td>\n",
              "      <td>NaN</td>\n",
              "      <td>11</td>\n",
              "      <td>8</td>\n",
              "      <td>2</td>\n",
              "    </tr>\n",
              "    <tr>\n",
              "      <th>4</th>\n",
              "      <td>11</td>\n",
              "      <td>10</td>\n",
              "      <td>3</td>\n",
              "      <td>3</td>\n",
              "      <td>4.0</td>\n",
              "      <td>NaN</td>\n",
              "      <td>NaN</td>\n",
              "      <td>NaN</td>\n",
              "      <td>NaN</td>\n",
              "      <td>NaN</td>\n",
              "      <td>NaN</td>\n",
              "      <td>NaN</td>\n",
              "      <td>11</td>\n",
              "      <td>8</td>\n",
              "      <td>5</td>\n",
              "    </tr>\n",
              "    <tr>\n",
              "      <th>...</th>\n",
              "      <td>...</td>\n",
              "      <td>...</td>\n",
              "      <td>...</td>\n",
              "      <td>...</td>\n",
              "      <td>...</td>\n",
              "      <td>...</td>\n",
              "      <td>...</td>\n",
              "      <td>...</td>\n",
              "      <td>...</td>\n",
              "      <td>...</td>\n",
              "      <td>...</td>\n",
              "      <td>...</td>\n",
              "      <td>...</td>\n",
              "      <td>...</td>\n",
              "      <td>...</td>\n",
              "    </tr>\n",
              "    <tr>\n",
              "      <th>5045</th>\n",
              "      <td>6</td>\n",
              "      <td>12</td>\n",
              "      <td>1</td>\n",
              "      <td>6</td>\n",
              "      <td>5.0</td>\n",
              "      <td>3.0</td>\n",
              "      <td>2.0</td>\n",
              "      <td>NaN</td>\n",
              "      <td>NaN</td>\n",
              "      <td>NaN</td>\n",
              "      <td>NaN</td>\n",
              "      <td>NaN</td>\n",
              "      <td>2</td>\n",
              "      <td>11</td>\n",
              "      <td>10</td>\n",
              "    </tr>\n",
              "    <tr>\n",
              "      <th>5046</th>\n",
              "      <td>2</td>\n",
              "      <td>4</td>\n",
              "      <td>9</td>\n",
              "      <td>7</td>\n",
              "      <td>8.0</td>\n",
              "      <td>NaN</td>\n",
              "      <td>NaN</td>\n",
              "      <td>NaN</td>\n",
              "      <td>NaN</td>\n",
              "      <td>NaN</td>\n",
              "      <td>NaN</td>\n",
              "      <td>NaN</td>\n",
              "      <td>2</td>\n",
              "      <td>3</td>\n",
              "      <td>11</td>\n",
              "    </tr>\n",
              "    <tr>\n",
              "      <th>5047</th>\n",
              "      <td>3</td>\n",
              "      <td>4</td>\n",
              "      <td>1</td>\n",
              "      <td>7</td>\n",
              "      <td>4.0</td>\n",
              "      <td>3.0</td>\n",
              "      <td>NaN</td>\n",
              "      <td>NaN</td>\n",
              "      <td>NaN</td>\n",
              "      <td>NaN</td>\n",
              "      <td>NaN</td>\n",
              "      <td>NaN</td>\n",
              "      <td>8</td>\n",
              "      <td>4</td>\n",
              "      <td>11</td>\n",
              "    </tr>\n",
              "    <tr>\n",
              "      <th>5048</th>\n",
              "      <td>2</td>\n",
              "      <td>11</td>\n",
              "      <td>3</td>\n",
              "      <td>1</td>\n",
              "      <td>NaN</td>\n",
              "      <td>NaN</td>\n",
              "      <td>NaN</td>\n",
              "      <td>NaN</td>\n",
              "      <td>NaN</td>\n",
              "      <td>NaN</td>\n",
              "      <td>NaN</td>\n",
              "      <td>NaN</td>\n",
              "      <td>2</td>\n",
              "      <td>1</td>\n",
              "      <td>3</td>\n",
              "    </tr>\n",
              "    <tr>\n",
              "      <th>5049</th>\n",
              "      <td>2</td>\n",
              "      <td>7</td>\n",
              "      <td>3</td>\n",
              "      <td>2</td>\n",
              "      <td>3.0</td>\n",
              "      <td>7.0</td>\n",
              "      <td>NaN</td>\n",
              "      <td>NaN</td>\n",
              "      <td>NaN</td>\n",
              "      <td>NaN</td>\n",
              "      <td>NaN</td>\n",
              "      <td>NaN</td>\n",
              "      <td>2</td>\n",
              "      <td>11</td>\n",
              "      <td>1</td>\n",
              "    </tr>\n",
              "  </tbody>\n",
              "</table>\n",
              "<p>5050 rows × 15 columns</p>\n",
              "</div>\n",
              "      <button class=\"colab-df-convert\" onclick=\"convertToInteractive('df-c501f6af-d77a-42ab-89af-14bf393a1bdc')\"\n",
              "              title=\"Convert this dataframe to an interactive table.\"\n",
              "              style=\"display:none;\">\n",
              "        \n",
              "  <svg xmlns=\"http://www.w3.org/2000/svg\" height=\"24px\"viewBox=\"0 0 24 24\"\n",
              "       width=\"24px\">\n",
              "    <path d=\"M0 0h24v24H0V0z\" fill=\"none\"/>\n",
              "    <path d=\"M18.56 5.44l.94 2.06.94-2.06 2.06-.94-2.06-.94-.94-2.06-.94 2.06-2.06.94zm-11 1L8.5 8.5l.94-2.06 2.06-.94-2.06-.94L8.5 2.5l-.94 2.06-2.06.94zm10 10l.94 2.06.94-2.06 2.06-.94-2.06-.94-.94-2.06-.94 2.06-2.06.94z\"/><path d=\"M17.41 7.96l-1.37-1.37c-.4-.4-.92-.59-1.43-.59-.52 0-1.04.2-1.43.59L10.3 9.45l-7.72 7.72c-.78.78-.78 2.05 0 2.83L4 21.41c.39.39.9.59 1.41.59.51 0 1.02-.2 1.41-.59l7.78-7.78 2.81-2.81c.8-.78.8-2.07 0-2.86zM5.41 20L4 18.59l7.72-7.72 1.47 1.35L5.41 20z\"/>\n",
              "  </svg>\n",
              "      </button>\n",
              "      \n",
              "  <style>\n",
              "    .colab-df-container {\n",
              "      display:flex;\n",
              "      flex-wrap:wrap;\n",
              "      gap: 12px;\n",
              "    }\n",
              "\n",
              "    .colab-df-convert {\n",
              "      background-color: #E8F0FE;\n",
              "      border: none;\n",
              "      border-radius: 50%;\n",
              "      cursor: pointer;\n",
              "      display: none;\n",
              "      fill: #1967D2;\n",
              "      height: 32px;\n",
              "      padding: 0 0 0 0;\n",
              "      width: 32px;\n",
              "    }\n",
              "\n",
              "    .colab-df-convert:hover {\n",
              "      background-color: #E2EBFA;\n",
              "      box-shadow: 0px 1px 2px rgba(60, 64, 67, 0.3), 0px 1px 3px 1px rgba(60, 64, 67, 0.15);\n",
              "      fill: #174EA6;\n",
              "    }\n",
              "\n",
              "    [theme=dark] .colab-df-convert {\n",
              "      background-color: #3B4455;\n",
              "      fill: #D2E3FC;\n",
              "    }\n",
              "\n",
              "    [theme=dark] .colab-df-convert:hover {\n",
              "      background-color: #434B5C;\n",
              "      box-shadow: 0px 1px 3px 1px rgba(0, 0, 0, 0.15);\n",
              "      filter: drop-shadow(0px 1px 2px rgba(0, 0, 0, 0.3));\n",
              "      fill: #FFFFFF;\n",
              "    }\n",
              "  </style>\n",
              "\n",
              "      <script>\n",
              "        const buttonEl =\n",
              "          document.querySelector('#df-c501f6af-d77a-42ab-89af-14bf393a1bdc button.colab-df-convert');\n",
              "        buttonEl.style.display =\n",
              "          google.colab.kernel.accessAllowed ? 'block' : 'none';\n",
              "\n",
              "        async function convertToInteractive(key) {\n",
              "          const element = document.querySelector('#df-c501f6af-d77a-42ab-89af-14bf393a1bdc');\n",
              "          const dataTable =\n",
              "            await google.colab.kernel.invokeFunction('convertToInteractive',\n",
              "                                                     [key], {});\n",
              "          if (!dataTable) return;\n",
              "\n",
              "          const docLinkHtml = 'Like what you see? Visit the ' +\n",
              "            '<a target=\"_blank\" href=https://colab.research.google.com/notebooks/data_table.ipynb>data table notebook</a>'\n",
              "            + ' to learn more about interactive tables.';\n",
              "          element.innerHTML = '';\n",
              "          dataTable['output_type'] = 'display_data';\n",
              "          await google.colab.output.renderOutput(dataTable, element);\n",
              "          const docLink = document.createElement('div');\n",
              "          docLink.innerHTML = docLinkHtml;\n",
              "          element.appendChild(docLink);\n",
              "        }\n",
              "      </script>\n",
              "    </div>\n",
              "  </div>\n",
              "  "
            ]
          },
          "metadata": {},
          "execution_count": 151
        }
      ]
    },
    {
      "cell_type": "code",
      "source": [
        "# want to check how many NaN in D3 columns\n",
        "data_multi[['D3', 'D3_m2', 'D3_m3']].isnull().sum() \n",
        "# no NaN found"
      ],
      "metadata": {
        "colab": {
          "base_uri": "https://localhost:8080/"
        },
        "id": "kWdyzM3tDQJJ",
        "outputId": "055216c8-0aff-449c-9947-cb90e43c6393"
      },
      "execution_count": null,
      "outputs": [
        {
          "output_type": "execute_result",
          "data": {
            "text/plain": [
              "D3       0\n",
              "D3_m2    0\n",
              "D3_m3    0\n",
              "dtype: int64"
            ]
          },
          "metadata": {},
          "execution_count": 152
        }
      ]
    },
    {
      "cell_type": "code",
      "source": [
        "# NaN을 .fillna()를 이용해 0으로 치환\n",
        "data_multi = data_multi.fillna(0)\n",
        "# Nan을 .replace()를 이용해 0으로 치환하는 법\n",
        "# data_multi = data_multi.replace(np.nan, 0)\n",
        "data_multi.head()"
      ],
      "metadata": {
        "colab": {
          "base_uri": "https://localhost:8080/",
          "height": 206
        },
        "id": "T2YJrlXtag5-",
        "outputId": "c90fb442-7436-4a6e-cff2-6fbdc35fbeb0"
      },
      "execution_count": null,
      "outputs": [
        {
          "output_type": "execute_result",
          "data": {
            "text/plain": [
              "   A4  A4_m2  A4_m3  B5  B5_m2  B5_m3  B5_m4  B5_m5  B5_m6  B5_m7  B5_m8  \\\n",
              "0   4      7     11   7    0.0    0.0    0.0    0.0    0.0    0.0    0.0   \n",
              "1   3      7     11   7    2.0    0.0    0.0    0.0    0.0    0.0    0.0   \n",
              "2   2      7     11   7    2.0    4.0    3.0    0.0    0.0    0.0    0.0   \n",
              "3   7      3     11   2    4.0    7.0    0.0    0.0    0.0    0.0    0.0   \n",
              "4  11     10      3   3    4.0    0.0    0.0    0.0    0.0    0.0    0.0   \n",
              "\n",
              "   B5_m9  D3  D3_m2  D3_m3  \n",
              "0    0.0   3     10     11  \n",
              "1    0.0   6     11      8  \n",
              "2    0.0   2      8      1  \n",
              "3    0.0  11      8      2  \n",
              "4    0.0  11      8      5  "
            ],
            "text/html": [
              "\n",
              "  <div id=\"df-5f5f514b-3b94-4e0f-961d-6631fae6cc20\">\n",
              "    <div class=\"colab-df-container\">\n",
              "      <div>\n",
              "<style scoped>\n",
              "    .dataframe tbody tr th:only-of-type {\n",
              "        vertical-align: middle;\n",
              "    }\n",
              "\n",
              "    .dataframe tbody tr th {\n",
              "        vertical-align: top;\n",
              "    }\n",
              "\n",
              "    .dataframe thead th {\n",
              "        text-align: right;\n",
              "    }\n",
              "</style>\n",
              "<table border=\"1\" class=\"dataframe\">\n",
              "  <thead>\n",
              "    <tr style=\"text-align: right;\">\n",
              "      <th></th>\n",
              "      <th>A4</th>\n",
              "      <th>A4_m2</th>\n",
              "      <th>A4_m3</th>\n",
              "      <th>B5</th>\n",
              "      <th>B5_m2</th>\n",
              "      <th>B5_m3</th>\n",
              "      <th>B5_m4</th>\n",
              "      <th>B5_m5</th>\n",
              "      <th>B5_m6</th>\n",
              "      <th>B5_m7</th>\n",
              "      <th>B5_m8</th>\n",
              "      <th>B5_m9</th>\n",
              "      <th>D3</th>\n",
              "      <th>D3_m2</th>\n",
              "      <th>D3_m3</th>\n",
              "    </tr>\n",
              "  </thead>\n",
              "  <tbody>\n",
              "    <tr>\n",
              "      <th>0</th>\n",
              "      <td>4</td>\n",
              "      <td>7</td>\n",
              "      <td>11</td>\n",
              "      <td>7</td>\n",
              "      <td>0.0</td>\n",
              "      <td>0.0</td>\n",
              "      <td>0.0</td>\n",
              "      <td>0.0</td>\n",
              "      <td>0.0</td>\n",
              "      <td>0.0</td>\n",
              "      <td>0.0</td>\n",
              "      <td>0.0</td>\n",
              "      <td>3</td>\n",
              "      <td>10</td>\n",
              "      <td>11</td>\n",
              "    </tr>\n",
              "    <tr>\n",
              "      <th>1</th>\n",
              "      <td>3</td>\n",
              "      <td>7</td>\n",
              "      <td>11</td>\n",
              "      <td>7</td>\n",
              "      <td>2.0</td>\n",
              "      <td>0.0</td>\n",
              "      <td>0.0</td>\n",
              "      <td>0.0</td>\n",
              "      <td>0.0</td>\n",
              "      <td>0.0</td>\n",
              "      <td>0.0</td>\n",
              "      <td>0.0</td>\n",
              "      <td>6</td>\n",
              "      <td>11</td>\n",
              "      <td>8</td>\n",
              "    </tr>\n",
              "    <tr>\n",
              "      <th>2</th>\n",
              "      <td>2</td>\n",
              "      <td>7</td>\n",
              "      <td>11</td>\n",
              "      <td>7</td>\n",
              "      <td>2.0</td>\n",
              "      <td>4.0</td>\n",
              "      <td>3.0</td>\n",
              "      <td>0.0</td>\n",
              "      <td>0.0</td>\n",
              "      <td>0.0</td>\n",
              "      <td>0.0</td>\n",
              "      <td>0.0</td>\n",
              "      <td>2</td>\n",
              "      <td>8</td>\n",
              "      <td>1</td>\n",
              "    </tr>\n",
              "    <tr>\n",
              "      <th>3</th>\n",
              "      <td>7</td>\n",
              "      <td>3</td>\n",
              "      <td>11</td>\n",
              "      <td>2</td>\n",
              "      <td>4.0</td>\n",
              "      <td>7.0</td>\n",
              "      <td>0.0</td>\n",
              "      <td>0.0</td>\n",
              "      <td>0.0</td>\n",
              "      <td>0.0</td>\n",
              "      <td>0.0</td>\n",
              "      <td>0.0</td>\n",
              "      <td>11</td>\n",
              "      <td>8</td>\n",
              "      <td>2</td>\n",
              "    </tr>\n",
              "    <tr>\n",
              "      <th>4</th>\n",
              "      <td>11</td>\n",
              "      <td>10</td>\n",
              "      <td>3</td>\n",
              "      <td>3</td>\n",
              "      <td>4.0</td>\n",
              "      <td>0.0</td>\n",
              "      <td>0.0</td>\n",
              "      <td>0.0</td>\n",
              "      <td>0.0</td>\n",
              "      <td>0.0</td>\n",
              "      <td>0.0</td>\n",
              "      <td>0.0</td>\n",
              "      <td>11</td>\n",
              "      <td>8</td>\n",
              "      <td>5</td>\n",
              "    </tr>\n",
              "  </tbody>\n",
              "</table>\n",
              "</div>\n",
              "      <button class=\"colab-df-convert\" onclick=\"convertToInteractive('df-5f5f514b-3b94-4e0f-961d-6631fae6cc20')\"\n",
              "              title=\"Convert this dataframe to an interactive table.\"\n",
              "              style=\"display:none;\">\n",
              "        \n",
              "  <svg xmlns=\"http://www.w3.org/2000/svg\" height=\"24px\"viewBox=\"0 0 24 24\"\n",
              "       width=\"24px\">\n",
              "    <path d=\"M0 0h24v24H0V0z\" fill=\"none\"/>\n",
              "    <path d=\"M18.56 5.44l.94 2.06.94-2.06 2.06-.94-2.06-.94-.94-2.06-.94 2.06-2.06.94zm-11 1L8.5 8.5l.94-2.06 2.06-.94-2.06-.94L8.5 2.5l-.94 2.06-2.06.94zm10 10l.94 2.06.94-2.06 2.06-.94-2.06-.94-.94-2.06-.94 2.06-2.06.94z\"/><path d=\"M17.41 7.96l-1.37-1.37c-.4-.4-.92-.59-1.43-.59-.52 0-1.04.2-1.43.59L10.3 9.45l-7.72 7.72c-.78.78-.78 2.05 0 2.83L4 21.41c.39.39.9.59 1.41.59.51 0 1.02-.2 1.41-.59l7.78-7.78 2.81-2.81c.8-.78.8-2.07 0-2.86zM5.41 20L4 18.59l7.72-7.72 1.47 1.35L5.41 20z\"/>\n",
              "  </svg>\n",
              "      </button>\n",
              "      \n",
              "  <style>\n",
              "    .colab-df-container {\n",
              "      display:flex;\n",
              "      flex-wrap:wrap;\n",
              "      gap: 12px;\n",
              "    }\n",
              "\n",
              "    .colab-df-convert {\n",
              "      background-color: #E8F0FE;\n",
              "      border: none;\n",
              "      border-radius: 50%;\n",
              "      cursor: pointer;\n",
              "      display: none;\n",
              "      fill: #1967D2;\n",
              "      height: 32px;\n",
              "      padding: 0 0 0 0;\n",
              "      width: 32px;\n",
              "    }\n",
              "\n",
              "    .colab-df-convert:hover {\n",
              "      background-color: #E2EBFA;\n",
              "      box-shadow: 0px 1px 2px rgba(60, 64, 67, 0.3), 0px 1px 3px 1px rgba(60, 64, 67, 0.15);\n",
              "      fill: #174EA6;\n",
              "    }\n",
              "\n",
              "    [theme=dark] .colab-df-convert {\n",
              "      background-color: #3B4455;\n",
              "      fill: #D2E3FC;\n",
              "    }\n",
              "\n",
              "    [theme=dark] .colab-df-convert:hover {\n",
              "      background-color: #434B5C;\n",
              "      box-shadow: 0px 1px 3px 1px rgba(0, 0, 0, 0.15);\n",
              "      filter: drop-shadow(0px 1px 2px rgba(0, 0, 0, 0.3));\n",
              "      fill: #FFFFFF;\n",
              "    }\n",
              "  </style>\n",
              "\n",
              "      <script>\n",
              "        const buttonEl =\n",
              "          document.querySelector('#df-5f5f514b-3b94-4e0f-961d-6631fae6cc20 button.colab-df-convert');\n",
              "        buttonEl.style.display =\n",
              "          google.colab.kernel.accessAllowed ? 'block' : 'none';\n",
              "\n",
              "        async function convertToInteractive(key) {\n",
              "          const element = document.querySelector('#df-5f5f514b-3b94-4e0f-961d-6631fae6cc20');\n",
              "          const dataTable =\n",
              "            await google.colab.kernel.invokeFunction('convertToInteractive',\n",
              "                                                     [key], {});\n",
              "          if (!dataTable) return;\n",
              "\n",
              "          const docLinkHtml = 'Like what you see? Visit the ' +\n",
              "            '<a target=\"_blank\" href=https://colab.research.google.com/notebooks/data_table.ipynb>data table notebook</a>'\n",
              "            + ' to learn more about interactive tables.';\n",
              "          element.innerHTML = '';\n",
              "          dataTable['output_type'] = 'display_data';\n",
              "          await google.colab.output.renderOutput(dataTable, element);\n",
              "          const docLink = document.createElement('div');\n",
              "          docLink.innerHTML = docLinkHtml;\n",
              "          element.appendChild(docLink);\n",
              "        }\n",
              "      </script>\n",
              "    </div>\n",
              "  </div>\n",
              "  "
            ]
          },
          "metadata": {},
          "execution_count": 153
        }
      ]
    },
    {
      "cell_type": "markdown",
      "source": [
        "### 2. 각 컬럼별 응답번호별 빈도수 데이터프레임 생성"
      ],
      "metadata": {
        "id": "P4enoqAOiHqx"
      }
    },
    {
      "cell_type": "code",
      "source": [
        "# value_counts()는 그룹화된 데이터의 카운트 값을 리턴\n",
        "A4_count = pd.DataFrame(data_multi['A4'].value_counts())\n",
        "# print(A4_count)\n",
        "A42_count = pd.DataFrame(data_multi['A4_m2'].value_counts())\n",
        "# print(A42_count)\n",
        "A43_count = pd.DataFrame(data_multi['A4_m3'].value_counts())\n",
        "# print(A43_count)"
      ],
      "metadata": {
        "id": "rUrotfPFiHa3"
      },
      "execution_count": null,
      "outputs": []
    },
    {
      "cell_type": "code",
      "source": [
        "# B5\n",
        "B5_count = pd.DataFrame(data_multi['B5'].value_counts())\n",
        "B52_count = pd.DataFrame(data_multi['B5_m2'].value_counts())\n",
        "# print(B52_count)\n",
        "B53_count = pd.DataFrame(data_multi['B5_m3'].value_counts())\n",
        "# print(B53_count)\n",
        "B54_count = pd.DataFrame(data_multi['B5_m4'].value_counts())\n",
        "# print(B54_count)\n",
        "B55_count = pd.DataFrame(data_multi['B5_m5'].value_counts())\n",
        "# print(B55_count)\n",
        "B56_count = pd.DataFrame(data_multi['B5_m6'].value_counts())\n",
        "# print(B56_count)\n",
        "B57_count = pd.DataFrame(data_multi['B5_m7'].value_counts())\n",
        "B58_count = pd.DataFrame(data_multi['B5_m8'].value_counts())\n",
        "# print(B58_count)\n",
        "# B5_m9에는 응답자 없음\n",
        "# B59_count = pd.DataFrame(data_multi['B5_m9'].value_counts())"
      ],
      "metadata": {
        "id": "hc7mt4SxBN5L"
      },
      "execution_count": null,
      "outputs": []
    },
    {
      "cell_type": "code",
      "source": [
        "D3_count = pd.DataFrame(data_multi['D3'].value_counts())\n",
        "D32_count = pd.DataFrame(data_multi['D3_m2'].value_counts())\n",
        "D33_count = pd.DataFrame(data_multi['D3_m3'].value_counts())\n",
        "# print(D3_count, D32_count, D33_count)"
      ],
      "metadata": {
        "id": "MKjg6FtKBHe-"
      },
      "execution_count": null,
      "outputs": []
    },
    {
      "cell_type": "markdown",
      "source": [
        "#### A4, B5끼리 데이터프레임 병합\n"
      ],
      "metadata": {
        "id": "YjXjlTfZk8nZ"
      }
    },
    {
      "cell_type": "markdown",
      "source": [
        "Pandas.concat()를 사용해서 df 병합하기\n",
        "- index를 기준으로 join='inner' 사용\n",
        "- axis=1 설정해서 가로로 합병\n",
        "\n"
      ],
      "metadata": {
        "id": "_29vTP9ilSmk"
      }
    },
    {
      "cell_type": "markdown",
      "source": [
        "A4관련 컬럼에는 결측치가 없었기 때문에 '0'이 존재하지 않음"
      ],
      "metadata": {
        "id": "06AWmPsLqIBj"
      }
    },
    {
      "cell_type": "code",
      "source": [
        "A4 = pd.concat([A4_count, A42_count, A43_count], axis=1, join='inner')\n",
        "ordered_A4 = A4.sort_index()\n",
        "# print(A4)\n",
        "# print(ordered_A4)"
      ],
      "metadata": {
        "id": "HlY0l7fgpsXk"
      },
      "execution_count": null,
      "outputs": []
    },
    {
      "cell_type": "markdown",
      "source": [
        "B5 관련 컬럼에는 결측치(NaN)가 많이 존재 + 한 컬럼에 모든 응답이 없는 경우가 대부분\n",
        "- join='inner'사용하면 안 됨!\n",
        "- 합친 뒤에 필요없는 0과 관련된 데이터는 삭제"
      ],
      "metadata": {
        "id": "BwI3bT8-qxYl"
      }
    },
    {
      "cell_type": "code",
      "source": [
        "B5 = pd.concat([B5_count, B52_count, B53_count, B54_count, B55_count, B56_count, B57_count, B58_count], axis=1)\n",
        "# 값이 존재하지 않는 경우 NaN이 나옴, 이를 다시 0으로 치환 (나중에 각 행에 있는 숫자들을 더하는 연산을 하기 위해)\n",
        "B5 = B5.fillna(0).sum()\n",
        "\n",
        "# print(B5)\n",
        "ordered_B5 = B5.sort_index()\n",
        "# print(ordered_B5)"
      ],
      "metadata": {
        "id": "wbXQmyh6rCkI"
      },
      "execution_count": null,
      "outputs": []
    },
    {
      "cell_type": "markdown",
      "source": [
        "D3 에는 결측치 (NaN)가 없었다. 따라서 '0'은 존재하지 않는다\n",
        "ㅁ4와 같이 join='inner'를 사용해서 합치기"
      ],
      "metadata": {
        "id": "3ILsv4YqBsxs"
      }
    },
    {
      "cell_type": "code",
      "source": [
        "D3 = pd.concat([D3_count, D32_count, D33_count], axis=1, join='inner')\n",
        "ordered_D3 = D3.sort_index()\n",
        "# print(D3.head())\n",
        "# print(ordered_D3.head())"
      ],
      "metadata": {
        "colab": {
          "base_uri": "https://localhost:8080/"
        },
        "id": "pXbi4ntiETAs",
        "outputId": "be056136-dfdd-469a-8a99-ba493f5a7710"
      },
      "execution_count": null,
      "outputs": [
        {
          "output_type": "stream",
          "name": "stdout",
          "text": [
            "      D3  D3_m2  D3_m3\n",
            "8   1080    930    786\n",
            "2    952    751    625\n",
            "1    922    798    742\n",
            "11   732    850    735\n",
            "10   342    403    566\n",
            "    D3  D3_m2  D3_m3\n",
            "1  922    798    742\n",
            "2  952    751    625\n",
            "3  213    327    389\n",
            "4   94    107    124\n",
            "5  242    281    397\n"
          ]
        }
      ]
    },
    {
      "cell_type": "markdown",
      "source": [
        "#### 각 행마다 값을 더하기\n"
      ],
      "metadata": {
        "id": "dz3JmNMessvA"
      }
    },
    {
      "cell_type": "code",
      "source": [
        "# A4부터\n",
        "ordered_A4['A4_sum'] = ordered_A4.sum(axis=1)\n",
        "print(ordered_A4)\n",
        "# leave only A4_sum\n",
        "A4_result = ordered_A4[['A4_sum']]\n",
        "A4_result['A4_ratio'] = A4_result / data_multi.shape[0]\n",
        "# print(data_multi.shape[0])\n",
        "print(A4_result)"
      ],
      "metadata": {
        "colab": {
          "base_uri": "https://localhost:8080/"
        },
        "id": "2Yb22zMXsz3F",
        "outputId": "1d8526b5-7271-4a8c-ad6d-04ccabb2a46e"
      },
      "execution_count": null,
      "outputs": [
        {
          "output_type": "stream",
          "name": "stdout",
          "text": [
            "      A4  A4_m2  A4_m3  A4_sum\n",
            "1    738    663    619    2020\n",
            "2    844    870    866    2580\n",
            "3   1056   1112   1154    3322\n",
            "4    371    432    441    1244\n",
            "5    126    135    120     381\n",
            "6    208    170    173     551\n",
            "7    691    680    669    2040\n",
            "8     49     54     50     153\n",
            "9    239    249    228     716\n",
            "10    67     70     80     217\n",
            "11   526    507    522    1555\n",
            "12   135    108    123     366\n",
            "    A4_sum  A4_ratio\n",
            "1     2020  0.400000\n",
            "2     2580  0.510891\n",
            "3     3322  0.657822\n",
            "4     1244  0.246337\n",
            "5      381  0.075446\n",
            "6      551  0.109109\n",
            "7     2040  0.403960\n",
            "8      153  0.030297\n",
            "9      716  0.141782\n",
            "10     217  0.042970\n",
            "11    1555  0.307921\n",
            "12     366  0.072475\n"
          ]
        },
        {
          "output_type": "stream",
          "name": "stderr",
          "text": [
            "/usr/local/lib/python3.7/dist-packages/ipykernel_launcher.py:6: SettingWithCopyWarning: \n",
            "A value is trying to be set on a copy of a slice from a DataFrame.\n",
            "Try using .loc[row_indexer,col_indexer] = value instead\n",
            "\n",
            "See the caveats in the documentation: https://pandas.pydata.org/pandas-docs/stable/user_guide/indexing.html#returning-a-view-versus-a-copy\n",
            "  \n"
          ]
        }
      ]
    },
    {
      "cell_type": "code",
      "source": [
        "# B5\n",
        "ordered_B5['B5_sum'] = ordered_B5.sum(axis=1)\n",
        "print(ordered_B5)\n",
        "# leave only B5_sum\n",
        "B5_result = ordered_B5[['B5_sum']]\n",
        "B5_result['B5_ratio'] = B5_result / data_multi.shape[0]\n",
        "print('before:', B5_result)\n",
        "B5_result = B5_result[1:]\n",
        "\n",
        "# print(data_multi.shape[0])\n",
        "print(B5_result.head())"
      ],
      "metadata": {
        "colab": {
          "base_uri": "https://localhost:8080/"
        },
        "id": "OXCumVZRNMWY",
        "outputId": "105c5a56-753b-4866-be95-865015434306"
      },
      "execution_count": null,
      "outputs": [
        {
          "output_type": "stream",
          "name": "stdout",
          "text": [
            "        B5  B5_m2  B5_m3  B5_m4  B5_m5   B5_m6   B5_m7   B5_m8   B5_sum\n",
            "0.0    0.0    963   2433   4348   4841  4978.0  5024.0  5033.0  27620.0\n",
            "1.0  622.0    571    353    105     33     5.0     2.0     3.0   1694.0\n",
            "2.0  893.0    710    460    118     26     8.0     5.0     3.0   2223.0\n",
            "3.0  810.0    642    429    124     35    11.0     4.0     2.0   2057.0\n",
            "4.0  753.0    576    384     81     20    11.0     5.0     4.0   1834.0\n",
            "5.0  516.0    353    232     64     22    10.0     4.0     0.0   1201.0\n",
            "6.0  202.0    167    113     52     21     8.0     2.0     0.0    565.0\n",
            "7.0  864.0    779    443    100     30    12.0     3.0     4.0   2235.0\n",
            "8.0  338.0    273    188     54     20     7.0     1.0     1.0    882.0\n",
            "9.0   52.0     16     15      4      2     0.0     0.0     0.0     89.0\n",
            "before:       B5_sum  B5_ratio\n",
            "0.0  27620.0  5.469307\n",
            "1.0   1694.0  0.335446\n",
            "2.0   2223.0  0.440198\n",
            "3.0   2057.0  0.407327\n",
            "4.0   1834.0  0.363168\n",
            "5.0   1201.0  0.237822\n",
            "6.0    565.0  0.111881\n",
            "7.0   2235.0  0.442574\n",
            "8.0    882.0  0.174653\n",
            "9.0     89.0  0.017624\n",
            "     B5_sum  B5_ratio\n",
            "1.0  1694.0  0.335446\n",
            "2.0  2223.0  0.440198\n",
            "3.0  2057.0  0.407327\n",
            "4.0  1834.0  0.363168\n",
            "5.0  1201.0  0.237822\n",
            "6.0   565.0  0.111881\n",
            "7.0  2235.0  0.442574\n",
            "8.0   882.0  0.174653\n",
            "9.0    89.0  0.017624\n"
          ]
        },
        {
          "output_type": "stream",
          "name": "stderr",
          "text": [
            "/usr/local/lib/python3.7/dist-packages/ipykernel_launcher.py:6: SettingWithCopyWarning: \n",
            "A value is trying to be set on a copy of a slice from a DataFrame.\n",
            "Try using .loc[row_indexer,col_indexer] = value instead\n",
            "\n",
            "See the caveats in the documentation: https://pandas.pydata.org/pandas-docs/stable/user_guide/indexing.html#returning-a-view-versus-a-copy\n",
            "  \n"
          ]
        }
      ]
    },
    {
      "cell_type": "code",
      "source": [
        "# D3 가장 시급한 환경문제\n",
        "ordered_D3['D3_sum'] = ordered_D3.sum(axis=1)\n",
        "print(ordered_D3)\n",
        "# leave only D3_sum\n",
        "D3_result = ordered_D3[['D3_sum']]\n",
        "D3_result['D3_ratio'] = D3_result / data_multi.shape[0]\n",
        "# print(data_multi.shape[0])\n",
        "print(D3_result)"
      ],
      "metadata": {
        "colab": {
          "base_uri": "https://localhost:8080/"
        },
        "id": "BEoJ37ZoEm5E",
        "outputId": "7a7ecd4e-a3f8-4978-b461-5d7af6a1705f"
      },
      "execution_count": null,
      "outputs": [
        {
          "output_type": "stream",
          "name": "stdout",
          "text": [
            "      D3  D3_m2  D3_m3  D3_sum\n",
            "1    922    798    742    2462\n",
            "2    952    751    625    2328\n",
            "3    213    327    389     929\n",
            "4     94    107    124     325\n",
            "5    242    281    397     920\n",
            "6    173    227    286     686\n",
            "7    168    201    211     580\n",
            "8   1080    930    786    2796\n",
            "9    123    174    185     482\n",
            "10   342    403    566    1311\n",
            "11   732    850    735    2317\n",
            "12     9      1      4      14\n",
            "    D3_sum  D3_ratio\n",
            "1     2462  0.487525\n",
            "2     2328  0.460990\n",
            "3      929  0.183960\n",
            "4      325  0.064356\n",
            "5      920  0.182178\n",
            "6      686  0.135842\n",
            "7      580  0.114851\n",
            "8     2796  0.553663\n",
            "9      482  0.095446\n",
            "10    1311  0.259604\n",
            "11    2317  0.458812\n",
            "12      14  0.002772\n"
          ]
        },
        {
          "output_type": "stream",
          "name": "stderr",
          "text": [
            "/usr/local/lib/python3.7/dist-packages/ipykernel_launcher.py:6: SettingWithCopyWarning: \n",
            "A value is trying to be set on a copy of a slice from a DataFrame.\n",
            "Try using .loc[row_indexer,col_indexer] = value instead\n",
            "\n",
            "See the caveats in the documentation: https://pandas.pydata.org/pandas-docs/stable/user_guide/indexing.html#returning-a-view-versus-a-copy\n",
            "  \n"
          ]
        }
      ]
    },
    {
      "cell_type": "markdown",
      "source": [
        "##### 이건 데이터가 우지 중복이 되서 내가 잘못 판단한 거임 - 그러나 공부 됨\n",
        "이런...복수응답에 같은 답을 기입한 사람들이 있다. (X, 없어!!)<br/>\n",
        "이 경우, 중복된 값을 없애야 하는데 <br/>\n",
        "1. 각 행을 list로 만든다 -> row_list라고 부르겠음\n",
        "2. row_list들을 모두 담은 length가 5050인 list를 만든다\n",
        "3. for문을 돌려서 각 row_list 내에 중복되는 숫자가 있는 경우, 그 값을 0으로 치환한다\n",
        "4. 이 리스트 내의 숫자들의 count로 dictionary생성\n",
        "5. Pandas.DataFrame.from_dict(data)로 df으로 변경<br/>\n",
        "<br/>\n",
        "**문제점**: 데이터베이스에 넣을 때 여러개의 테이블을 넣어야 해서 - 이게 낳을지 최대한 데이터 원형을 유지한 5050개의 데이터 포인트를 가진 데이터프레임을 넣는게 나을지 모르겠다\n"
      ],
      "metadata": {
        "id": "G6WLUwCeu5Yx"
      }
    },
    {
      "cell_type": "markdown",
      "source": [
        "더 좋은 방법은 dataframe에서 바로 중복값을 치환하는 방법인데, 이건 더 알아봐야 함\n"
      ],
      "metadata": {
        "id": "hqoI_cBDw8JW"
      }
    },
    {
      "cell_type": "markdown",
      "source": [
        "###### 데이터프레임 행 -> 리스트의 리스트로 변환\n",
        "- Pandas.iterrows()를 활용 -> df의 각 행을 (index, Series)로 반환함\n",
        "\n",
        "\n",
        "\n",
        "\n"
      ],
      "metadata": {
        "id": "-4qAGlKd8ZVT"
      }
    },
    {
      "cell_type": "code",
      "source": [
        "# 빈 리스트 생성\n",
        "A4_row_list = []\n",
        "\n",
        "# iterage over each row\n",
        "for index, rows in data_multi.iterrows():\n",
        "  # create a list for the current row\n",
        "  row_list = [rows.A4, rows.A4_m2, rows.A4_m3]\n",
        "\n",
        "  # append the list to the final list\n",
        "  A4_row_list.append(row_list)\n",
        "\n",
        "print(A4_row_list[:5])"
      ],
      "metadata": {
        "colab": {
          "base_uri": "https://localhost:8080/"
        },
        "id": "QUmLFEfq8sXS",
        "outputId": "95e8a304-f1a9-4da3-ef04-31a04add34d6"
      },
      "execution_count": null,
      "outputs": [
        {
          "output_type": "stream",
          "name": "stdout",
          "text": [
            "[[4.0, 7.0, 11.0], [3.0, 7.0, 11.0], [2.0, 7.0, 11.0], [7.0, 3.0, 11.0], [11.0, 10.0, 3.0]]\n"
          ]
        }
      ]
    },
    {
      "cell_type": "markdown",
      "source": [
        "###### 리스트 내 리스트를 돌면서 중복값이 존재하는지 여부를 확인해야 함\n",
        "for문을 사용할 것임\n",
        "- 중복되는 값 존재 여부는 해당 row와 set(row)의 길이를 비교해서 파악 가능\n",
        "- 길이가 같으면 그대로 두고\n",
        "- 길이가 다른 경우, a = list(set(row))\n",
        "  - A4_row_list.index(row) = a\n",
        "\n",
        "중복값으로 있었던 데이터의 수를 확인하고 싶으면, 리스트의 리스트인 A4_row_list를 풀어준 뒤 length를 구하고 원래length와 비교하면 됨 <br/>\n",
        "How to make a flat list out of a list of lists (check stackoverflow)\n",
        "- 방법1. `sum(A4_row_list, [])` \n",
        "  - `.sum()` sums the elements of the iterable, here, which is A4_row_list\n",
        "  - thus, it adds lists. its result is a list\n",
        "  - `[]` represents the initial value! \n",
        "- 방법2. `flat_list = [item for sublist in l for item in sublist]`\n",
        "  - `flat_list = []`<br/> \n",
        "    `for sublist in l:` <br/>\n",
        "    `for item in sublist:` <br/>\n",
        "    `flat_list.append(item)`\n",
        "  - 이중 for문을 한 줄로 작성, 이걸 함수로 만들어서 사용 가능!"
      ],
      "metadata": {
        "id": "5fq8qdxq93Nz"
      }
    },
    {
      "cell_type": "code",
      "source": [
        "# 리스트 내 리스트 순환\n",
        "# deep copy를 생성하기 위해 copy module import\n",
        "import copy\n",
        "A4a = copy.deepcopy(A4_row_list)\n",
        "for row in A4a:\n",
        "  # print('row: ', row)\n",
        "  if len(row) != len(set(row)):\n",
        "    a = list(set(row))\n",
        "    # print('a: ', a)\n",
        "    idx = A4a.index(row)\n",
        "    # print('idx: ', idx)\n",
        "    A4a[idx] = a\n",
        "\n",
        "# check if there is any change by make a flat list\n",
        "\n",
        "def flat_list_maker(l):\n",
        "  return [item for sublist in l for item in sublist]\n",
        "\n",
        "change = len(flat_list_maker(A4_row_list)) - len(flat_list_maker(A4))\n",
        "print(change)\n"
      ],
      "metadata": {
        "colab": {
          "base_uri": "https://localhost:8080/"
        },
        "id": "NnCdRvF98rOk",
        "outputId": "116a6f88-93f3-4fc3-9660-da28cf256a1c"
      },
      "execution_count": null,
      "outputs": [
        {
          "output_type": "stream",
          "name": "stdout",
          "text": [
            "15138\n"
          ]
        }
      ]
    },
    {
      "cell_type": "markdown",
      "source": [
        "일일이 다 뜯어 보았지만, 중복되는 값은 존재하지 않는다. 다시 위로 올라가서 value_counts()를 살펴보아야 함 <br/>\n",
        "-> 내가 데이터 프레임을 합치고 연산을 중복해서 해서 값이 더블이 된 것 같음.\n",
        "!!! 다음부터는 연산을 다시 할 때에는 소스 데이터도 다시 로드한 뒤에 테스트 할 것!"
      ],
      "metadata": {
        "id": "GxKyn9izKuLp"
      }
    },
    {
      "cell_type": "markdown",
      "source": [
        "### 막대 그래프 그리기\n",
        "- A4_result 우리나라가 처한 가장 심각한 환경문제 <br/>\n",
        "  {**'1': '기후변화'** , '2': '대기오염/미세먼지 문제', **'3': '쓰레기/폐기물 처리 문제'**, '7':'과대 포장에 따른 쓰레기 발생', '11':'생활 속 화학물질', '4':'생태계 훼손','9': '강/하천/호수 수질','6': '미래 에너지원 및 공급',**'5': '자원고갈'**,'12':'환경 불평등', '10': '홍수 및 가뭄', '8': '생물다양성 보호 문제'}\n",
        "- B5_result 환경보전 행동 실천이 어려운 이유 <br/>\n",
        "{'7':'제품을 구매하거나 행동할 때 친환경적인 대안이 없거나 품질이 떨어진다', '2': '친환경적인 행동(예.대중교통 이용)은 시간이 많이 소비된다', '3':'친환경적인 행동은 비용이 많이 든다','4': '환경에 나쁜 영향을 주는 행동들이 이미 습관이 되어 바꾸기 어렵다','1':'친환경적 행동이 나의 건강에는 오히려 해가 될 수 있다 (예.미세먼지 많은 날 걸어서 이동','5': '친환경적 행동을 실천하고 싶지만 방법을 잘 모른다','8':'친환경적 행동을 해도 환경문제가 개선되지 않을 것이라 실천의 필요를 못 느낀다', '6':'주변 사람들이 친환경적으로 행동하는 것을 비웃거나 무시한다', '9':'기타'} \n",
        "- D3_result 가장 시급한 환경 문제 <br/>\n",
        "{'8':'쓰레기 증가로 인한 문제', '1':'기후변화 피해 및 대응', '2':'대기질 개선','11':'미세플라스틱으로 인한 생태계 및 건강 피해', '10': '생활 속 화학물질 및 화학사고 피해', '3':'도시화 및 개발로 인한 생물다양성 파괴','5':'강/하천/호수/바다 수질 개선', '6': '도시 녹지면적 부족', '7': '실내 실외 소음 공해','9':'가뭄 및 홍수로 인한 피해','4':'생활 및 농업용수 등 물 부족','12':'기타'}"
      ],
      "metadata": {
        "id": "8mkmNWIKSdRH"
      }
    },
    {
      "cell_type": "code",
      "source": [
        "A4_result['A4_ratio'].plot(kind='bar')"
      ],
      "metadata": {
        "colab": {
          "base_uri": "https://localhost:8080/",
          "height": 285
        },
        "id": "1LeBfBJlSmTm",
        "outputId": "dc1109e9-2320-4e3a-ee1b-17a5472950b0"
      },
      "execution_count": null,
      "outputs": [
        {
          "output_type": "execute_result",
          "data": {
            "text/plain": [
              "<matplotlib.axes._subplots.AxesSubplot at 0x7ffa2d3263d0>"
            ]
          },
          "metadata": {},
          "execution_count": 108
        },
        {
          "output_type": "display_data",
          "data": {
            "text/plain": [
              "<Figure size 432x288 with 1 Axes>"
            ],
            "image/png": "[encoded data removed]"
          },
          "metadata": {
            "needs_background": "light"
          }
        }
      ]
    },
    {
      "cell_type": "code",
      "source": [
        "B5_result['B5_ratio'].plot(kind='bar')"
      ],
      "metadata": {
        "colab": {
          "base_uri": "https://localhost:8080/",
          "height": 288
        },
        "id": "Wt4wShJKS-e1",
        "outputId": "a54c31e1-1138-4986-a69f-cdd865ab1493"
      },
      "execution_count": null,
      "outputs": [
        {
          "output_type": "execute_result",
          "data": {
            "text/plain": [
              "<matplotlib.axes._subplots.AxesSubplot at 0x7ffa2d1ada10>"
            ]
          },
          "metadata": {},
          "execution_count": 109
        },
        {
          "output_type": "display_data",
          "data": {
            "text/plain": [
              "<Figure size 432x288 with 1 Axes>"
            ],
            "image/png": "[encoded data removed]"
          },
          "metadata": {
            "needs_background": "light"
          }
        }
      ]
    },
    {
      "cell_type": "code",
      "source": [
        "D3_result['D3_ratio'].plot(kind='bar')"
      ],
      "metadata": {
        "colab": {
          "base_uri": "https://localhost:8080/",
          "height": 285
        },
        "id": "uyxUPW99E-lc",
        "outputId": "af4ce850-eb09-4b10-db87-2a450c6b6777"
      },
      "execution_count": null,
      "outputs": [
        {
          "output_type": "execute_result",
          "data": {
            "text/plain": [
              "<matplotlib.axes._subplots.AxesSubplot at 0x7ffa2c755710>"
            ]
          },
          "metadata": {},
          "execution_count": 162
        },
        {
          "output_type": "display_data",
          "data": {
            "text/plain": [
              "<Figure size 432x288 with 1 Axes>"
            ],
            "image/png": "[encoded data removed]"
          },
          "metadata": {
            "needs_background": "light"
          }
        }
      ]
    },
    {
      "cell_type": "markdown",
      "source": [
        "#### 막대 그래프 최종 데이터셋 csv로 export\n"
      ],
      "metadata": {
        "id": "4-DexrIIOgtS"
      }
    },
    {
      "cell_type": "markdown",
      "source": [
        "비율을 백분율로 바꿔기"
      ],
      "metadata": {
        "id": "2XaLEIk3-UUG"
      }
    },
    {
      "cell_type": "code",
      "source": [
        "B5_result['B5_ratio'] = B5_result['B5_ratio'] * 100\n",
        "B5_result['B5_ratio'] = B5_result['B5_ratio'].round(1)\n",
        "B5_result"
      ],
      "metadata": {
        "colab": {
          "base_uri": "https://localhost:8080/",
          "height": 332
        },
        "id": "tNdt-Tsr-X9k",
        "outputId": "4763bc72-9071-44fe-bb0b-2ea0633c1444"
      },
      "execution_count": null,
      "outputs": [
        {
          "output_type": "execute_result",
          "data": {
            "text/plain": [
              "     B5_sum  B5_ratio\n",
              "1.0  1694.0      33.5\n",
              "2.0  2223.0      44.0\n",
              "3.0  2057.0      40.7\n",
              "4.0  1834.0      36.3\n",
              "5.0  1201.0      23.8\n",
              "6.0   565.0      11.2\n",
              "7.0  2235.0      44.3\n",
              "8.0   882.0      17.5\n",
              "9.0    89.0       1.8"
            ],
            "text/html": [
              "\n",
              "  <div id=\"df-7899eaad-172c-4d55-b128-d226632219ba\">\n",
              "    <div class=\"colab-df-container\">\n",
              "      <div>\n",
              "<style scoped>\n",
              "    .dataframe tbody tr th:only-of-type {\n",
              "        vertical-align: middle;\n",
              "    }\n",
              "\n",
              "    .dataframe tbody tr th {\n",
              "        vertical-align: top;\n",
              "    }\n",
              "\n",
              "    .dataframe thead th {\n",
              "        text-align: right;\n",
              "    }\n",
              "</style>\n",
              "<table border=\"1\" class=\"dataframe\">\n",
              "  <thead>\n",
              "    <tr style=\"text-align: right;\">\n",
              "      <th></th>\n",
              "      <th>B5_sum</th>\n",
              "      <th>B5_ratio</th>\n",
              "    </tr>\n",
              "  </thead>\n",
              "  <tbody>\n",
              "    <tr>\n",
              "      <th>1.0</th>\n",
              "      <td>1694.0</td>\n",
              "      <td>33.5</td>\n",
              "    </tr>\n",
              "    <tr>\n",
              "      <th>2.0</th>\n",
              "      <td>2223.0</td>\n",
              "      <td>44.0</td>\n",
              "    </tr>\n",
              "    <tr>\n",
              "      <th>3.0</th>\n",
              "      <td>2057.0</td>\n",
              "      <td>40.7</td>\n",
              "    </tr>\n",
              "    <tr>\n",
              "      <th>4.0</th>\n",
              "      <td>1834.0</td>\n",
              "      <td>36.3</td>\n",
              "    </tr>\n",
              "    <tr>\n",
              "      <th>5.0</th>\n",
              "      <td>1201.0</td>\n",
              "      <td>23.8</td>\n",
              "    </tr>\n",
              "    <tr>\n",
              "      <th>6.0</th>\n",
              "      <td>565.0</td>\n",
              "      <td>11.2</td>\n",
              "    </tr>\n",
              "    <tr>\n",
              "      <th>7.0</th>\n",
              "      <td>2235.0</td>\n",
              "      <td>44.3</td>\n",
              "    </tr>\n",
              "    <tr>\n",
              "      <th>8.0</th>\n",
              "      <td>882.0</td>\n",
              "      <td>17.5</td>\n",
              "    </tr>\n",
              "    <tr>\n",
              "      <th>9.0</th>\n",
              "      <td>89.0</td>\n",
              "      <td>1.8</td>\n",
              "    </tr>\n",
              "  </tbody>\n",
              "</table>\n",
              "</div>\n",
              "      <button class=\"colab-df-convert\" onclick=\"convertToInteractive('df-7899eaad-172c-4d55-b128-d226632219ba')\"\n",
              "              title=\"Convert this dataframe to an interactive table.\"\n",
              "              style=\"display:none;\">\n",
              "        \n",
              "  <svg xmlns=\"http://www.w3.org/2000/svg\" height=\"24px\"viewBox=\"0 0 24 24\"\n",
              "       width=\"24px\">\n",
              "    <path d=\"M0 0h24v24H0V0z\" fill=\"none\"/>\n",
              "    <path d=\"M18.56 5.44l.94 2.06.94-2.06 2.06-.94-2.06-.94-.94-2.06-.94 2.06-2.06.94zm-11 1L8.5 8.5l.94-2.06 2.06-.94-2.06-.94L8.5 2.5l-.94 2.06-2.06.94zm10 10l.94 2.06.94-2.06 2.06-.94-2.06-.94-.94-2.06-.94 2.06-2.06.94z\"/><path d=\"M17.41 7.96l-1.37-1.37c-.4-.4-.92-.59-1.43-.59-.52 0-1.04.2-1.43.59L10.3 9.45l-7.72 7.72c-.78.78-.78 2.05 0 2.83L4 21.41c.39.39.9.59 1.41.59.51 0 1.02-.2 1.41-.59l7.78-7.78 2.81-2.81c.8-.78.8-2.07 0-2.86zM5.41 20L4 18.59l7.72-7.72 1.47 1.35L5.41 20z\"/>\n",
              "  </svg>\n",
              "      </button>\n",
              "      \n",
              "  <style>\n",
              "    .colab-df-container {\n",
              "      display:flex;\n",
              "      flex-wrap:wrap;\n",
              "      gap: 12px;\n",
              "    }\n",
              "\n",
              "    .colab-df-convert {\n",
              "      background-color: #E8F0FE;\n",
              "      border: none;\n",
              "      border-radius: 50%;\n",
              "      cursor: pointer;\n",
              "      display: none;\n",
              "      fill: #1967D2;\n",
              "      height: 32px;\n",
              "      padding: 0 0 0 0;\n",
              "      width: 32px;\n",
              "    }\n",
              "\n",
              "    .colab-df-convert:hover {\n",
              "      background-color: #E2EBFA;\n",
              "      box-shadow: 0px 1px 2px rgba(60, 64, 67, 0.3), 0px 1px 3px 1px rgba(60, 64, 67, 0.15);\n",
              "      fill: #174EA6;\n",
              "    }\n",
              "\n",
              "    [theme=dark] .colab-df-convert {\n",
              "      background-color: #3B4455;\n",
              "      fill: #D2E3FC;\n",
              "    }\n",
              "\n",
              "    [theme=dark] .colab-df-convert:hover {\n",
              "      background-color: #434B5C;\n",
              "      box-shadow: 0px 1px 3px 1px rgba(0, 0, 0, 0.15);\n",
              "      filter: drop-shadow(0px 1px 2px rgba(0, 0, 0, 0.3));\n",
              "      fill: #FFFFFF;\n",
              "    }\n",
              "  </style>\n",
              "\n",
              "      <script>\n",
              "        const buttonEl =\n",
              "          document.querySelector('#df-7899eaad-172c-4d55-b128-d226632219ba button.colab-df-convert');\n",
              "        buttonEl.style.display =\n",
              "          google.colab.kernel.accessAllowed ? 'block' : 'none';\n",
              "\n",
              "        async function convertToInteractive(key) {\n",
              "          const element = document.querySelector('#df-7899eaad-172c-4d55-b128-d226632219ba');\n",
              "          const dataTable =\n",
              "            await google.colab.kernel.invokeFunction('convertToInteractive',\n",
              "                                                     [key], {});\n",
              "          if (!dataTable) return;\n",
              "\n",
              "          const docLinkHtml = 'Like what you see? Visit the ' +\n",
              "            '<a target=\"_blank\" href=https://colab.research.google.com/notebooks/data_table.ipynb>data table notebook</a>'\n",
              "            + ' to learn more about interactive tables.';\n",
              "          element.innerHTML = '';\n",
              "          dataTable['output_type'] = 'display_data';\n",
              "          await google.colab.output.renderOutput(dataTable, element);\n",
              "          const docLink = document.createElement('div');\n",
              "          docLink.innerHTML = docLinkHtml;\n",
              "          element.appendChild(docLink);\n",
              "        }\n",
              "      </script>\n",
              "    </div>\n",
              "  </div>\n",
              "  "
            ]
          },
          "metadata": {},
          "execution_count": 110
        }
      ]
    },
    {
      "cell_type": "code",
      "source": [
        "D3_result['D3_ratio'] = D3_result['D3_ratio'] * 100\n",
        "D3_result['D3_ratio'] = D3_result['D3_ratio'].round(1)\n",
        "D3_result"
      ],
      "metadata": {
        "colab": {
          "base_uri": "https://localhost:8080/",
          "height": 654
        },
        "id": "y71_KBbVHT6t",
        "outputId": "615eb4e7-50ed-4409-c5ca-fe61f4378046"
      },
      "execution_count": null,
      "outputs": [
        {
          "output_type": "stream",
          "name": "stderr",
          "text": [
            "/usr/local/lib/python3.7/dist-packages/ipykernel_launcher.py:1: SettingWithCopyWarning: \n",
            "A value is trying to be set on a copy of a slice from a DataFrame.\n",
            "Try using .loc[row_indexer,col_indexer] = value instead\n",
            "\n",
            "See the caveats in the documentation: https://pandas.pydata.org/pandas-docs/stable/user_guide/indexing.html#returning-a-view-versus-a-copy\n",
            "  \"\"\"Entry point for launching an IPython kernel.\n",
            "/usr/local/lib/python3.7/dist-packages/ipykernel_launcher.py:2: SettingWithCopyWarning: \n",
            "A value is trying to be set on a copy of a slice from a DataFrame.\n",
            "Try using .loc[row_indexer,col_indexer] = value instead\n",
            "\n",
            "See the caveats in the documentation: https://pandas.pydata.org/pandas-docs/stable/user_guide/indexing.html#returning-a-view-versus-a-copy\n",
            "  \n"
          ]
        },
        {
          "output_type": "execute_result",
          "data": {
            "text/plain": [
              "    D3_sum  D3_ratio\n",
              "1     2462      48.8\n",
              "2     2328      46.1\n",
              "3      929      18.4\n",
              "4      325       6.4\n",
              "5      920      18.2\n",
              "6      686      13.6\n",
              "7      580      11.5\n",
              "8     2796      55.4\n",
              "9      482       9.5\n",
              "10    1311      26.0\n",
              "11    2317      45.9\n",
              "12      14       0.3"
            ],
            "text/html": [
              "\n",
              "  <div id=\"df-b052def4-9fc4-491b-91df-483e4df996da\">\n",
              "    <div class=\"colab-df-container\">\n",
              "      <div>\n",
              "<style scoped>\n",
              "    .dataframe tbody tr th:only-of-type {\n",
              "        vertical-align: middle;\n",
              "    }\n",
              "\n",
              "    .dataframe tbody tr th {\n",
              "        vertical-align: top;\n",
              "    }\n",
              "\n",
              "    .dataframe thead th {\n",
              "        text-align: right;\n",
              "    }\n",
              "</style>\n",
              "<table border=\"1\" class=\"dataframe\">\n",
              "  <thead>\n",
              "    <tr style=\"text-align: right;\">\n",
              "      <th></th>\n",
              "      <th>D3_sum</th>\n",
              "      <th>D3_ratio</th>\n",
              "    </tr>\n",
              "  </thead>\n",
              "  <tbody>\n",
              "    <tr>\n",
              "      <th>1</th>\n",
              "      <td>2462</td>\n",
              "      <td>48.8</td>\n",
              "    </tr>\n",
              "    <tr>\n",
              "      <th>2</th>\n",
              "      <td>2328</td>\n",
              "      <td>46.1</td>\n",
              "    </tr>\n",
              "    <tr>\n",
              "      <th>3</th>\n",
              "      <td>929</td>\n",
              "      <td>18.4</td>\n",
              "    </tr>\n",
              "    <tr>\n",
              "      <th>4</th>\n",
              "      <td>325</td>\n",
              "      <td>6.4</td>\n",
              "    </tr>\n",
              "    <tr>\n",
              "      <th>5</th>\n",
              "      <td>920</td>\n",
              "      <td>18.2</td>\n",
              "    </tr>\n",
              "    <tr>\n",
              "      <th>6</th>\n",
              "      <td>686</td>\n",
              "      <td>13.6</td>\n",
              "    </tr>\n",
              "    <tr>\n",
              "      <th>7</th>\n",
              "      <td>580</td>\n",
              "      <td>11.5</td>\n",
              "    </tr>\n",
              "    <tr>\n",
              "      <th>8</th>\n",
              "      <td>2796</td>\n",
              "      <td>55.4</td>\n",
              "    </tr>\n",
              "    <tr>\n",
              "      <th>9</th>\n",
              "      <td>482</td>\n",
              "      <td>9.5</td>\n",
              "    </tr>\n",
              "    <tr>\n",
              "      <th>10</th>\n",
              "      <td>1311</td>\n",
              "      <td>26.0</td>\n",
              "    </tr>\n",
              "    <tr>\n",
              "      <th>11</th>\n",
              "      <td>2317</td>\n",
              "      <td>45.9</td>\n",
              "    </tr>\n",
              "    <tr>\n",
              "      <th>12</th>\n",
              "      <td>14</td>\n",
              "      <td>0.3</td>\n",
              "    </tr>\n",
              "  </tbody>\n",
              "</table>\n",
              "</div>\n",
              "      <button class=\"colab-df-convert\" onclick=\"convertToInteractive('df-b052def4-9fc4-491b-91df-483e4df996da')\"\n",
              "              title=\"Convert this dataframe to an interactive table.\"\n",
              "              style=\"display:none;\">\n",
              "        \n",
              "  <svg xmlns=\"http://www.w3.org/2000/svg\" height=\"24px\"viewBox=\"0 0 24 24\"\n",
              "       width=\"24px\">\n",
              "    <path d=\"M0 0h24v24H0V0z\" fill=\"none\"/>\n",
              "    <path d=\"M18.56 5.44l.94 2.06.94-2.06 2.06-.94-2.06-.94-.94-2.06-.94 2.06-2.06.94zm-11 1L8.5 8.5l.94-2.06 2.06-.94-2.06-.94L8.5 2.5l-.94 2.06-2.06.94zm10 10l.94 2.06.94-2.06 2.06-.94-2.06-.94-.94-2.06-.94 2.06-2.06.94z\"/><path d=\"M17.41 7.96l-1.37-1.37c-.4-.4-.92-.59-1.43-.59-.52 0-1.04.2-1.43.59L10.3 9.45l-7.72 7.72c-.78.78-.78 2.05 0 2.83L4 21.41c.39.39.9.59 1.41.59.51 0 1.02-.2 1.41-.59l7.78-7.78 2.81-2.81c.8-.78.8-2.07 0-2.86zM5.41 20L4 18.59l7.72-7.72 1.47 1.35L5.41 20z\"/>\n",
              "  </svg>\n",
              "      </button>\n",
              "      \n",
              "  <style>\n",
              "    .colab-df-container {\n",
              "      display:flex;\n",
              "      flex-wrap:wrap;\n",
              "      gap: 12px;\n",
              "    }\n",
              "\n",
              "    .colab-df-convert {\n",
              "      background-color: #E8F0FE;\n",
              "      border: none;\n",
              "      border-radius: 50%;\n",
              "      cursor: pointer;\n",
              "      display: none;\n",
              "      fill: #1967D2;\n",
              "      height: 32px;\n",
              "      padding: 0 0 0 0;\n",
              "      width: 32px;\n",
              "    }\n",
              "\n",
              "    .colab-df-convert:hover {\n",
              "      background-color: #E2EBFA;\n",
              "      box-shadow: 0px 1px 2px rgba(60, 64, 67, 0.3), 0px 1px 3px 1px rgba(60, 64, 67, 0.15);\n",
              "      fill: #174EA6;\n",
              "    }\n",
              "\n",
              "    [theme=dark] .colab-df-convert {\n",
              "      background-color: #3B4455;\n",
              "      fill: #D2E3FC;\n",
              "    }\n",
              "\n",
              "    [theme=dark] .colab-df-convert:hover {\n",
              "      background-color: #434B5C;\n",
              "      box-shadow: 0px 1px 3px 1px rgba(0, 0, 0, 0.15);\n",
              "      filter: drop-shadow(0px 1px 2px rgba(0, 0, 0, 0.3));\n",
              "      fill: #FFFFFF;\n",
              "    }\n",
              "  </style>\n",
              "\n",
              "      <script>\n",
              "        const buttonEl =\n",
              "          document.querySelector('#df-b052def4-9fc4-491b-91df-483e4df996da button.colab-df-convert');\n",
              "        buttonEl.style.display =\n",
              "          google.colab.kernel.accessAllowed ? 'block' : 'none';\n",
              "\n",
              "        async function convertToInteractive(key) {\n",
              "          const element = document.querySelector('#df-b052def4-9fc4-491b-91df-483e4df996da');\n",
              "          const dataTable =\n",
              "            await google.colab.kernel.invokeFunction('convertToInteractive',\n",
              "                                                     [key], {});\n",
              "          if (!dataTable) return;\n",
              "\n",
              "          const docLinkHtml = 'Like what you see? Visit the ' +\n",
              "            '<a target=\"_blank\" href=https://colab.research.google.com/notebooks/data_table.ipynb>data table notebook</a>'\n",
              "            + ' to learn more about interactive tables.';\n",
              "          element.innerHTML = '';\n",
              "          dataTable['output_type'] = 'display_data';\n",
              "          await google.colab.output.renderOutput(dataTable, element);\n",
              "          const docLink = document.createElement('div');\n",
              "          docLink.innerHTML = docLinkHtml;\n",
              "          element.appendChild(docLink);\n",
              "        }\n",
              "      </script>\n",
              "    </div>\n",
              "  </div>\n",
              "  "
            ]
          },
          "metadata": {},
          "execution_count": 163
        }
      ]
    },
    {
      "cell_type": "code",
      "source": [
        "# .to_csv() 활용\n",
        "A4_result\n",
        "B5_result.to_csv('/content/B5_result.csv', sep=',', na_rep='NaN' )\n",
        "D3_result.to_csv('/content/D3_result.csv', sep=',', na_rep='NaN')"
      ],
      "metadata": {
        "id": "M9oVsLKDOmQ6"
      },
      "execution_count": null,
      "outputs": []
    },
    {
      "cell_type": "markdown",
      "source": [
        "# 해야할 작업 남은 것들\n",
        "1. A4, B5의 각 번호가 의미하는 데이터를 '리포트'에서 유추해 내기! - done\n",
        "2. 하나의 그래프 당 하나의 데이터프레임을 만들어서 프론트에서 작업하기 좋게 데이터셋 구성하기 - done\n",
        "3. 미세플라스틱 원인물질, 폐기용수, GHG 배출 데이터 소스 찾기 -> 한 줄짜기 데이터 만들기 -> 도넛차트 만들기 - done\n"
      ],
      "metadata": {
        "id": "dYpxcTuFNH5Y"
      }
    },
    {
      "cell_type": "markdown",
      "source": [
        "### 미세플라스틱 1차 원인물질 - Synthetic fiber\n"
      ],
      "metadata": {
        "id": "RehriIk2JKcF"
      }
    },
    {
      "cell_type": "markdown",
      "source": [
        "데이터 프레임 만들기 (간단하게 synthetic textiles vs others) <br/>\n",
        "source: IUCN https://www.iucn.org/resources/publication/primary-microplastics-oceans <br/>\n",
        "export as .csv file"
      ],
      "metadata": {
        "id": "aBF-UfXFJRjF"
      }
    },
    {
      "cell_type": "code",
      "source": [
        "df = pd.DataFrame(columns = ['synthetic textiles', 'others'])\n",
        "df.loc[0] = [35, 65]\n",
        "print(df)\n",
        "df.to_csv('/content/microplastics.csv', sep=',', na_rep='NaN')"
      ],
      "metadata": {
        "colab": {
          "base_uri": "https://localhost:8080/"
        },
        "id": "NGghHAuiJWK-",
        "outputId": "74494bd8-b71f-4c46-a85a-8a45bc7ce262"
      },
      "execution_count": null,
      "outputs": [
        {
          "output_type": "stream",
          "name": "stdout",
          "text": [
            "  synthetic textiles others\n",
            "0                 35     65\n"
          ]
        }
      ]
    },
    {
      "cell_type": "markdown",
      "source": [
        "\n",
        "### 패션 산업 탄소배출 10% - a Donut Chart\n",
        "source: World Bank https://www.worldbank.org/en/news/feature/2019/09/23/costo-moda-medio-ambiente \n"
      ],
      "metadata": {
        "id": "jdfW_Dt7Lw20"
      }
    },
    {
      "cell_type": "code",
      "source": [
        "df1 = pd.DataFrame(columns = ['fashion industry', 'others'])\n",
        "df1.loc[0] = [10, 90]\n",
        "print(df1)\n",
        "df1.to_csv('/content/ghg_emission.csv', sep=',', na_rep='NaN')"
      ],
      "metadata": {
        "colab": {
          "base_uri": "https://localhost:8080/"
        },
        "id": "boDin794MFNs",
        "outputId": "1eaea9d8-c5d9-4d8e-bf54-5fdebded3556"
      },
      "execution_count": null,
      "outputs": [
        {
          "output_type": "stream",
          "name": "stdout",
          "text": [
            "  fashion industry others\n",
            "0               10     90\n"
          ]
        }
      ]
    },
    {
      "cell_type": "markdown",
      "source": [
        "### 패션 산업 산업용수 20% - 이것도 Donut chart\n",
        "source: worldbank (탄소배출과 소스가 같음)"
      ],
      "metadata": {
        "id": "3v5HA3rZMWkp"
      }
    },
    {
      "cell_type": "code",
      "source": [
        "df2 = pd.DataFrame(columns = ['fashion industry', 'others'])\n",
        "df2.loc[0] = [20, 80]\n",
        "print(df2)\n",
        "df2.to_csv('/content/wastewater.csv', sep=',', na_rep='NaN')"
      ],
      "metadata": {
        "colab": {
          "base_uri": "https://localhost:8080/"
        },
        "id": "sFTqbBzLMV2j",
        "outputId": "addf8884-5c2d-44b7-ee5b-95e4211a00c0"
      },
      "execution_count": null,
      "outputs": [
        {
          "output_type": "stream",
          "name": "stdout",
          "text": [
            "  fashion industry others\n",
            "0               20     80\n"
          ]
        }
      ]
    }
  ]
}